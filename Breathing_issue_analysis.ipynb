{
 "cells": [
  {
   "cell_type": "code",
   "execution_count": 1,
   "id": "e9118704",
   "metadata": {},
   "outputs": [
    {
     "name": "stdout",
     "output_type": "stream",
     "text": [
      "Requirement already satisfied: numpy in c:\\users\\mahbub\\anaconda3\\lib\\site-packages (1.21.5)\n"
     ]
    }
   ],
   "source": [
    "!pip install numpy"
   ]
  },
  {
   "cell_type": "code",
   "execution_count": 2,
   "id": "e5e6677f",
   "metadata": {},
   "outputs": [
    {
     "name": "stdout",
     "output_type": "stream",
     "text": [
      "Requirement already satisfied: pandas in c:\\users\\mahbub\\anaconda3\\lib\\site-packages (1.4.4)\n",
      "Requirement already satisfied: pytz>=2020.1 in c:\\users\\mahbub\\anaconda3\\lib\\site-packages (from pandas) (2022.1)\n",
      "Requirement already satisfied: python-dateutil>=2.8.1 in c:\\users\\mahbub\\anaconda3\\lib\\site-packages (from pandas) (2.8.2)\n",
      "Requirement already satisfied: numpy>=1.18.5 in c:\\users\\mahbub\\anaconda3\\lib\\site-packages (from pandas) (1.21.5)\n",
      "Requirement already satisfied: six>=1.5 in c:\\users\\mahbub\\anaconda3\\lib\\site-packages (from python-dateutil>=2.8.1->pandas) (1.16.0)\n"
     ]
    }
   ],
   "source": [
    "!pip install pandas"
   ]
  },
  {
   "cell_type": "code",
   "execution_count": 1,
   "id": "197fa149",
   "metadata": {},
   "outputs": [],
   "source": [
    "import numpy as np\n",
    "import pandas as pd"
   ]
  },
  {
   "cell_type": "code",
   "execution_count": 60,
   "id": "f113b3ac",
   "metadata": {},
   "outputs": [],
   "source": [
    "data = pd.read_excel('C:\\\\Users\\\\Mahbub\\\\Documents\\\\Welding\\\\Welder_health_data_collection.xlsx')\n",
    "\n",
    "df = data.copy()\n"
   ]
  },
  {
   "cell_type": "code",
   "execution_count": 61,
   "id": "cd5c8d92",
   "metadata": {},
   "outputs": [],
   "source": [
    "# option to display all the columns\n",
    "pd.set_option('display.max_columns', None)"
   ]
  },
  {
   "cell_type": "code",
   "execution_count": 62,
   "id": "15015fec",
   "metadata": {},
   "outputs": [
    {
     "data": {
      "text/html": [
       "<div>\n",
       "<style scoped>\n",
       "    .dataframe tbody tr th:only-of-type {\n",
       "        vertical-align: middle;\n",
       "    }\n",
       "\n",
       "    .dataframe tbody tr th {\n",
       "        vertical-align: top;\n",
       "    }\n",
       "\n",
       "    .dataframe thead th {\n",
       "        text-align: right;\n",
       "    }\n",
       "</style>\n",
       "<table border=\"1\" class=\"dataframe\">\n",
       "  <thead>\n",
       "    <tr style=\"text-align: right;\">\n",
       "      <th></th>\n",
       "      <th>Timestamp</th>\n",
       "      <th>Serial number: (ক্রমিক সংখ্যা)</th>\n",
       "      <th>Name: (নাম)</th>\n",
       "      <th>Age: (বয়স)</th>\n",
       "      <th>Please fill your mobile number (মোবাইল নম্বর)</th>\n",
       "      <th>If you have NID  then, please provide your NID number(NID নম্বর):</th>\n",
       "      <th>Gender (লিঙ্গ)</th>\n",
       "      <th>Please specify your profession (পেশা):</th>\n",
       "      <th>Which workshop do you work  for? (কর্মশালার নাম):</th>\n",
       "      <th>Please select your work location (কর্মস্থল):</th>\n",
       "      <th>How many years have you been working?(কাজের সময়কাল)</th>\n",
       "      <th>Have you received  previous training on welding? (ঝালাইয়ের উপর কোন পূর্ববর্তী প্রশিক্ষণ?)</th>\n",
       "      <th>What is your average daily work hour (দৈনিক কাজের গড় ঘন্টা):</th>\n",
       "      <th>Which type of welding do you do? (ঝালাইয়ের ধরন):</th>\n",
       "      <th>What is your duration span for gas welding type? ( গ্যাস \\nওয়েল্ডিং ধরনের জন্য আপনার সময়কাল কত? ):</th>\n",
       "      <th>What is your duration span for arc welding type? ( আর্ক ওয়েল্ডিং ধরনের জন্য আপনার সময়কাল কত? )</th>\n",
       "      <th>What is your process of welding ?(ক্রমাগত ঝালাই  বা বিক্ষিপ্ত ঝালাই?)</th>\n",
       "      <th>Do you use any safety tools during welding? (ঝালাইয়ের সময় নিরাপত্তা)</th>\n",
       "      <th>What type of machine are you using (মেশিনের ধরন):</th>\n",
       "      <th>\\nPlease specify your machine's current range  (বিদ্যুত্প্রবাহ পরিসর)</th>\n",
       "      <th>Did you have any breathing issues before working? ( কাজ করার আগে আপনার কি শ্বাসকষ্টের সমস্যা ছিল?)</th>\n",
       "      <th>Do you currently have any breathing issue now? (এখন কি শ্বাসকষ্ট হয়?)</th>\n",
       "      <th>Did you have any previous eyesight issue before welding? (আগের দৃষ্টির কোনো সমস্যা ছিল?)</th>\n",
       "      <th>Do you currently have eye burning issue during night? (রাতে চোখ জ্বালা পোড়ার সমস্যা হয় ?):</th>\n",
       "      <th>Do you have any face burning issue? (মুখ জ্বালা করে?):</th>\n",
       "      <th>Do you face any  headache issues after work? (কাজের পরে মাথাব্যথা করে?)</th>\n",
       "      <th>Do you face any sleeping disorder issues? (ঘুমের সমস্যা হয়?)</th>\n",
       "      <th>How many hours of sleep do you get per night?  (প্রতিদিন ঘুমের গড় সময়)</th>\n",
       "      <th>Do you have any smoking habit? (ধূমপানের অভ্যাস)</th>\n",
       "      <th>Do we have your consent on taking picture for research purpose?(গবেষণার প্রয়োজনে  ছবি তোলার ব্যাপারে আপনার সম্মতি আছে ?)</th>\n",
       "      <th>Signature (স্বাক্ষর)</th>\n",
       "      <th>Email Address</th>\n",
       "      <th>Do you have any eyesight issue now? (আপনার কি এখন দৃষ্টিশক্তির কোনো সমস্যা আছে?)</th>\n",
       "    </tr>\n",
       "  </thead>\n",
       "  <tbody>\n",
       "    <tr>\n",
       "      <th>0</th>\n",
       "      <td>2022-08-03 00:07:31.284</td>\n",
       "      <td>1</td>\n",
       "      <td>test</td>\n",
       "      <td>23</td>\n",
       "      <td>1578131456</td>\n",
       "      <td>123456766788</td>\n",
       "      <td>Male(পুরুষ)</td>\n",
       "      <td>Full time welder (পূর্ণকালীন ওয়েল্ডার)</td>\n",
       "      <td>test</td>\n",
       "      <td>Meherpur(মেহেরপুর)</td>\n",
       "      <td>6</td>\n",
       "      <td>Yes(হ্যাঁ)</td>\n",
       "      <td>7</td>\n",
       "      <td>Arc</td>\n",
       "      <td>8.0</td>\n",
       "      <td>jk</td>\n",
       "      <td>Continuous</td>\n",
       "      <td>Glass, Hand gloves</td>\n",
       "      <td>Local welding transformer</td>\n",
       "      <td>120-180 A</td>\n",
       "      <td>Yes(হ্যাঁ)</td>\n",
       "      <td>No(না)</td>\n",
       "      <td>Yes(হ্যাঁ)</td>\n",
       "      <td>Yes(হ্যাঁ)</td>\n",
       "      <td>No(না)</td>\n",
       "      <td>Yes(হ্যাঁ)</td>\n",
       "      <td>Yes(হ্যাঁ)</td>\n",
       "      <td>7</td>\n",
       "      <td>Yes(হ্যাঁ)</td>\n",
       "      <td>No(না)</td>\n",
       "      <td>https://drive.google.com/open?id=1Licqxuw7KAbU...</td>\n",
       "      <td>NaN</td>\n",
       "      <td>Yes(হ্যাঁ)</td>\n",
       "    </tr>\n",
       "    <tr>\n",
       "      <th>1</th>\n",
       "      <td>2022-08-07 23:40:18.472</td>\n",
       "      <td>1</td>\n",
       "      <td>Md.Rakib Hosen</td>\n",
       "      <td>34</td>\n",
       "      <td>1831929270</td>\n",
       "      <td>NaN</td>\n",
       "      <td>Male(পুরুষ)</td>\n",
       "      <td>Multipurpose worker (বহুমুখী কর্মী)</td>\n",
       "      <td>Rickshaw Ghar</td>\n",
       "      <td>Rajshahi(রাজশাহী)</td>\n",
       "      <td>18</td>\n",
       "      <td>No(না)</td>\n",
       "      <td>10</td>\n",
       "      <td>Arc</td>\n",
       "      <td>1.0</td>\n",
       "      <td>18</td>\n",
       "      <td>Tacking</td>\n",
       "      <td>Glass</td>\n",
       "      <td>Local welding transformer</td>\n",
       "      <td>120-180 A</td>\n",
       "      <td>No(না)</td>\n",
       "      <td>No(না)</td>\n",
       "      <td>No(না)</td>\n",
       "      <td>No(না)</td>\n",
       "      <td>Yes(হ্যাঁ)</td>\n",
       "      <td>Yes(হ্যাঁ)</td>\n",
       "      <td>No(না)</td>\n",
       "      <td>8</td>\n",
       "      <td>No(না)</td>\n",
       "      <td>Yes(হ্যাঁ)</td>\n",
       "      <td>https://drive.google.com/open?id=1jp6cyHUfxDPU...</td>\n",
       "      <td>Oviru98@gmail.com</td>\n",
       "      <td>Yes(হ্যাঁ)</td>\n",
       "    </tr>\n",
       "    <tr>\n",
       "      <th>2</th>\n",
       "      <td>2022-08-07 23:54:15.825</td>\n",
       "      <td>2</td>\n",
       "      <td>Md.Simul Islam</td>\n",
       "      <td>22</td>\n",
       "      <td>1409180812</td>\n",
       "      <td>NaN</td>\n",
       "      <td>Male(পুরুষ)</td>\n",
       "      <td>Full time welder (পূর্ণকালীন ওয়েল্ডার)</td>\n",
       "      <td>Rojoni Engineering Workshop</td>\n",
       "      <td>Rajshahi(রাজশাহী)</td>\n",
       "      <td>10</td>\n",
       "      <td>No(না)</td>\n",
       "      <td>9</td>\n",
       "      <td>Arc</td>\n",
       "      <td>NaN</td>\n",
       "      <td>10</td>\n",
       "      <td>Tacking</td>\n",
       "      <td>Glass</td>\n",
       "      <td>Both</td>\n",
       "      <td>120-180 A</td>\n",
       "      <td>No(না)</td>\n",
       "      <td>No(না)</td>\n",
       "      <td>No(না)</td>\n",
       "      <td>Yes(হ্যাঁ)</td>\n",
       "      <td>Yes(হ্যাঁ)</td>\n",
       "      <td>Yes(হ্যাঁ)</td>\n",
       "      <td>No(না)</td>\n",
       "      <td>9</td>\n",
       "      <td>Yes(হ্যাঁ)</td>\n",
       "      <td>Yes(হ্যাঁ)</td>\n",
       "      <td>https://drive.google.com/open?id=1loimJ1x8AYbs...</td>\n",
       "      <td>oviru98@gmail.com</td>\n",
       "      <td>Yes(হ্যাঁ)</td>\n",
       "    </tr>\n",
       "    <tr>\n",
       "      <th>3</th>\n",
       "      <td>2022-08-08 00:00:57.811</td>\n",
       "      <td>3</td>\n",
       "      <td>Akter Hosen</td>\n",
       "      <td>45</td>\n",
       "      <td>1785616409</td>\n",
       "      <td>NaN</td>\n",
       "      <td>Male(পুরুষ)</td>\n",
       "      <td>Full time welder (পূর্ণকালীন ওয়েল্ডার)</td>\n",
       "      <td>Rajoni Engineering workshop</td>\n",
       "      <td>Rajshahi(রাজশাহী)</td>\n",
       "      <td>30</td>\n",
       "      <td>No(না)</td>\n",
       "      <td>9</td>\n",
       "      <td>Arc</td>\n",
       "      <td>10.0</td>\n",
       "      <td>20</td>\n",
       "      <td>Tacking</td>\n",
       "      <td>Glass, Hand gloves</td>\n",
       "      <td>Both</td>\n",
       "      <td>120-180 A</td>\n",
       "      <td>No(না)</td>\n",
       "      <td>No(না)</td>\n",
       "      <td>No(না)</td>\n",
       "      <td>Yes(হ্যাঁ)</td>\n",
       "      <td>Yes(হ্যাঁ)</td>\n",
       "      <td>Yes(হ্যাঁ)</td>\n",
       "      <td>No(না)</td>\n",
       "      <td>8</td>\n",
       "      <td>No(না)</td>\n",
       "      <td>Yes(হ্যাঁ)</td>\n",
       "      <td>https://drive.google.com/open?id=15_pKkpzWGl7y...</td>\n",
       "      <td>Oviru98@gmail.com</td>\n",
       "      <td>Yes(হ্যাঁ)</td>\n",
       "    </tr>\n",
       "    <tr>\n",
       "      <th>4</th>\n",
       "      <td>2022-08-08 07:48:09.550</td>\n",
       "      <td>4</td>\n",
       "      <td>Md.Roni Islam</td>\n",
       "      <td>24</td>\n",
       "      <td>1405860884</td>\n",
       "      <td>NaN</td>\n",
       "      <td>Male(পুরুষ)</td>\n",
       "      <td>Full time welder (পূর্ণকালীন ওয়েল্ডার)</td>\n",
       "      <td>Bisal Engineering workshop</td>\n",
       "      <td>Rajshahi(রাজশাহী)</td>\n",
       "      <td>10</td>\n",
       "      <td>No(না)</td>\n",
       "      <td>9</td>\n",
       "      <td>Arc</td>\n",
       "      <td>NaN</td>\n",
       "      <td>10</td>\n",
       "      <td>Tacking</td>\n",
       "      <td>Glass</td>\n",
       "      <td>Both</td>\n",
       "      <td>120-180 A</td>\n",
       "      <td>No(না)</td>\n",
       "      <td>No(না)</td>\n",
       "      <td>No(না)</td>\n",
       "      <td>Yes(হ্যাঁ)</td>\n",
       "      <td>Yes(হ্যাঁ)</td>\n",
       "      <td>Yes(হ্যাঁ)</td>\n",
       "      <td>Yes(হ্যাঁ)</td>\n",
       "      <td>9</td>\n",
       "      <td>No(না)</td>\n",
       "      <td>Yes(হ্যাঁ)</td>\n",
       "      <td>https://drive.google.com/open?id=1tRd02sDelsE0...</td>\n",
       "      <td>Oviru98@gmail.com</td>\n",
       "      <td>Yes(হ্যাঁ)</td>\n",
       "    </tr>\n",
       "  </tbody>\n",
       "</table>\n",
       "</div>"
      ],
      "text/plain": [
       "                Timestamp  Serial number: (ক্রমিক সংখ্যা)     Name: (নাম)  \\\n",
       "0 2022-08-03 00:07:31.284                               1            test   \n",
       "1 2022-08-07 23:40:18.472                               1  Md.Rakib Hosen   \n",
       "2 2022-08-07 23:54:15.825                               2  Md.Simul Islam   \n",
       "3 2022-08-08 00:00:57.811                               3     Akter Hosen   \n",
       "4 2022-08-08 07:48:09.550                               4   Md.Roni Islam   \n",
       "\n",
       "   Age: (বয়স)  Please fill your mobile number (মোবাইল নম্বর)  \\\n",
       "0           23                                     1578131456   \n",
       "1           34                                     1831929270   \n",
       "2           22                                     1409180812   \n",
       "3           45                                     1785616409   \n",
       "4           24                                     1405860884   \n",
       "\n",
       "  If you have NID  then, please provide your NID number(NID নম্বর):  \\\n",
       "0                                       123456766788                  \n",
       "1                                                NaN                  \n",
       "2                                                NaN                  \n",
       "3                                                NaN                  \n",
       "4                                                NaN                  \n",
       "\n",
       "  Gender (লিঙ্গ)   Please specify your profession (পেশা):  \\\n",
       "0    Male(পুরুষ)  Full time welder (পূর্ণকালীন ওয়েল্ডার)   \n",
       "1    Male(পুরুষ)      Multipurpose worker (বহুমুখী কর্মী)   \n",
       "2    Male(পুরুষ)  Full time welder (পূর্ণকালীন ওয়েল্ডার)   \n",
       "3    Male(পুরুষ)  Full time welder (পূর্ণকালীন ওয়েল্ডার)   \n",
       "4    Male(পুরুষ)  Full time welder (পূর্ণকালীন ওয়েল্ডার)   \n",
       "\n",
       "  Which workshop do you work  for? (কর্মশালার নাম):  \\\n",
       "0                                              test   \n",
       "1                                     Rickshaw Ghar   \n",
       "2                      Rojoni Engineering Workshop    \n",
       "3                      Rajoni Engineering workshop    \n",
       "4                        Bisal Engineering workshop   \n",
       "\n",
       "  Please select your work location (কর্মস্থল):  \\\n",
       "0                           Meherpur(মেহেরপুর)   \n",
       "1                            Rajshahi(রাজশাহী)   \n",
       "2                            Rajshahi(রাজশাহী)   \n",
       "3                            Rajshahi(রাজশাহী)   \n",
       "4                            Rajshahi(রাজশাহী)   \n",
       "\n",
       "   How many years have you been working?(কাজের সময়কাল)  \\\n",
       "0                                                  6      \n",
       "1                                                 18      \n",
       "2                                                 10      \n",
       "3                                                 30      \n",
       "4                                                 10      \n",
       "\n",
       "  Have you received  previous training on welding? (ঝালাইয়ের উপর কোন পূর্ববর্তী প্রশিক্ষণ?)  \\\n",
       "0                                         Yes(হ্যাঁ)                                          \n",
       "1                                             No(না)                                          \n",
       "2                                             No(না)                                          \n",
       "3                                             No(না)                                          \n",
       "4                                             No(না)                                          \n",
       "\n",
       "   What is your average daily work hour (দৈনিক কাজের গড় ঘন্টা):  \\\n",
       "0                                                  7               \n",
       "1                                                 10               \n",
       "2                                                  9               \n",
       "3                                                  9               \n",
       "4                                                  9               \n",
       "\n",
       "  Which type of welding do you do? (ঝালাইয়ের ধরন):  \\\n",
       "0                                              Arc   \n",
       "1                                              Arc   \n",
       "2                                              Arc   \n",
       "3                                              Arc   \n",
       "4                                              Arc   \n",
       "\n",
       "   What is your duration span for gas welding type? ( গ্যাস \\nওয়েল্ডিং ধরনের জন্য আপনার সময়কাল কত? ):  \\\n",
       "0                                                8.0                                                      \n",
       "1                                                1.0                                                      \n",
       "2                                                NaN                                                      \n",
       "3                                               10.0                                                      \n",
       "4                                                NaN                                                      \n",
       "\n",
       "  What is your duration span for arc welding type? ( আর্ক ওয়েল্ডিং ধরনের জন্য আপনার সময়কাল কত? )  \\\n",
       "0                                                 jk                                                 \n",
       "1                                                 18                                                 \n",
       "2                                                 10                                                 \n",
       "3                                                 20                                                 \n",
       "4                                                 10                                                 \n",
       "\n",
       "  What is your process of welding ?(ক্রমাগত ঝালাই  বা বিক্ষিপ্ত ঝালাই?)  \\\n",
       "0                                         Continuous                      \n",
       "1                                            Tacking                      \n",
       "2                                            Tacking                      \n",
       "3                                            Tacking                      \n",
       "4                                            Tacking                      \n",
       "\n",
       "  Do you use any safety tools during welding? (ঝালাইয়ের সময় নিরাপত্তা)  \\\n",
       "0                                 Glass, Hand gloves                      \n",
       "1                                              Glass                      \n",
       "2                                              Glass                      \n",
       "3                                 Glass, Hand gloves                      \n",
       "4                                              Glass                      \n",
       "\n",
       "  What type of machine are you using (মেশিনের ধরন):  \\\n",
       "0                         Local welding transformer   \n",
       "1                         Local welding transformer   \n",
       "2                                              Both   \n",
       "3                                              Both   \n",
       "4                                              Both   \n",
       "\n",
       "  \\nPlease specify your machine's current range  (বিদ্যুত্প্রবাহ পরিসর)  \\\n",
       "0                                          120-180 A                      \n",
       "1                                          120-180 A                      \n",
       "2                                          120-180 A                      \n",
       "3                                          120-180 A                      \n",
       "4                                          120-180 A                      \n",
       "\n",
       "  Did you have any breathing issues before working? ( কাজ করার আগে আপনার কি শ্বাসকষ্টের সমস্যা ছিল?)  \\\n",
       "0                                         Yes(হ্যাঁ)                                                   \n",
       "1                                             No(না)                                                   \n",
       "2                                             No(না)                                                   \n",
       "3                                             No(না)                                                   \n",
       "4                                             No(না)                                                   \n",
       "\n",
       "  Do you currently have any breathing issue now? (এখন কি শ্বাসকষ্ট হয়?)  \\\n",
       "0                                             No(না)                      \n",
       "1                                             No(না)                      \n",
       "2                                             No(না)                      \n",
       "3                                             No(না)                      \n",
       "4                                             No(না)                      \n",
       "\n",
       "  Did you have any previous eyesight issue before welding? (আগের দৃষ্টির কোনো সমস্যা ছিল?)  \\\n",
       "0                                         Yes(হ্যাঁ)                                         \n",
       "1                                             No(না)                                         \n",
       "2                                             No(না)                                         \n",
       "3                                             No(না)                                         \n",
       "4                                             No(না)                                         \n",
       "\n",
       "  Do you currently have eye burning issue during night? (রাতে চোখ জ্বালা পোড়ার সমস্যা হয় ?):  \\\n",
       "0                                         Yes(হ্যাঁ)                                             \n",
       "1                                             No(না)                                             \n",
       "2                                         Yes(হ্যাঁ)                                             \n",
       "3                                         Yes(হ্যাঁ)                                             \n",
       "4                                         Yes(হ্যাঁ)                                             \n",
       "\n",
       "  Do you have any face burning issue? (মুখ জ্বালা করে?):  \\\n",
       "0                                             No(না)       \n",
       "1                                         Yes(হ্যাঁ)       \n",
       "2                                         Yes(হ্যাঁ)       \n",
       "3                                         Yes(হ্যাঁ)       \n",
       "4                                         Yes(হ্যাঁ)       \n",
       "\n",
       "  Do you face any  headache issues after work? (কাজের পরে মাথাব্যথা করে?)  \\\n",
       "0                                         Yes(হ্যাঁ)                        \n",
       "1                                         Yes(হ্যাঁ)                        \n",
       "2                                         Yes(হ্যাঁ)                        \n",
       "3                                         Yes(হ্যাঁ)                        \n",
       "4                                         Yes(হ্যাঁ)                        \n",
       "\n",
       "  Do you face any sleeping disorder issues? (ঘুমের সমস্যা হয়?)  \\\n",
       "0                                         Yes(হ্যাঁ)             \n",
       "1                                             No(না)             \n",
       "2                                             No(না)             \n",
       "3                                             No(না)             \n",
       "4                                         Yes(হ্যাঁ)             \n",
       "\n",
       "   How many hours of sleep do you get per night?  (প্রতিদিন ঘুমের গড় সময়)  \\\n",
       "0                                                  7                          \n",
       "1                                                  8                          \n",
       "2                                                  9                          \n",
       "3                                                  8                          \n",
       "4                                                  9                          \n",
       "\n",
       "  Do you have any smoking habit? (ধূমপানের অভ্যাস)  \\\n",
       "0                                       Yes(হ্যাঁ)   \n",
       "1                                           No(না)   \n",
       "2                                       Yes(হ্যাঁ)   \n",
       "3                                           No(না)   \n",
       "4                                           No(না)   \n",
       "\n",
       "  Do we have your consent on taking picture for research purpose?(গবেষণার প্রয়োজনে  ছবি তোলার ব্যাপারে আপনার সম্মতি আছে ?)  \\\n",
       "0                                             No(না)                                                                         \n",
       "1                                         Yes(হ্যাঁ)                                                                         \n",
       "2                                         Yes(হ্যাঁ)                                                                         \n",
       "3                                         Yes(হ্যাঁ)                                                                         \n",
       "4                                         Yes(হ্যাঁ)                                                                         \n",
       "\n",
       "                                Signature (স্বাক্ষর)      Email Address  \\\n",
       "0  https://drive.google.com/open?id=1Licqxuw7KAbU...                NaN   \n",
       "1  https://drive.google.com/open?id=1jp6cyHUfxDPU...  Oviru98@gmail.com   \n",
       "2  https://drive.google.com/open?id=1loimJ1x8AYbs...  oviru98@gmail.com   \n",
       "3  https://drive.google.com/open?id=15_pKkpzWGl7y...  Oviru98@gmail.com   \n",
       "4  https://drive.google.com/open?id=1tRd02sDelsE0...  Oviru98@gmail.com   \n",
       "\n",
       "  Do you have any eyesight issue now? (আপনার কি এখন দৃষ্টিশক্তির কোনো সমস্যা আছে?)  \n",
       "0                                         Yes(হ্যাঁ)                                \n",
       "1                                         Yes(হ্যাঁ)                                \n",
       "2                                         Yes(হ্যাঁ)                                \n",
       "3                                         Yes(হ্যাঁ)                                \n",
       "4                                         Yes(হ্যাঁ)                                "
      ]
     },
     "execution_count": 62,
     "metadata": {},
     "output_type": "execute_result"
    }
   ],
   "source": [
    "df.head()"
   ]
  },
  {
   "cell_type": "code",
   "execution_count": 63,
   "id": "1bd2ae79",
   "metadata": {},
   "outputs": [
    {
     "data": {
      "text/plain": [
       "Index(['Timestamp', 'Serial number: (ক্রমিক সংখ্যা)', 'Name: (নাম)',\n",
       "       'Age: (বয়স)', 'Please fill your mobile number (মোবাইল নম্বর)',\n",
       "       'If you have NID  then, please provide your NID number(NID নম্বর):',\n",
       "       'Gender (লিঙ্গ)', 'Please specify your profession (পেশা):',\n",
       "       'Which workshop do you work  for? (কর্মশালার নাম):',\n",
       "       'Please select your work location (কর্মস্থল):',\n",
       "       'How many years have you been working?(কাজের সময়কাল)',\n",
       "       'Have you received  previous training on welding? (ঝালাইয়ের উপর কোন পূর্ববর্তী প্রশিক্ষণ?)',\n",
       "       'What is your average daily work hour (দৈনিক কাজের গড় ঘন্টা):',\n",
       "       'Which type of welding do you do? (ঝালাইয়ের ধরন):',\n",
       "       'What is your duration span for gas welding type? ( গ্যাস \\nওয়েল্ডিং ধরনের জন্য আপনার সময়কাল কত? ):',\n",
       "       'What is your duration span for arc welding type? ( আর্ক ওয়েল্ডিং ধরনের জন্য আপনার সময়কাল কত? )',\n",
       "       'What is your process of welding ?(ক্রমাগত ঝালাই  বা বিক্ষিপ্ত ঝালাই?)',\n",
       "       'Do you use any safety tools during welding? (ঝালাইয়ের সময় নিরাপত্তা)',\n",
       "       'What type of machine are you using (মেশিনের ধরন):',\n",
       "       '\\nPlease specify your machine's current range  (বিদ্যুত্প্রবাহ পরিসর)',\n",
       "       'Did you have any breathing issues before working? ( কাজ করার আগে আপনার কি শ্বাসকষ্টের সমস্যা ছিল?)',\n",
       "       'Do you currently have any breathing issue now? (এখন কি শ্বাসকষ্ট হয়?)',\n",
       "       'Did you have any previous eyesight issue before welding? (আগের দৃষ্টির কোনো সমস্যা ছিল?)',\n",
       "       'Do you currently have eye burning issue during night? (রাতে চোখ জ্বালা পোড়ার সমস্যা হয় ?):',\n",
       "       'Do you have any face burning issue? (মুখ জ্বালা করে?):',\n",
       "       'Do you face any  headache issues after work? (কাজের পরে মাথাব্যথা করে?)',\n",
       "       'Do you face any sleeping disorder issues? (ঘুমের সমস্যা হয়?)',\n",
       "       'How many hours of sleep do you get per night?  (প্রতিদিন ঘুমের গড় সময়)',\n",
       "       'Do you have any smoking habit? (ধূমপানের অভ্যাস)',\n",
       "       'Do we have your consent on taking picture for research purpose?(গবেষণার প্রয়োজনে  ছবি তোলার ব্যাপারে আপনার সম্মতি আছে ?)',\n",
       "       'Signature (স্বাক্ষর)', 'Email Address',\n",
       "       'Do you have any eyesight issue now? (আপনার কি এখন দৃষ্টিশক্তির কোনো সমস্যা আছে?)'],\n",
       "      dtype='object')"
      ]
     },
     "execution_count": 63,
     "metadata": {},
     "output_type": "execute_result"
    }
   ],
   "source": [
    "df.columns"
   ]
  },
  {
   "cell_type": "markdown",
   "id": "c084ae93",
   "metadata": {},
   "source": [
    "# Breathing Issue"
   ]
  },
  {
   "cell_type": "code",
   "execution_count": 64,
   "id": "4f590665",
   "metadata": {},
   "outputs": [],
   "source": [
    "breathing_issue_data = df[['Name: (নাম)','Age: (বয়স)','Gender (লিঙ্গ)','Please specify your profession (পেশা):',\n",
    "    \n",
    "   'How many years have you been working?(কাজের সময়কাল)',\n",
    "   \n",
    "   'What is your average daily work hour (দৈনিক কাজের গড় ঘন্টা):',\n",
    "   'Which type of welding do you do? (ঝালাইয়ের ধরন):',\n",
    "   'What is your duration span for gas welding type? ( গ্যাস \\nওয়েল্ডিং ধরনের জন্য আপনার সময়কাল কত? ):',\n",
    "   'What is your duration span for arc welding type? ( আর্ক ওয়েল্ডিং ধরনের জন্য আপনার সময়কাল কত? )',\n",
    "   'What is your process of welding ?(ক্রমাগত ঝালাই  বা বিক্ষিপ্ত ঝালাই?)',\n",
    "   'Do you use any safety tools during welding? (ঝালাইয়ের সময় নিরাপত্তা)',\n",
    "   \"\\nPlease specify your machine's current range  (বিদ্যুত্প্রবাহ পরিসর)\",\n",
    "   'Did you have any breathing issues before working? ( কাজ করার আগে আপনার কি শ্বাসকষ্টের সমস্যা ছিল?)',\n",
    "   'Do you currently have any breathing issue now? (এখন কি শ্বাসকষ্ট হয়?)',\n",
    "   'Do you have any smoking habit? (ধূমপানের অভ্যাস)',\n",
    "   ]]"
   ]
  },
  {
   "cell_type": "code",
   "execution_count": 65,
   "id": "f8de1e40",
   "metadata": {},
   "outputs": [
    {
     "data": {
      "text/html": [
       "<div>\n",
       "<style scoped>\n",
       "    .dataframe tbody tr th:only-of-type {\n",
       "        vertical-align: middle;\n",
       "    }\n",
       "\n",
       "    .dataframe tbody tr th {\n",
       "        vertical-align: top;\n",
       "    }\n",
       "\n",
       "    .dataframe thead th {\n",
       "        text-align: right;\n",
       "    }\n",
       "</style>\n",
       "<table border=\"1\" class=\"dataframe\">\n",
       "  <thead>\n",
       "    <tr style=\"text-align: right;\">\n",
       "      <th></th>\n",
       "      <th>Name</th>\n",
       "      <th>Age</th>\n",
       "      <th>Gender</th>\n",
       "      <th>Profession</th>\n",
       "      <th>Years of experience</th>\n",
       "      <th>Average work hour(Daily)</th>\n",
       "      <th>Type of welding</th>\n",
       "      <th>Duration span for gas welding</th>\n",
       "      <th>Duration span for arc welding</th>\n",
       "      <th>Process of welding</th>\n",
       "      <th>Use of safety tools</th>\n",
       "      <th>Machine current range</th>\n",
       "      <th>Breathing issues before welding work</th>\n",
       "      <th>Currently having any breathing issue</th>\n",
       "      <th>Smoking havit</th>\n",
       "    </tr>\n",
       "  </thead>\n",
       "  <tbody>\n",
       "    <tr>\n",
       "      <th>0</th>\n",
       "      <td>test</td>\n",
       "      <td>23</td>\n",
       "      <td>Male(পুরুষ)</td>\n",
       "      <td>Full time welder (পূর্ণকালীন ওয়েল্ডার)</td>\n",
       "      <td>6</td>\n",
       "      <td>7</td>\n",
       "      <td>Arc</td>\n",
       "      <td>8.0</td>\n",
       "      <td>jk</td>\n",
       "      <td>Continuous</td>\n",
       "      <td>Glass, Hand gloves</td>\n",
       "      <td>120-180 A</td>\n",
       "      <td>Yes(হ্যাঁ)</td>\n",
       "      <td>No(না)</td>\n",
       "      <td>Yes(হ্যাঁ)</td>\n",
       "    </tr>\n",
       "    <tr>\n",
       "      <th>1</th>\n",
       "      <td>Md.Rakib Hosen</td>\n",
       "      <td>34</td>\n",
       "      <td>Male(পুরুষ)</td>\n",
       "      <td>Multipurpose worker (বহুমুখী কর্মী)</td>\n",
       "      <td>18</td>\n",
       "      <td>10</td>\n",
       "      <td>Arc</td>\n",
       "      <td>1.0</td>\n",
       "      <td>18</td>\n",
       "      <td>Tacking</td>\n",
       "      <td>Glass</td>\n",
       "      <td>120-180 A</td>\n",
       "      <td>No(না)</td>\n",
       "      <td>No(না)</td>\n",
       "      <td>No(না)</td>\n",
       "    </tr>\n",
       "    <tr>\n",
       "      <th>2</th>\n",
       "      <td>Md.Simul Islam</td>\n",
       "      <td>22</td>\n",
       "      <td>Male(পুরুষ)</td>\n",
       "      <td>Full time welder (পূর্ণকালীন ওয়েল্ডার)</td>\n",
       "      <td>10</td>\n",
       "      <td>9</td>\n",
       "      <td>Arc</td>\n",
       "      <td>NaN</td>\n",
       "      <td>10</td>\n",
       "      <td>Tacking</td>\n",
       "      <td>Glass</td>\n",
       "      <td>120-180 A</td>\n",
       "      <td>No(না)</td>\n",
       "      <td>No(না)</td>\n",
       "      <td>Yes(হ্যাঁ)</td>\n",
       "    </tr>\n",
       "    <tr>\n",
       "      <th>3</th>\n",
       "      <td>Akter Hosen</td>\n",
       "      <td>45</td>\n",
       "      <td>Male(পুরুষ)</td>\n",
       "      <td>Full time welder (পূর্ণকালীন ওয়েল্ডার)</td>\n",
       "      <td>30</td>\n",
       "      <td>9</td>\n",
       "      <td>Arc</td>\n",
       "      <td>10.0</td>\n",
       "      <td>20</td>\n",
       "      <td>Tacking</td>\n",
       "      <td>Glass, Hand gloves</td>\n",
       "      <td>120-180 A</td>\n",
       "      <td>No(না)</td>\n",
       "      <td>No(না)</td>\n",
       "      <td>No(না)</td>\n",
       "    </tr>\n",
       "    <tr>\n",
       "      <th>4</th>\n",
       "      <td>Md.Roni Islam</td>\n",
       "      <td>24</td>\n",
       "      <td>Male(পুরুষ)</td>\n",
       "      <td>Full time welder (পূর্ণকালীন ওয়েল্ডার)</td>\n",
       "      <td>10</td>\n",
       "      <td>9</td>\n",
       "      <td>Arc</td>\n",
       "      <td>NaN</td>\n",
       "      <td>10</td>\n",
       "      <td>Tacking</td>\n",
       "      <td>Glass</td>\n",
       "      <td>120-180 A</td>\n",
       "      <td>No(না)</td>\n",
       "      <td>No(না)</td>\n",
       "      <td>No(না)</td>\n",
       "    </tr>\n",
       "    <tr>\n",
       "      <th>...</th>\n",
       "      <td>...</td>\n",
       "      <td>...</td>\n",
       "      <td>...</td>\n",
       "      <td>...</td>\n",
       "      <td>...</td>\n",
       "      <td>...</td>\n",
       "      <td>...</td>\n",
       "      <td>...</td>\n",
       "      <td>...</td>\n",
       "      <td>...</td>\n",
       "      <td>...</td>\n",
       "      <td>...</td>\n",
       "      <td>...</td>\n",
       "      <td>...</td>\n",
       "      <td>...</td>\n",
       "    </tr>\n",
       "    <tr>\n",
       "      <th>330</th>\n",
       "      <td>Md.Efad</td>\n",
       "      <td>25</td>\n",
       "      <td>Male(পুরুষ)</td>\n",
       "      <td>Full time welder (পূর্ণকালীন ওয়েল্ডার)</td>\n",
       "      <td>10</td>\n",
       "      <td>11</td>\n",
       "      <td>Both</td>\n",
       "      <td>5.0</td>\n",
       "      <td>6</td>\n",
       "      <td>Continuous</td>\n",
       "      <td>Glass, Hand gloves</td>\n",
       "      <td>120-180 A</td>\n",
       "      <td>No(না)</td>\n",
       "      <td>Yes(হ্যাঁ)</td>\n",
       "      <td>Yes(হ্যাঁ)</td>\n",
       "    </tr>\n",
       "    <tr>\n",
       "      <th>331</th>\n",
       "      <td>Md. Aminul</td>\n",
       "      <td>16</td>\n",
       "      <td>Male(পুরুষ)</td>\n",
       "      <td>Full time welder (পূর্ণকালীন ওয়েল্ডার)</td>\n",
       "      <td>5</td>\n",
       "      <td>8</td>\n",
       "      <td>Both</td>\n",
       "      <td>2.0</td>\n",
       "      <td>6</td>\n",
       "      <td>Continuous</td>\n",
       "      <td>Glass</td>\n",
       "      <td>&lt;120 A</td>\n",
       "      <td>No(না)</td>\n",
       "      <td>Yes(হ্যাঁ)</td>\n",
       "      <td>No(না)</td>\n",
       "    </tr>\n",
       "    <tr>\n",
       "      <th>332</th>\n",
       "      <td>Abdul halim</td>\n",
       "      <td>18</td>\n",
       "      <td>Male(পুরুষ)</td>\n",
       "      <td>Full time welder (পূর্ণকালীন ওয়েল্ডার)</td>\n",
       "      <td>8</td>\n",
       "      <td>10</td>\n",
       "      <td>Both</td>\n",
       "      <td>2.0</td>\n",
       "      <td>8</td>\n",
       "      <td>Continuous</td>\n",
       "      <td>Glass, Hand gloves</td>\n",
       "      <td>&lt;120 A</td>\n",
       "      <td>No(না)</td>\n",
       "      <td>No(না)</td>\n",
       "      <td>Yes(হ্যাঁ)</td>\n",
       "    </tr>\n",
       "    <tr>\n",
       "      <th>333</th>\n",
       "      <td>Md. Milon Ahemad</td>\n",
       "      <td>17</td>\n",
       "      <td>Male(পুরুষ)</td>\n",
       "      <td>Full time welder (পূর্ণকালীন ওয়েল্ডার)</td>\n",
       "      <td>5</td>\n",
       "      <td>9</td>\n",
       "      <td>Arc</td>\n",
       "      <td>5.0</td>\n",
       "      <td>4</td>\n",
       "      <td>Tacking</td>\n",
       "      <td>Glass</td>\n",
       "      <td>120-180 A</td>\n",
       "      <td>No(না)</td>\n",
       "      <td>No(না)</td>\n",
       "      <td>No(না)</td>\n",
       "    </tr>\n",
       "    <tr>\n",
       "      <th>334</th>\n",
       "      <td>Nurul Islam</td>\n",
       "      <td>55</td>\n",
       "      <td>Male(পুরুষ)</td>\n",
       "      <td>Full time welder (পূর্ণকালীন ওয়েল্ডার)</td>\n",
       "      <td>35</td>\n",
       "      <td>8</td>\n",
       "      <td>Arc</td>\n",
       "      <td>1.0</td>\n",
       "      <td>8</td>\n",
       "      <td>Continuous</td>\n",
       "      <td>Glass, Without Safety</td>\n",
       "      <td>&lt;120 A</td>\n",
       "      <td>Yes(হ্যাঁ)</td>\n",
       "      <td>Yes(হ্যাঁ)</td>\n",
       "      <td>Yes(হ্যাঁ)</td>\n",
       "    </tr>\n",
       "  </tbody>\n",
       "</table>\n",
       "<p>335 rows × 15 columns</p>\n",
       "</div>"
      ],
      "text/plain": [
       "                 Name  Age       Gender  \\\n",
       "0                test   23  Male(পুরুষ)   \n",
       "1      Md.Rakib Hosen   34  Male(পুরুষ)   \n",
       "2      Md.Simul Islam   22  Male(পুরুষ)   \n",
       "3         Akter Hosen   45  Male(পুরুষ)   \n",
       "4       Md.Roni Islam   24  Male(পুরুষ)   \n",
       "..                ...  ...          ...   \n",
       "330           Md.Efad   25  Male(পুরুষ)   \n",
       "331        Md. Aminul   16  Male(পুরুষ)   \n",
       "332       Abdul halim   18  Male(পুরুষ)   \n",
       "333  Md. Milon Ahemad   17  Male(পুরুষ)   \n",
       "334       Nurul Islam   55  Male(পুরুষ)   \n",
       "\n",
       "                                  Profession  Years of experience  \\\n",
       "0    Full time welder (পূর্ণকালীন ওয়েল্ডার)                    6   \n",
       "1        Multipurpose worker (বহুমুখী কর্মী)                   18   \n",
       "2    Full time welder (পূর্ণকালীন ওয়েল্ডার)                   10   \n",
       "3    Full time welder (পূর্ণকালীন ওয়েল্ডার)                   30   \n",
       "4    Full time welder (পূর্ণকালীন ওয়েল্ডার)                   10   \n",
       "..                                       ...                  ...   \n",
       "330  Full time welder (পূর্ণকালীন ওয়েল্ডার)                   10   \n",
       "331  Full time welder (পূর্ণকালীন ওয়েল্ডার)                    5   \n",
       "332  Full time welder (পূর্ণকালীন ওয়েল্ডার)                    8   \n",
       "333  Full time welder (পূর্ণকালীন ওয়েল্ডার)                    5   \n",
       "334  Full time welder (পূর্ণকালীন ওয়েল্ডার)                   35   \n",
       "\n",
       "     Average work hour(Daily) Type of welding  Duration span for gas welding  \\\n",
       "0                           7             Arc                            8.0   \n",
       "1                          10             Arc                            1.0   \n",
       "2                           9             Arc                            NaN   \n",
       "3                           9             Arc                           10.0   \n",
       "4                           9             Arc                            NaN   \n",
       "..                        ...             ...                            ...   \n",
       "330                        11            Both                            5.0   \n",
       "331                         8            Both                            2.0   \n",
       "332                        10            Both                            2.0   \n",
       "333                         9             Arc                            5.0   \n",
       "334                         8             Arc                            1.0   \n",
       "\n",
       "    Duration span for arc welding Process of welding    Use of safety tools  \\\n",
       "0                              jk         Continuous     Glass, Hand gloves   \n",
       "1                              18            Tacking                  Glass   \n",
       "2                              10            Tacking                  Glass   \n",
       "3                              20            Tacking     Glass, Hand gloves   \n",
       "4                              10            Tacking                  Glass   \n",
       "..                            ...                ...                    ...   \n",
       "330                             6         Continuous     Glass, Hand gloves   \n",
       "331                             6         Continuous                  Glass   \n",
       "332                             8         Continuous     Glass, Hand gloves   \n",
       "333                             4            Tacking                  Glass   \n",
       "334                             8         Continuous  Glass, Without Safety   \n",
       "\n",
       "    Machine current range Breathing issues before welding work  \\\n",
       "0               120-180 A                           Yes(হ্যাঁ)   \n",
       "1               120-180 A                               No(না)   \n",
       "2               120-180 A                               No(না)   \n",
       "3               120-180 A                               No(না)   \n",
       "4               120-180 A                               No(না)   \n",
       "..                    ...                                  ...   \n",
       "330             120-180 A                               No(না)   \n",
       "331                <120 A                               No(না)   \n",
       "332                <120 A                               No(না)   \n",
       "333             120-180 A                               No(না)   \n",
       "334                <120 A                           Yes(হ্যাঁ)   \n",
       "\n",
       "    Currently having any breathing issue Smoking havit  \n",
       "0                                 No(না)    Yes(হ্যাঁ)  \n",
       "1                                 No(না)        No(না)  \n",
       "2                                 No(না)    Yes(হ্যাঁ)  \n",
       "3                                 No(না)        No(না)  \n",
       "4                                 No(না)        No(না)  \n",
       "..                                   ...           ...  \n",
       "330                           Yes(হ্যাঁ)    Yes(হ্যাঁ)  \n",
       "331                           Yes(হ্যাঁ)        No(না)  \n",
       "332                               No(না)    Yes(হ্যাঁ)  \n",
       "333                               No(না)        No(না)  \n",
       "334                           Yes(হ্যাঁ)    Yes(হ্যাঁ)  \n",
       "\n",
       "[335 rows x 15 columns]"
      ]
     },
     "execution_count": 65,
     "metadata": {},
     "output_type": "execute_result"
    }
   ],
   "source": [
    "# renaming columns\n",
    "\n",
    "column_mapping = {\n",
    "    'Name: (নাম)':'Name',\n",
    "    'Age: (বয়স)':'Age',\n",
    "    'Gender (লিঙ্গ)':'Gender',\n",
    "    'Please specify your profession (পেশা):' : 'Profession',\n",
    "    'How many years have you been working?(কাজের সময়কাল)': 'Years of experience',\n",
    "    'What is your average daily work hour (দৈনিক কাজের গড় ঘন্টা):': 'Average work hour(Daily)',\n",
    "    'Which type of welding do you do? (ঝালাইয়ের ধরন):': 'Type of welding',\n",
    "    'What is your duration span for gas welding type? ( গ্যাস \\nওয়েল্ডিং ধরনের জন্য আপনার সময়কাল কত? ):': 'Duration span for gas welding',\n",
    "    'What is your duration span for arc welding type? ( আর্ক ওয়েল্ডিং ধরনের জন্য আপনার সময়কাল কত? )': 'Duration span for arc welding',\n",
    "    'What is your process of welding ?(ক্রমাগত ঝালাই  বা বিক্ষিপ্ত ঝালাই?)': 'Process of welding',\n",
    "    'Do you use any safety tools during welding? (ঝালাইয়ের সময় নিরাপত্তা)': 'Use of safety tools',\n",
    "    \"\\nPlease specify your machine's current range  (বিদ্যুত্প্রবাহ পরিসর)\":'Machine current range',\n",
    "    'Did you have any breathing issues before working? ( কাজ করার আগে আপনার কি শ্বাসকষ্টের সমস্যা ছিল?)':'Breathing issues before welding work',\n",
    "    'Do you currently have any breathing issue now? (এখন কি শ্বাসকষ্ট হয়?)': 'Currently having any breathing issue',\n",
    "    'Do you have any smoking habit? (ধূমপানের অভ্যাস)':'Smoking havit'\n",
    "    \n",
    "}\n",
    "\n",
    "\n",
    "breathing_issue_data=breathing_issue_data.rename(columns=column_mapping)\n",
    "breathing_issue_data"
   ]
  },
  {
   "cell_type": "code",
   "execution_count": null,
   "id": "6f86b448",
   "metadata": {},
   "outputs": [],
   "source": []
  },
  {
   "cell_type": "code",
   "execution_count": null,
   "id": "23d6c39a",
   "metadata": {},
   "outputs": [],
   "source": []
  },
  {
   "cell_type": "code",
   "execution_count": 42,
   "id": "edd7ccfb",
   "metadata": {},
   "outputs": [
    {
     "data": {
      "text/html": [
       "<div>\n",
       "<style scoped>\n",
       "    .dataframe tbody tr th:only-of-type {\n",
       "        vertical-align: middle;\n",
       "    }\n",
       "\n",
       "    .dataframe tbody tr th {\n",
       "        vertical-align: top;\n",
       "    }\n",
       "\n",
       "    .dataframe thead th {\n",
       "        text-align: right;\n",
       "    }\n",
       "</style>\n",
       "<table border=\"1\" class=\"dataframe\">\n",
       "  <thead>\n",
       "    <tr style=\"text-align: right;\">\n",
       "      <th></th>\n",
       "      <th>Age: (বয়স)</th>\n",
       "      <th>Gender (লিঙ্গ)</th>\n",
       "      <th>Please specify your profession (পেশা):</th>\n",
       "      <th>How many years have you been working?(কাজের সময়কাল)</th>\n",
       "      <th>What is your average daily work hour (দৈনিক কাজের গড় ঘন্টা):</th>\n",
       "      <th>Which type of welding do you do? (ঝালাইয়ের ধরন):</th>\n",
       "      <th>What is your duration span for gas welding type? ( গ্যাস \\nওয়েল্ডিং ধরনের জন্য আপনার সময়কাল কত? ):</th>\n",
       "      <th>What is your duration span for arc welding type? ( আর্ক ওয়েল্ডিং ধরনের জন্য আপনার সময়কাল কত? )</th>\n",
       "      <th>What is your process of welding ?(ক্রমাগত ঝালাই  বা বিক্ষিপ্ত ঝালাই?)</th>\n",
       "      <th>Do you use any safety tools during welding? (ঝালাইয়ের সময় নিরাপত্তা)</th>\n",
       "      <th>\\nPlease specify your machine's current range  (বিদ্যুত্প্রবাহ পরিসর)</th>\n",
       "      <th>Did you have any breathing issues before working? ( কাজ করার আগে আপনার কি শ্বাসকষ্টের সমস্যা ছিল?)</th>\n",
       "      <th>Do you currently have any breathing issue now? (এখন কি শ্বাসকষ্ট হয়?)</th>\n",
       "      <th>Do you have any smoking habit? (ধূমপানের অভ্যাস)</th>\n",
       "    </tr>\n",
       "  </thead>\n",
       "  <tbody>\n",
       "    <tr>\n",
       "      <th>0</th>\n",
       "      <td>23</td>\n",
       "      <td>Male(পুরুষ)</td>\n",
       "      <td>Full time welder (পূর্ণকালীন ওয়েল্ডার)</td>\n",
       "      <td>6</td>\n",
       "      <td>7</td>\n",
       "      <td>Arc</td>\n",
       "      <td>8.0</td>\n",
       "      <td>jk</td>\n",
       "      <td>Continuous</td>\n",
       "      <td>Glass, Hand gloves</td>\n",
       "      <td>120-180 A</td>\n",
       "      <td>Yes(হ্যাঁ)</td>\n",
       "      <td>No(না)</td>\n",
       "      <td>Yes(হ্যাঁ)</td>\n",
       "    </tr>\n",
       "    <tr>\n",
       "      <th>1</th>\n",
       "      <td>34</td>\n",
       "      <td>Male(পুরুষ)</td>\n",
       "      <td>Multipurpose worker (বহুমুখী কর্মী)</td>\n",
       "      <td>18</td>\n",
       "      <td>10</td>\n",
       "      <td>Arc</td>\n",
       "      <td>1.0</td>\n",
       "      <td>18</td>\n",
       "      <td>Tacking</td>\n",
       "      <td>Glass</td>\n",
       "      <td>120-180 A</td>\n",
       "      <td>No(না)</td>\n",
       "      <td>No(না)</td>\n",
       "      <td>No(না)</td>\n",
       "    </tr>\n",
       "    <tr>\n",
       "      <th>2</th>\n",
       "      <td>22</td>\n",
       "      <td>Male(পুরুষ)</td>\n",
       "      <td>Full time welder (পূর্ণকালীন ওয়েল্ডার)</td>\n",
       "      <td>10</td>\n",
       "      <td>9</td>\n",
       "      <td>Arc</td>\n",
       "      <td>NaN</td>\n",
       "      <td>10</td>\n",
       "      <td>Tacking</td>\n",
       "      <td>Glass</td>\n",
       "      <td>120-180 A</td>\n",
       "      <td>No(না)</td>\n",
       "      <td>No(না)</td>\n",
       "      <td>Yes(হ্যাঁ)</td>\n",
       "    </tr>\n",
       "    <tr>\n",
       "      <th>3</th>\n",
       "      <td>45</td>\n",
       "      <td>Male(পুরুষ)</td>\n",
       "      <td>Full time welder (পূর্ণকালীন ওয়েল্ডার)</td>\n",
       "      <td>30</td>\n",
       "      <td>9</td>\n",
       "      <td>Arc</td>\n",
       "      <td>10.0</td>\n",
       "      <td>20</td>\n",
       "      <td>Tacking</td>\n",
       "      <td>Glass, Hand gloves</td>\n",
       "      <td>120-180 A</td>\n",
       "      <td>No(না)</td>\n",
       "      <td>No(না)</td>\n",
       "      <td>No(না)</td>\n",
       "    </tr>\n",
       "    <tr>\n",
       "      <th>4</th>\n",
       "      <td>24</td>\n",
       "      <td>Male(পুরুষ)</td>\n",
       "      <td>Full time welder (পূর্ণকালীন ওয়েল্ডার)</td>\n",
       "      <td>10</td>\n",
       "      <td>9</td>\n",
       "      <td>Arc</td>\n",
       "      <td>NaN</td>\n",
       "      <td>10</td>\n",
       "      <td>Tacking</td>\n",
       "      <td>Glass</td>\n",
       "      <td>120-180 A</td>\n",
       "      <td>No(না)</td>\n",
       "      <td>No(না)</td>\n",
       "      <td>No(না)</td>\n",
       "    </tr>\n",
       "  </tbody>\n",
       "</table>\n",
       "</div>"
      ],
      "text/plain": [
       "   Age: (বয়স) Gender (লিঙ্গ)   Please specify your profession (পেশা):  \\\n",
       "0           23    Male(পুরুষ)  Full time welder (পূর্ণকালীন ওয়েল্ডার)   \n",
       "1           34    Male(পুরুষ)      Multipurpose worker (বহুমুখী কর্মী)   \n",
       "2           22    Male(পুরুষ)  Full time welder (পূর্ণকালীন ওয়েল্ডার)   \n",
       "3           45    Male(পুরুষ)  Full time welder (পূর্ণকালীন ওয়েল্ডার)   \n",
       "4           24    Male(পুরুষ)  Full time welder (পূর্ণকালীন ওয়েল্ডার)   \n",
       "\n",
       "   How many years have you been working?(কাজের সময়কাল)  \\\n",
       "0                                                  6      \n",
       "1                                                 18      \n",
       "2                                                 10      \n",
       "3                                                 30      \n",
       "4                                                 10      \n",
       "\n",
       "   What is your average daily work hour (দৈনিক কাজের গড় ঘন্টা):  \\\n",
       "0                                                  7               \n",
       "1                                                 10               \n",
       "2                                                  9               \n",
       "3                                                  9               \n",
       "4                                                  9               \n",
       "\n",
       "  Which type of welding do you do? (ঝালাইয়ের ধরন):  \\\n",
       "0                                              Arc   \n",
       "1                                              Arc   \n",
       "2                                              Arc   \n",
       "3                                              Arc   \n",
       "4                                              Arc   \n",
       "\n",
       "   What is your duration span for gas welding type? ( গ্যাস \\nওয়েল্ডিং ধরনের জন্য আপনার সময়কাল কত? ):  \\\n",
       "0                                                8.0                                                      \n",
       "1                                                1.0                                                      \n",
       "2                                                NaN                                                      \n",
       "3                                               10.0                                                      \n",
       "4                                                NaN                                                      \n",
       "\n",
       "  What is your duration span for arc welding type? ( আর্ক ওয়েল্ডিং ধরনের জন্য আপনার সময়কাল কত? )  \\\n",
       "0                                                 jk                                                 \n",
       "1                                                 18                                                 \n",
       "2                                                 10                                                 \n",
       "3                                                 20                                                 \n",
       "4                                                 10                                                 \n",
       "\n",
       "  What is your process of welding ?(ক্রমাগত ঝালাই  বা বিক্ষিপ্ত ঝালাই?)  \\\n",
       "0                                         Continuous                      \n",
       "1                                            Tacking                      \n",
       "2                                            Tacking                      \n",
       "3                                            Tacking                      \n",
       "4                                            Tacking                      \n",
       "\n",
       "  Do you use any safety tools during welding? (ঝালাইয়ের সময় নিরাপত্তা)  \\\n",
       "0                                 Glass, Hand gloves                      \n",
       "1                                              Glass                      \n",
       "2                                              Glass                      \n",
       "3                                 Glass, Hand gloves                      \n",
       "4                                              Glass                      \n",
       "\n",
       "  \\nPlease specify your machine's current range  (বিদ্যুত্প্রবাহ পরিসর)  \\\n",
       "0                                          120-180 A                      \n",
       "1                                          120-180 A                      \n",
       "2                                          120-180 A                      \n",
       "3                                          120-180 A                      \n",
       "4                                          120-180 A                      \n",
       "\n",
       "  Did you have any breathing issues before working? ( কাজ করার আগে আপনার কি শ্বাসকষ্টের সমস্যা ছিল?)  \\\n",
       "0                                         Yes(হ্যাঁ)                                                   \n",
       "1                                             No(না)                                                   \n",
       "2                                             No(না)                                                   \n",
       "3                                             No(না)                                                   \n",
       "4                                             No(না)                                                   \n",
       "\n",
       "  Do you currently have any breathing issue now? (এখন কি শ্বাসকষ্ট হয়?)  \\\n",
       "0                                             No(না)                      \n",
       "1                                             No(না)                      \n",
       "2                                             No(না)                      \n",
       "3                                             No(না)                      \n",
       "4                                             No(না)                      \n",
       "\n",
       "  Do you have any smoking habit? (ধূমপানের অভ্যাস)  \n",
       "0                                       Yes(হ্যাঁ)  \n",
       "1                                           No(না)  \n",
       "2                                       Yes(হ্যাঁ)  \n",
       "3                                           No(না)  \n",
       "4                                           No(না)  "
      ]
     },
     "execution_count": 42,
     "metadata": {},
     "output_type": "execute_result"
    }
   ],
   "source": [
    "breathing_issue_data.head()"
   ]
  },
  {
   "cell_type": "code",
   "execution_count": 13,
   "id": "b41f0e99",
   "metadata": {},
   "outputs": [
    {
     "data": {
      "text/plain": [
       "Index(['Age', 'Gender', 'Profession', 'Years of experience',\n",
       "       'Average work hour(Daily)', 'Type of welding',\n",
       "       'Duration span for gas welding', 'Duration span for arc welding',\n",
       "       'Process of welding', 'Use of safety tools', 'Machine current range',\n",
       "       'Breathing issues before welding work',\n",
       "       'Currently having any breathing issue', 'Smoking havit'],\n",
       "      dtype='object')"
      ]
     },
     "execution_count": 13,
     "metadata": {},
     "output_type": "execute_result"
    }
   ],
   "source": [
    "breathing_issue_data.columns"
   ]
  },
  {
   "cell_type": "code",
   "execution_count": null,
   "id": "b6cd2cfc",
   "metadata": {},
   "outputs": [],
   "source": [
    "\n"
   ]
  },
  {
   "cell_type": "markdown",
   "id": "fa1dea30",
   "metadata": {},
   "source": [
    "### Number of responses for before breathing issue?"
   ]
  },
  {
   "cell_type": "code",
   "execution_count": 14,
   "id": "144dda13",
   "metadata": {},
   "outputs": [
    {
     "data": {
      "text/plain": [
       "No(না)        329\n",
       "Yes(হ্যাঁ)      6\n",
       "Name: Breathing issues before welding work, dtype: int64"
      ]
     },
     "execution_count": 14,
     "metadata": {},
     "output_type": "execute_result"
    }
   ],
   "source": [
    "count = breathing_issue_data['Breathing issues before welding work'].value_counts()\n",
    "count"
   ]
  },
  {
   "cell_type": "markdown",
   "id": "50248ba5",
   "metadata": {},
   "source": [
    "### Percentage of welders who didn't have breathing issue before."
   ]
  },
  {
   "cell_type": "code",
   "execution_count": 67,
   "id": "5112b5be",
   "metadata": {},
   "outputs": [
    {
     "data": {
      "text/plain": [
       "98.21"
      ]
     },
     "execution_count": 67,
     "metadata": {},
     "output_type": "execute_result"
    }
   ],
   "source": [
    "count = breathing_issue_data['Breathing issues before welding work'].value_counts()['No(না)']\n",
    "total_count = breathing_issue_data['Breathing issues before welding work'].count()\n",
    "percentage = (count / total_count) * 100\n",
    "had_no_issues = percentage.round(2)\n",
    "had_no_issues"
   ]
  },
  {
   "cell_type": "markdown",
   "id": "ea88f8d3",
   "metadata": {},
   "source": [
    "##### So, 98.21% people did not have breathing issues."
   ]
  },
  {
   "cell_type": "code",
   "execution_count": null,
   "id": "83109fc5",
   "metadata": {},
   "outputs": [],
   "source": []
  },
  {
   "cell_type": "markdown",
   "id": "9aedb4ca",
   "metadata": {},
   "source": [
    "### Percentage of welders who had breathing issue before welding"
   ]
  },
  {
   "cell_type": "code",
   "execution_count": 16,
   "id": "d5197220",
   "metadata": {},
   "outputs": [
    {
     "data": {
      "text/plain": [
       "1.79"
      ]
     },
     "execution_count": 16,
     "metadata": {},
     "output_type": "execute_result"
    }
   ],
   "source": [
    "had_breathing_issue = (100-percentage)\n",
    "had_breathing_issue = had_breathing_issue.round(2)\n",
    "had_breathing_issue"
   ]
  },
  {
   "cell_type": "markdown",
   "id": "e917e6ed",
   "metadata": {},
   "source": [
    "##### So, 1.79 % people had breathing issues before starting welding"
   ]
  },
  {
   "cell_type": "code",
   "execution_count": null,
   "id": "8d608ade",
   "metadata": {},
   "outputs": [],
   "source": []
  },
  {
   "cell_type": "markdown",
   "id": "af18e78b",
   "metadata": {},
   "source": [
    "### Number of responses for after welding breathing issue?"
   ]
  },
  {
   "cell_type": "code",
   "execution_count": 71,
   "id": "8101c1cd",
   "metadata": {},
   "outputs": [
    {
     "data": {
      "text/plain": [
       "No(না)        297\n",
       "Yes(হ্যাঁ)     38\n",
       "Name: Currently having any breathing issue, dtype: int64"
      ]
     },
     "execution_count": 71,
     "metadata": {},
     "output_type": "execute_result"
    }
   ],
   "source": [
    "count = breathing_issue_data['Currently having any breathing issue'].value_counts()\n",
    "count"
   ]
  },
  {
   "cell_type": "markdown",
   "id": "a230d7f6",
   "metadata": {},
   "source": [
    "### Percentage of welders who do not have breathing issue now"
   ]
  },
  {
   "cell_type": "code",
   "execution_count": 18,
   "id": "325b0a43",
   "metadata": {},
   "outputs": [
    {
     "data": {
      "text/plain": [
       "88.66"
      ]
     },
     "execution_count": 18,
     "metadata": {},
     "output_type": "execute_result"
    }
   ],
   "source": [
    "count = breathing_issue_data['Currently having any breathing issue'].value_counts()['No(না)']\n",
    "total_count = breathing_issue_data['Currently having any breathing issue'].count()\n",
    "percentage = (count / total_count) * 100\n",
    "having_no_issues = percentage.round(2)\n",
    "having_no_issues"
   ]
  },
  {
   "cell_type": "markdown",
   "id": "3161880e",
   "metadata": {},
   "source": [
    "##### 88.66% people do not have breathing issue now."
   ]
  },
  {
   "cell_type": "markdown",
   "id": "18206279",
   "metadata": {},
   "source": [
    "### Percentage of welders who have breathing issue now"
   ]
  },
  {
   "cell_type": "code",
   "execution_count": 19,
   "id": "e9021b5b",
   "metadata": {},
   "outputs": [
    {
     "data": {
      "text/plain": [
       "11.34"
      ]
     },
     "execution_count": 19,
     "metadata": {},
     "output_type": "execute_result"
    }
   ],
   "source": [
    "count = breathing_issue_data['Currently having any breathing issue'].value_counts()['Yes(হ্যাঁ)']\n",
    "total_count = breathing_issue_data['Currently having any breathing issue'].count()\n",
    "percentage = (count / total_count) * 100\n",
    "percentage.round(2)\n",
    "having_issues = percentage.round(2)\n",
    "having_issues"
   ]
  },
  {
   "cell_type": "markdown",
   "id": "ffc4c627",
   "metadata": {},
   "source": [
    "##### 11.34% people has breathing issue now."
   ]
  },
  {
   "cell_type": "markdown",
   "id": "dcf986ff",
   "metadata": {},
   "source": [
    "### Breathing issue increased after doing welding works by"
   ]
  },
  {
   "cell_type": "code",
   "execution_count": 73,
   "id": "509e2f35",
   "metadata": {},
   "outputs": [
    {
     "data": {
      "text/plain": [
       "9.55"
      ]
     },
     "execution_count": 73,
     "metadata": {},
     "output_type": "execute_result"
    }
   ],
   "source": [
    "having_issues-had_breathing_issue"
   ]
  },
  {
   "cell_type": "markdown",
   "id": "a43bf58c",
   "metadata": {},
   "source": [
    "9.55 % breathing issue increased"
   ]
  },
  {
   "cell_type": "markdown",
   "id": "ca1e3423",
   "metadata": {},
   "source": [
    "### People who have breathing issue, what type of welding they use?"
   ]
  },
  {
   "cell_type": "code",
   "execution_count": 108,
   "id": "e6a4d974",
   "metadata": {},
   "outputs": [
    {
     "data": {
      "text/plain": [
       "<AxesSubplot:xlabel='Types of welding', ylabel='Number of people'>"
      ]
     },
     "execution_count": 108,
     "metadata": {},
     "output_type": "execute_result"
    },
    {
     "data": {
      "image/png": "[encoded data removed]",
      "text/plain": [
       "<Figure size 1000x800 with 1 Axes>"
      ]
     },
     "metadata": {},
     "output_type": "display_data"
    }
   ],
   "source": [
    "breathing_issue_data[breathing_issue_data['Currently having any breathing issue'] == 'Yes(হ্যাঁ)']['Type of welding'].value_counts().plot(kind='bar', xlabel='Types of welding',ylabel='Number of people',figsize=(10, 8))"
   ]
  },
  {
   "cell_type": "code",
   "execution_count": 76,
   "id": "e8d7f5cc",
   "metadata": {},
   "outputs": [
    {
     "data": {
      "text/plain": [
       "Arc     28\n",
       "Both     9\n",
       "Gas      1\n",
       "Name: Type of welding, dtype: int64"
      ]
     },
     "execution_count": 76,
     "metadata": {},
     "output_type": "execute_result"
    }
   ],
   "source": [
    "breathing_issue_data[breathing_issue_data['Currently having any breathing issue'] == 'Yes(হ্যাঁ)']['Type of welding'].value_counts()"
   ]
  },
  {
   "cell_type": "markdown",
   "id": "e9439ea6",
   "metadata": {},
   "source": [
    "28 people use Arc type and 9 people use both Arc and Gas type and 1 people use Gas only"
   ]
  },
  {
   "cell_type": "code",
   "execution_count": null,
   "id": "34ac8331",
   "metadata": {},
   "outputs": [],
   "source": []
  },
  {
   "cell_type": "markdown",
   "id": "88517c36",
   "metadata": {},
   "source": [
    "### People who have breathing issue, what type process of welding they use?"
   ]
  },
  {
   "cell_type": "code",
   "execution_count": 107,
   "id": "a5a076c8",
   "metadata": {},
   "outputs": [
    {
     "data": {
      "text/plain": [
       "<AxesSubplot:xlabel='Process of welding', ylabel='Number of people'>"
      ]
     },
     "execution_count": 107,
     "metadata": {},
     "output_type": "execute_result"
    },
    {
     "data": {
      "image/png": "[encoded data removed]",
      "text/plain": [
       "<Figure size 1000x800 with 1 Axes>"
      ]
     },
     "metadata": {},
     "output_type": "display_data"
    }
   ],
   "source": [
    "breathing_issue_data[breathing_issue_data['Currently having any breathing issue'] == 'Yes(হ্যাঁ)']['Process of welding'].value_counts().plot(kind='bar', xlabel='Process of welding',ylabel='Number of people',figsize=(10, 8))"
   ]
  },
  {
   "cell_type": "code",
   "execution_count": 80,
   "id": "b29ec94a",
   "metadata": {},
   "outputs": [
    {
     "data": {
      "text/plain": [
       "Tacking       25\n",
       "Continuous    13\n",
       "Name: Process of welding, dtype: int64"
      ]
     },
     "execution_count": 80,
     "metadata": {},
     "output_type": "execute_result"
    }
   ],
   "source": [
    "breathing_issue_data[breathing_issue_data['Currently having any breathing issue'] == 'Yes(হ্যাঁ)']['Process of welding'].value_counts()"
   ]
  },
  {
   "cell_type": "markdown",
   "id": "3ccc55be",
   "metadata": {},
   "source": [
    "25 people use Tacking and 13 people use continuous process"
   ]
  },
  {
   "cell_type": "markdown",
   "id": "553e5aa6",
   "metadata": {},
   "source": [
    "### Persons who are having issues now , what safety measures they are using?"
   ]
  },
  {
   "cell_type": "code",
   "execution_count": 106,
   "id": "f7b4c003",
   "metadata": {},
   "outputs": [
    {
     "data": {
      "text/plain": [
       "<AxesSubplot:xlabel='Safety measure type', ylabel='Number of people'>"
      ]
     },
     "execution_count": 106,
     "metadata": {},
     "output_type": "execute_result"
    },
    {
     "data": {
      "image/png": "[encoded data removed]",
      "text/plain": [
       "<Figure size 1000x800 with 1 Axes>"
      ]
     },
     "metadata": {},
     "output_type": "display_data"
    }
   ],
   "source": [
    "breathing_issue_data[breathing_issue_data['Currently having any breathing issue'] == 'Yes(হ্যাঁ)']['Use of safety tools'].value_counts().plot(kind='bar',xlabel='Safety measure type', ylabel='Number of people',figsize=(10, 8))"
   ]
  },
  {
   "cell_type": "markdown",
   "id": "d6774285",
   "metadata": {},
   "source": [
    "### What is the current range (A) of machines people are using who have breathing issue?"
   ]
  },
  {
   "cell_type": "code",
   "execution_count": 105,
   "id": "bf860e15",
   "metadata": {},
   "outputs": [
    {
     "data": {
      "text/plain": [
       "<AxesSubplot:xlabel='Current range', ylabel='Number of people'>"
      ]
     },
     "execution_count": 105,
     "metadata": {},
     "output_type": "execute_result"
    },
    {
     "data": {
      "image/png": "[encoded data removed]",
      "text/plain": [
       "<Figure size 1000x800 with 1 Axes>"
      ]
     },
     "metadata": {},
     "output_type": "display_data"
    }
   ],
   "source": [
    "breathing_issue_data[breathing_issue_data['Currently having any breathing issue'] == 'Yes(হ্যাঁ)']['Machine current range'].value_counts().plot(kind='bar',xlabel='Current range',ylabel='Number of people',figsize=(10, 8))"
   ]
  },
  {
   "cell_type": "code",
   "execution_count": 83,
   "id": "2606a9bf",
   "metadata": {},
   "outputs": [
    {
     "data": {
      "text/plain": [
       "120-180 A    29\n",
       ">180 A        5\n",
       "<120 A        4\n",
       "Name: Machine current range, dtype: int64"
      ]
     },
     "execution_count": 83,
     "metadata": {},
     "output_type": "execute_result"
    }
   ],
   "source": [
    "breathing_issue_data[breathing_issue_data['Currently having any breathing issue'] == 'Yes(হ্যাঁ)']['Machine current range'].value_counts()"
   ]
  },
  {
   "cell_type": "markdown",
   "id": "f0858896",
   "metadata": {},
   "source": [
    "29 people use machines of 120-180A , 5 people use <120A, 4 people use >180A"
   ]
  },
  {
   "cell_type": "markdown",
   "id": "06baac8a",
   "metadata": {},
   "source": [
    "### Age distribution of those people who are having breathing issue?"
   ]
  },
  {
   "cell_type": "code",
   "execution_count": 103,
   "id": "9ff11653",
   "metadata": {},
   "outputs": [
    {
     "data": {
      "text/plain": [
       "<AxesSubplot:xlabel='Age', ylabel='Number of people'>"
      ]
     },
     "execution_count": 103,
     "metadata": {},
     "output_type": "execute_result"
    },
    {
     "data": {
      "image/png": "[encoded data removed]",
      "text/plain": [
       "<Figure size 1000x800 with 1 Axes>"
      ]
     },
     "metadata": {},
     "output_type": "display_data"
    }
   ],
   "source": [
    "breathing_issue_data[breathing_issue_data['Currently having any breathing issue'] == 'Yes(হ্যাঁ)']['Age'].value_counts().plot(kind='bar',xlabel='Age',ylabel='Number of people', figsize=(10, 8))"
   ]
  },
  {
   "cell_type": "markdown",
   "id": "9c7002c9",
   "metadata": {},
   "source": [
    "### How much breathing issues increases?"
   ]
  },
  {
   "cell_type": "code",
   "execution_count": 85,
   "id": "74e665dd",
   "metadata": {},
   "outputs": [
    {
     "data": {
      "text/plain": [
       "9.55"
      ]
     },
     "execution_count": 85,
     "metadata": {},
     "output_type": "execute_result"
    }
   ],
   "source": [
    "increased_issues = had_no_issues - having_no_issues\n",
    "increased_issues.round(2)"
   ]
  },
  {
   "cell_type": "markdown",
   "id": "ebf6dfdf",
   "metadata": {},
   "source": [
    "##### Breathing issue has been increased by 9.55 %"
   ]
  },
  {
   "cell_type": "code",
   "execution_count": null,
   "id": "ed640ae4",
   "metadata": {},
   "outputs": [],
   "source": []
  },
  {
   "cell_type": "markdown",
   "id": "639bda79",
   "metadata": {},
   "source": [
    "\n",
    "### Percentage of people who are having breathing issue do welding and also smokes"
   ]
  },
  {
   "cell_type": "code",
   "execution_count": 86,
   "id": "0eaf82a2",
   "metadata": {},
   "outputs": [
    {
     "data": {
      "text/html": [
       "<div>\n",
       "<style scoped>\n",
       "    .dataframe tbody tr th:only-of-type {\n",
       "        vertical-align: middle;\n",
       "    }\n",
       "\n",
       "    .dataframe tbody tr th {\n",
       "        vertical-align: top;\n",
       "    }\n",
       "\n",
       "    .dataframe thead th {\n",
       "        text-align: right;\n",
       "    }\n",
       "</style>\n",
       "<table border=\"1\" class=\"dataframe\">\n",
       "  <thead>\n",
       "    <tr style=\"text-align: right;\">\n",
       "      <th></th>\n",
       "      <th>Name</th>\n",
       "      <th>Age</th>\n",
       "      <th>Currently having any breathing issue</th>\n",
       "      <th>Smoking havit</th>\n",
       "    </tr>\n",
       "  </thead>\n",
       "  <tbody>\n",
       "    <tr>\n",
       "      <th>0</th>\n",
       "      <td>Md rahat hasan</td>\n",
       "      <td>20</td>\n",
       "      <td>Yes(হ্যাঁ)</td>\n",
       "      <td>Yes(হ্যাঁ)</td>\n",
       "    </tr>\n",
       "    <tr>\n",
       "      <th>1</th>\n",
       "      <td>Md Abdur Rahman</td>\n",
       "      <td>40</td>\n",
       "      <td>Yes(হ্যাঁ)</td>\n",
       "      <td>Yes(হ্যাঁ)</td>\n",
       "    </tr>\n",
       "    <tr>\n",
       "      <th>2</th>\n",
       "      <td>Md. johirul islam</td>\n",
       "      <td>45</td>\n",
       "      <td>Yes(হ্যাঁ)</td>\n",
       "      <td>Yes(হ্যাঁ)</td>\n",
       "    </tr>\n",
       "    <tr>\n",
       "      <th>3</th>\n",
       "      <td>Md. Akash</td>\n",
       "      <td>26</td>\n",
       "      <td>Yes(হ্যাঁ)</td>\n",
       "      <td>Yes(হ্যাঁ)</td>\n",
       "    </tr>\n",
       "    <tr>\n",
       "      <th>4</th>\n",
       "      <td>md sojib</td>\n",
       "      <td>28</td>\n",
       "      <td>Yes(হ্যাঁ)</td>\n",
       "      <td>Yes(হ্যাঁ)</td>\n",
       "    </tr>\n",
       "    <tr>\n",
       "      <th>5</th>\n",
       "      <td>Md. halim</td>\n",
       "      <td>40</td>\n",
       "      <td>Yes(হ্যাঁ)</td>\n",
       "      <td>Yes(হ্যাঁ)</td>\n",
       "    </tr>\n",
       "    <tr>\n",
       "      <th>6</th>\n",
       "      <td>rubel</td>\n",
       "      <td>35</td>\n",
       "      <td>Yes(হ্যাঁ)</td>\n",
       "      <td>Yes(হ্যাঁ)</td>\n",
       "    </tr>\n",
       "    <tr>\n",
       "      <th>7</th>\n",
       "      <td>md shalin</td>\n",
       "      <td>38</td>\n",
       "      <td>Yes(হ্যাঁ)</td>\n",
       "      <td>Yes(হ্যাঁ)</td>\n",
       "    </tr>\n",
       "    <tr>\n",
       "      <th>8</th>\n",
       "      <td>Md. sorif islam</td>\n",
       "      <td>50</td>\n",
       "      <td>Yes(হ্যাঁ)</td>\n",
       "      <td>Yes(হ্যাঁ)</td>\n",
       "    </tr>\n",
       "    <tr>\n",
       "      <th>9</th>\n",
       "      <td>Md. Bisal Ahmed</td>\n",
       "      <td>25</td>\n",
       "      <td>Yes(হ্যাঁ)</td>\n",
       "      <td>Yes(হ্যাঁ)</td>\n",
       "    </tr>\n",
       "    <tr>\n",
       "      <th>10</th>\n",
       "      <td>Md Shariful Islam</td>\n",
       "      <td>42</td>\n",
       "      <td>Yes(হ্যাঁ)</td>\n",
       "      <td>Yes(হ্যাঁ)</td>\n",
       "    </tr>\n",
       "    <tr>\n",
       "      <th>11</th>\n",
       "      <td>Md.Rubel</td>\n",
       "      <td>32</td>\n",
       "      <td>Yes(হ্যাঁ)</td>\n",
       "      <td>Yes(হ্যাঁ)</td>\n",
       "    </tr>\n",
       "    <tr>\n",
       "      <th>12</th>\n",
       "      <td>Md Islam Sekh</td>\n",
       "      <td>45</td>\n",
       "      <td>Yes(হ্যাঁ)</td>\n",
       "      <td>Yes(হ্যাঁ)</td>\n",
       "    </tr>\n",
       "    <tr>\n",
       "      <th>13</th>\n",
       "      <td>Md Sultan sekh</td>\n",
       "      <td>32</td>\n",
       "      <td>Yes(হ্যাঁ)</td>\n",
       "      <td>Yes(হ্যাঁ)</td>\n",
       "    </tr>\n",
       "    <tr>\n",
       "      <th>14</th>\n",
       "      <td>Md Rokon hossain</td>\n",
       "      <td>28</td>\n",
       "      <td>Yes(হ্যাঁ)</td>\n",
       "      <td>Yes(হ্যাঁ)</td>\n",
       "    </tr>\n",
       "    <tr>\n",
       "      <th>15</th>\n",
       "      <td>Md Helal Mondol</td>\n",
       "      <td>35</td>\n",
       "      <td>Yes(হ্যাঁ)</td>\n",
       "      <td>Yes(হ্যাঁ)</td>\n",
       "    </tr>\n",
       "    <tr>\n",
       "      <th>16</th>\n",
       "      <td>Md Shorif Uddin</td>\n",
       "      <td>35</td>\n",
       "      <td>Yes(হ্যাঁ)</td>\n",
       "      <td>Yes(হ্যাঁ)</td>\n",
       "    </tr>\n",
       "    <tr>\n",
       "      <th>17</th>\n",
       "      <td>Rohim</td>\n",
       "      <td>30</td>\n",
       "      <td>Yes(হ্যাঁ)</td>\n",
       "      <td>Yes(হ্যাঁ)</td>\n",
       "    </tr>\n",
       "    <tr>\n",
       "      <th>18</th>\n",
       "      <td>Md.Efad</td>\n",
       "      <td>25</td>\n",
       "      <td>Yes(হ্যাঁ)</td>\n",
       "      <td>Yes(হ্যাঁ)</td>\n",
       "    </tr>\n",
       "    <tr>\n",
       "      <th>19</th>\n",
       "      <td>Nurul Islam</td>\n",
       "      <td>55</td>\n",
       "      <td>Yes(হ্যাঁ)</td>\n",
       "      <td>Yes(হ্যাঁ)</td>\n",
       "    </tr>\n",
       "  </tbody>\n",
       "</table>\n",
       "</div>"
      ],
      "text/plain": [
       "                  Name  Age Currently having any breathing issue Smoking havit\n",
       "0       Md rahat hasan   20                           Yes(হ্যাঁ)    Yes(হ্যাঁ)\n",
       "1     Md Abdur Rahman    40                           Yes(হ্যাঁ)    Yes(হ্যাঁ)\n",
       "2    Md. johirul islam   45                           Yes(হ্যাঁ)    Yes(হ্যাঁ)\n",
       "3            Md. Akash   26                           Yes(হ্যাঁ)    Yes(হ্যাঁ)\n",
       "4             md sojib   28                           Yes(হ্যাঁ)    Yes(হ্যাঁ)\n",
       "5            Md. halim   40                           Yes(হ্যাঁ)    Yes(হ্যাঁ)\n",
       "6                rubel   35                           Yes(হ্যাঁ)    Yes(হ্যাঁ)\n",
       "7            md shalin   38                           Yes(হ্যাঁ)    Yes(হ্যাঁ)\n",
       "8      Md. sorif islam   50                           Yes(হ্যাঁ)    Yes(হ্যাঁ)\n",
       "9      Md. Bisal Ahmed   25                           Yes(হ্যাঁ)    Yes(হ্যাঁ)\n",
       "10  Md Shariful Islam    42                           Yes(হ্যাঁ)    Yes(হ্যাঁ)\n",
       "11            Md.Rubel   32                           Yes(হ্যাঁ)    Yes(হ্যাঁ)\n",
       "12       Md Islam Sekh   45                           Yes(হ্যাঁ)    Yes(হ্যাঁ)\n",
       "13      Md Sultan sekh   32                           Yes(হ্যাঁ)    Yes(হ্যাঁ)\n",
       "14    Md Rokon hossain   28                           Yes(হ্যাঁ)    Yes(হ্যাঁ)\n",
       "15     Md Helal Mondol   35                           Yes(হ্যাঁ)    Yes(হ্যাঁ)\n",
       "16     Md Shorif Uddin   35                           Yes(হ্যাঁ)    Yes(হ্যাঁ)\n",
       "17               Rohim   30                           Yes(হ্যাঁ)    Yes(হ্যাঁ)\n",
       "18             Md.Efad   25                           Yes(হ্যাঁ)    Yes(হ্যাঁ)\n",
       "19         Nurul Islam   55                           Yes(হ্যাঁ)    Yes(হ্যাঁ)"
      ]
     },
     "execution_count": 86,
     "metadata": {},
     "output_type": "execute_result"
    }
   ],
   "source": [
    "current_breath_issues_and_smokes = breathing_issue_data[(breathing_issue_data['Currently having any breathing issue'] == 'Yes(হ্যাঁ)') \n",
    "                                               &(breathing_issue_data['Smoking havit'] == 'Yes(হ্যাঁ)')].reset_index()[['Name','Age','Currently having any breathing issue','Smoking havit']]\n",
    "\n",
    "current_breath_issues_and_smokes"
   ]
  },
  {
   "cell_type": "code",
   "execution_count": 89,
   "id": "2659fba2",
   "metadata": {},
   "outputs": [
    {
     "data": {
      "text/plain": [
       "20"
      ]
     },
     "execution_count": 89,
     "metadata": {},
     "output_type": "execute_result"
    }
   ],
   "source": [
    "len(current_breath_issues_and_smokes)"
   ]
  },
  {
   "cell_type": "code",
   "execution_count": 90,
   "id": "35b3a038",
   "metadata": {},
   "outputs": [
    {
     "data": {
      "text/plain": [
       "335"
      ]
     },
     "execution_count": 90,
     "metadata": {},
     "output_type": "execute_result"
    }
   ],
   "source": [
    "len(breathing_issue_data)"
   ]
  },
  {
   "cell_type": "code",
   "execution_count": 91,
   "id": "78ad3fe9",
   "metadata": {},
   "outputs": [
    {
     "data": {
      "text/plain": [
       "5.970149253731343"
      ]
     },
     "execution_count": 91,
     "metadata": {},
     "output_type": "execute_result"
    }
   ],
   "source": [
    "# percentage\n",
    "\n",
    "people_who_smoke = (len(current_breath_issues_and_smokes) / len(breathing_issue_data)) * 100\n",
    "people_who_smoke"
   ]
  },
  {
   "cell_type": "markdown",
   "id": "3ee99edd",
   "metadata": {},
   "source": [
    "##### So, 5.97 % people have breathing issues who do both welding and smoking"
   ]
  },
  {
   "cell_type": "code",
   "execution_count": null,
   "id": "140ac7c7",
   "metadata": {},
   "outputs": [],
   "source": []
  },
  {
   "cell_type": "markdown",
   "id": "6eb18fd2",
   "metadata": {},
   "source": [
    "### Percentage of people who are having breathing issue do welding but do not smoke"
   ]
  },
  {
   "cell_type": "code",
   "execution_count": 92,
   "id": "d0015748",
   "metadata": {},
   "outputs": [],
   "source": [
    "current_breath_issues_but_do_not_smoke = breathing_issue_data[(breathing_issue_data['Currently having any breathing issue'] == 'Yes(হ্যাঁ)') \n",
    "    &(breathing_issue_data['Smoking havit'] == 'No(না)')].reset_index()[['Name','Age','Currently having any breathing issue','Smoking havit']]"
   ]
  },
  {
   "cell_type": "code",
   "execution_count": 93,
   "id": "115ac42e",
   "metadata": {},
   "outputs": [
    {
     "data": {
      "text/html": [
       "<div>\n",
       "<style scoped>\n",
       "    .dataframe tbody tr th:only-of-type {\n",
       "        vertical-align: middle;\n",
       "    }\n",
       "\n",
       "    .dataframe tbody tr th {\n",
       "        vertical-align: top;\n",
       "    }\n",
       "\n",
       "    .dataframe thead th {\n",
       "        text-align: right;\n",
       "    }\n",
       "</style>\n",
       "<table border=\"1\" class=\"dataframe\">\n",
       "  <thead>\n",
       "    <tr style=\"text-align: right;\">\n",
       "      <th></th>\n",
       "      <th>Name</th>\n",
       "      <th>Age</th>\n",
       "      <th>Currently having any breathing issue</th>\n",
       "      <th>Smoking havit</th>\n",
       "    </tr>\n",
       "  </thead>\n",
       "  <tbody>\n",
       "    <tr>\n",
       "      <th>0</th>\n",
       "      <td>Md rafiqul islam</td>\n",
       "      <td>38</td>\n",
       "      <td>Yes(হ্যাঁ)</td>\n",
       "      <td>No(না)</td>\n",
       "    </tr>\n",
       "    <tr>\n",
       "      <th>1</th>\n",
       "      <td>Md moktar</td>\n",
       "      <td>37</td>\n",
       "      <td>Yes(হ্যাঁ)</td>\n",
       "      <td>No(না)</td>\n",
       "    </tr>\n",
       "    <tr>\n",
       "      <th>2</th>\n",
       "      <td>Md roni</td>\n",
       "      <td>38</td>\n",
       "      <td>Yes(হ্যাঁ)</td>\n",
       "      <td>No(না)</td>\n",
       "    </tr>\n",
       "    <tr>\n",
       "      <th>3</th>\n",
       "      <td>Md. Jobayer Hosen</td>\n",
       "      <td>28</td>\n",
       "      <td>Yes(হ্যাঁ)</td>\n",
       "      <td>No(না)</td>\n",
       "    </tr>\n",
       "    <tr>\n",
       "      <th>4</th>\n",
       "      <td>Md. milon</td>\n",
       "      <td>35</td>\n",
       "      <td>Yes(হ্যাঁ)</td>\n",
       "      <td>No(না)</td>\n",
       "    </tr>\n",
       "    <tr>\n",
       "      <th>5</th>\n",
       "      <td>Md. Jahidul Islam</td>\n",
       "      <td>50</td>\n",
       "      <td>Yes(হ্যাঁ)</td>\n",
       "      <td>No(না)</td>\n",
       "    </tr>\n",
       "    <tr>\n",
       "      <th>6</th>\n",
       "      <td>md jahidul islam</td>\n",
       "      <td>50</td>\n",
       "      <td>Yes(হ্যাঁ)</td>\n",
       "      <td>No(না)</td>\n",
       "    </tr>\n",
       "    <tr>\n",
       "      <th>7</th>\n",
       "      <td>md romiail huda</td>\n",
       "      <td>40</td>\n",
       "      <td>Yes(হ্যাঁ)</td>\n",
       "      <td>No(না)</td>\n",
       "    </tr>\n",
       "    <tr>\n",
       "      <th>8</th>\n",
       "      <td>Md. foysal</td>\n",
       "      <td>32</td>\n",
       "      <td>Yes(হ্যাঁ)</td>\n",
       "      <td>No(না)</td>\n",
       "    </tr>\n",
       "    <tr>\n",
       "      <th>9</th>\n",
       "      <td>Md. hamim</td>\n",
       "      <td>15</td>\n",
       "      <td>Yes(হ্যাঁ)</td>\n",
       "      <td>No(না)</td>\n",
       "    </tr>\n",
       "    <tr>\n",
       "      <th>10</th>\n",
       "      <td>md monir</td>\n",
       "      <td>24</td>\n",
       "      <td>Yes(হ্যাঁ)</td>\n",
       "      <td>No(না)</td>\n",
       "    </tr>\n",
       "    <tr>\n",
       "      <th>11</th>\n",
       "      <td>md mahfuj</td>\n",
       "      <td>21</td>\n",
       "      <td>Yes(হ্যাঁ)</td>\n",
       "      <td>No(না)</td>\n",
       "    </tr>\n",
       "    <tr>\n",
       "      <th>12</th>\n",
       "      <td>Md. Monnak Ali</td>\n",
       "      <td>38</td>\n",
       "      <td>Yes(হ্যাঁ)</td>\n",
       "      <td>No(না)</td>\n",
       "    </tr>\n",
       "    <tr>\n",
       "      <th>13</th>\n",
       "      <td>Md Helal Mondol</td>\n",
       "      <td>35</td>\n",
       "      <td>Yes(হ্যাঁ)</td>\n",
       "      <td>No(না)</td>\n",
       "    </tr>\n",
       "    <tr>\n",
       "      <th>14</th>\n",
       "      <td>Md. Maruf</td>\n",
       "      <td>20</td>\n",
       "      <td>Yes(হ্যাঁ)</td>\n",
       "      <td>No(না)</td>\n",
       "    </tr>\n",
       "    <tr>\n",
       "      <th>15</th>\n",
       "      <td>Md. Asadur</td>\n",
       "      <td>25</td>\n",
       "      <td>Yes(হ্যাঁ)</td>\n",
       "      <td>No(না)</td>\n",
       "    </tr>\n",
       "    <tr>\n",
       "      <th>16</th>\n",
       "      <td>Tajul islam</td>\n",
       "      <td>45</td>\n",
       "      <td>Yes(হ্যাঁ)</td>\n",
       "      <td>No(না)</td>\n",
       "    </tr>\n",
       "    <tr>\n",
       "      <th>17</th>\n",
       "      <td>Md. Aminul</td>\n",
       "      <td>16</td>\n",
       "      <td>Yes(হ্যাঁ)</td>\n",
       "      <td>No(না)</td>\n",
       "    </tr>\n",
       "  </tbody>\n",
       "</table>\n",
       "</div>"
      ],
      "text/plain": [
       "                 Name  Age Currently having any breathing issue Smoking havit\n",
       "0    Md rafiqul islam   38                           Yes(হ্যাঁ)        No(না)\n",
       "1          Md moktar    37                           Yes(হ্যাঁ)        No(না)\n",
       "2             Md roni   38                           Yes(হ্যাঁ)        No(না)\n",
       "3   Md. Jobayer Hosen   28                           Yes(হ্যাঁ)        No(না)\n",
       "4           Md. milon   35                           Yes(হ্যাঁ)        No(না)\n",
       "5   Md. Jahidul Islam   50                           Yes(হ্যাঁ)        No(না)\n",
       "6    md jahidul islam   50                           Yes(হ্যাঁ)        No(না)\n",
       "7     md romiail huda   40                           Yes(হ্যাঁ)        No(না)\n",
       "8          Md. foysal   32                           Yes(হ্যাঁ)        No(না)\n",
       "9           Md. hamim   15                           Yes(হ্যাঁ)        No(না)\n",
       "10           md monir   24                           Yes(হ্যাঁ)        No(না)\n",
       "11          md mahfuj   21                           Yes(হ্যাঁ)        No(না)\n",
       "12     Md. Monnak Ali   38                           Yes(হ্যাঁ)        No(না)\n",
       "13    Md Helal Mondol   35                           Yes(হ্যাঁ)        No(না)\n",
       "14         Md. Maruf    20                           Yes(হ্যাঁ)        No(না)\n",
       "15         Md. Asadur   25                           Yes(হ্যাঁ)        No(না)\n",
       "16        Tajul islam   45                           Yes(হ্যাঁ)        No(না)\n",
       "17         Md. Aminul   16                           Yes(হ্যাঁ)        No(না)"
      ]
     },
     "execution_count": 93,
     "metadata": {},
     "output_type": "execute_result"
    }
   ],
   "source": [
    "current_breath_issues_but_do_not_smoke"
   ]
  },
  {
   "cell_type": "code",
   "execution_count": 94,
   "id": "96886c4b",
   "metadata": {},
   "outputs": [
    {
     "data": {
      "text/plain": [
       "18"
      ]
     },
     "execution_count": 94,
     "metadata": {},
     "output_type": "execute_result"
    }
   ],
   "source": [
    "len(current_breath_issues_but_do_not_smoke)"
   ]
  },
  {
   "cell_type": "code",
   "execution_count": 95,
   "id": "9b2b3d91",
   "metadata": {},
   "outputs": [
    {
     "data": {
      "text/plain": [
       "335"
      ]
     },
     "execution_count": 95,
     "metadata": {},
     "output_type": "execute_result"
    }
   ],
   "source": [
    "len(breathing_issue_data)"
   ]
  },
  {
   "cell_type": "code",
   "execution_count": 96,
   "id": "a24404ee",
   "metadata": {},
   "outputs": [
    {
     "data": {
      "text/plain": [
       "5.3731343283582085"
      ]
     },
     "execution_count": 96,
     "metadata": {},
     "output_type": "execute_result"
    }
   ],
   "source": [
    "# percentage\n",
    "\n",
    "people_not_smoke = (len(current_breath_issues_but_do_not_smoke) / len(breathing_issue_data)) * 100\n",
    "people_not_smoke"
   ]
  },
  {
   "cell_type": "markdown",
   "id": "752f2f8d",
   "metadata": {},
   "source": [
    "##### So, 5.37% people have breathing issues who do welding but don't smoke"
   ]
  },
  {
   "cell_type": "code",
   "execution_count": 99,
   "id": "4147d1e5",
   "metadata": {},
   "outputs": [
    {
     "data": {
      "image/png": "[encoded data removed]",
      "text/plain": [
       "<Figure size 1000x800 with 1 Axes>"
      ]
     },
     "metadata": {},
     "output_type": "display_data"
    }
   ],
   "source": [
    "import pandas as pd\n",
    "import matplotlib.pyplot as plt\n",
    "\n",
    "data = {\n",
    "    'Category': ['Had No Breathing Issues Before', 'Had Breathing Issues Before', 'Having No Breathing Issues Now', 'Have Breathing Issues Now','Do welding but do not smoke','Do welding and do smoke'],\n",
    "    'Percentage': [had_no_issues, had_breathing_issue, having_no_issues,having_issues,people_not_smoke,people_who_smoke],\n",
    "    'Color': ['blue', 'red', 'green', 'orange','yellow','black']\n",
    "}\n",
    "\n",
    "df = pd.DataFrame(data)\n",
    "plt.figure(figsize=(10, 8))\n",
    "plt.bar(df['Category'], df['Percentage'], color=df['Color'])\n",
    "plt.xlabel('Category')\n",
    "plt.ylabel('Percentage')\n",
    "plt.title('Breathing Issue Summary')\n",
    "\n",
    "for i, value in enumerate(df['Percentage']):\n",
    "    plt.text(i, value, f'{value:.2f}%', ha='center', va='bottom')\n",
    "\n",
    "plt.xticks(rotation=65, ha='right')\n",
    "plt.tight_layout()\n",
    "\n",
    "plt.show()\n"
   ]
  },
  {
   "cell_type": "code",
   "execution_count": null,
   "id": "bab91629",
   "metadata": {},
   "outputs": [],
   "source": []
  }
 ],
 "metadata": {
  "kernelspec": {
   "display_name": "Python 3 (ipykernel)",
   "language": "python",
   "name": "python3"
  },
  "language_info": {
   "codemirror_mode": {
    "name": "ipython",
    "version": 3
   },
   "file_extension": ".py",
   "mimetype": "text/x-python",
   "name": "python",
   "nbconvert_exporter": "python",
   "pygments_lexer": "ipython3",
   "version": "3.9.13"
  }
 },
 "nbformat": 4,
 "nbformat_minor": 5
}
