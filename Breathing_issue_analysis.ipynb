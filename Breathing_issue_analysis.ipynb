{
 "cells": [
  {
   "cell_type": "code",
   "execution_count": 1,
   "id": "e9118704",
   "metadata": {},
   "outputs": [
    {
     "name": "stdout",
     "output_type": "stream",
     "text": [
      "Requirement already satisfied: numpy in c:\\users\\mahbub\\anaconda3\\lib\\site-packages (1.21.5)\n"
     ]
    }
   ],
   "source": [
    "!pip install numpy"
   ]
  },
  {
   "cell_type": "code",
   "execution_count": 2,
   "id": "e5e6677f",
   "metadata": {},
   "outputs": [
    {
     "name": "stdout",
     "output_type": "stream",
     "text": [
      "Requirement already satisfied: pandas in c:\\users\\mahbub\\anaconda3\\lib\\site-packages (1.4.4)\n",
      "Requirement already satisfied: pytz>=2020.1 in c:\\users\\mahbub\\anaconda3\\lib\\site-packages (from pandas) (2022.1)\n",
      "Requirement already satisfied: python-dateutil>=2.8.1 in c:\\users\\mahbub\\anaconda3\\lib\\site-packages (from pandas) (2.8.2)\n",
      "Requirement already satisfied: numpy>=1.18.5 in c:\\users\\mahbub\\anaconda3\\lib\\site-packages (from pandas) (1.21.5)\n",
      "Requirement already satisfied: six>=1.5 in c:\\users\\mahbub\\anaconda3\\lib\\site-packages (from python-dateutil>=2.8.1->pandas) (1.16.0)\n"
     ]
    }
   ],
   "source": [
    "!pip install pandas"
   ]
  },
  {
   "cell_type": "code",
   "execution_count": 3,
   "id": "197fa149",
   "metadata": {},
   "outputs": [],
   "source": [
    "import numpy as np\n",
    "import pandas as pd"
   ]
  },
  {
   "cell_type": "code",
   "execution_count": 4,
   "id": "f113b3ac",
   "metadata": {},
   "outputs": [],
   "source": [
    "data = pd.read_csv('C:\\\\Users\\\\Mahbub\\\\Documents\\\\Welding\\\\Welder-health-data-collection.csv')\n",
    "\n",
    "df = data.copy()\n"
   ]
  },
  {
   "cell_type": "code",
   "execution_count": 5,
   "id": "cd5c8d92",
   "metadata": {},
   "outputs": [],
   "source": [
    "# option to display all the columns\n",
    "pd.set_option('display.max_columns', None)"
   ]
  },
  {
   "cell_type": "code",
   "execution_count": 6,
   "id": "15015fec",
   "metadata": {},
   "outputs": [
    {
     "data": {
      "text/html": [
       "<div>\n",
       "<style scoped>\n",
       "    .dataframe tbody tr th:only-of-type {\n",
       "        vertical-align: middle;\n",
       "    }\n",
       "\n",
       "    .dataframe tbody tr th {\n",
       "        vertical-align: top;\n",
       "    }\n",
       "\n",
       "    .dataframe thead th {\n",
       "        text-align: right;\n",
       "    }\n",
       "</style>\n",
       "<table border=\"1\" class=\"dataframe\">\n",
       "  <thead>\n",
       "    <tr style=\"text-align: right;\">\n",
       "      <th></th>\n",
       "      <th>Timestamp</th>\n",
       "      <th>Serial number: (ক্রমিক সংখ্যা)</th>\n",
       "      <th>Name: (নাম)</th>\n",
       "      <th>Age: (বয়স)</th>\n",
       "      <th>Please fill your mobile number (মোবাইল নম্বর)</th>\n",
       "      <th>If you have NID  then, please provide your NID number(NID নম্বর):</th>\n",
       "      <th>Gender (লিঙ্গ)</th>\n",
       "      <th>Please specify your profession (পেশা):</th>\n",
       "      <th>Which workshop do you work  for? (কর্মশালার নাম):</th>\n",
       "      <th>Please select your work location (কর্মস্থল):</th>\n",
       "      <th>How many years have you been working?(কাজের সময়কাল)</th>\n",
       "      <th>Have you received  previous training on welding? (ঝালাইয়ের উপর কোন পূর্ববর্তী প্রশিক্ষণ?)</th>\n",
       "      <th>What is your average daily work hour (দৈনিক কাজের গড় ঘন্টা):</th>\n",
       "      <th>Which type of welding do you do? (ঝালাইয়ের ধরন):</th>\n",
       "      <th>What is your duration span for gas welding type? ( গ্যাস \\nওয়েল্ডিং ধরনের জন্য আপনার সময়কাল কত? ):</th>\n",
       "      <th>What is your duration span for arc welding type? ( আর্ক ওয়েল্ডিং ধরনের জন্য আপনার সময়কাল কত? )</th>\n",
       "      <th>What is your process of welding ?(ক্রমাগত ঝালাই  বা বিক্ষিপ্ত ঝালাই?)</th>\n",
       "      <th>Do you use any safety tools during welding? (ঝালাইয়ের সময় নিরাপত্তা)</th>\n",
       "      <th>What type of machine are you using (মেশিনের ধরন):</th>\n",
       "      <th>\\nPlease specify your machine's current range  (বিদ্যুত্প্রবাহ পরিসর)</th>\n",
       "      <th>Did you have any breathing issues before working? ( কাজ করার আগে আপনার কি শ্বাসকষ্টের সমস্যা ছিল?)</th>\n",
       "      <th>Do you currently have any breathing issue now? (এখন কি শ্বাসকষ্ট হয়?)</th>\n",
       "      <th>Did you have any previous eyesight issue before welding? (আগের দৃষ্টির কোনো সমস্যা ছিল?)</th>\n",
       "      <th>Do you currently have eye burning issue during night? (রাতে চোখ জ্বালা পোড়ার সমস্যা হয় ?):</th>\n",
       "      <th>Do you have any face burning issue? (মুখ জ্বালা করে?):</th>\n",
       "      <th>Do you face any  headache issues after work? (কাজের পরে মাথাব্যথা করে?)</th>\n",
       "      <th>Do you face any sleeping disorder issues? (ঘুমের সমস্যা হয়?)</th>\n",
       "      <th>How many hours of sleep do you get per night?  (প্রতিদিন ঘুমের গড় সময়)</th>\n",
       "      <th>Do you have any smoking habit? (ধূমপানের অভ্যাস)</th>\n",
       "      <th>Do we have your consent on taking picture for research purpose?(গবেষণার প্রয়োজনে  ছবি তোলার ব্যাপারে আপনার সম্মতি আছে ?)</th>\n",
       "      <th>Signature (স্বাক্ষর)</th>\n",
       "      <th>Email Address</th>\n",
       "      <th>Do you have any eyesight issue now? (আপনার কি এখন দৃষ্টিশক্তির কোনো সমস্যা আছে?)</th>\n",
       "    </tr>\n",
       "  </thead>\n",
       "  <tbody>\n",
       "    <tr>\n",
       "      <th>0</th>\n",
       "      <td>8/3/2022 0:07:31</td>\n",
       "      <td>1</td>\n",
       "      <td>test</td>\n",
       "      <td>23</td>\n",
       "      <td>1578131456</td>\n",
       "      <td>1.234568e+11</td>\n",
       "      <td>Male(পুরুষ)</td>\n",
       "      <td>Full time welder (পূর্ণকালীন ওয়েল্ডার)</td>\n",
       "      <td>test</td>\n",
       "      <td>Meherpur(মেহেরপুর)</td>\n",
       "      <td>6</td>\n",
       "      <td>Yes(হ্যাঁ)</td>\n",
       "      <td>7</td>\n",
       "      <td>Arc</td>\n",
       "      <td>8.0</td>\n",
       "      <td>jk</td>\n",
       "      <td>Continuous</td>\n",
       "      <td>Glass, Hand gloves</td>\n",
       "      <td>Local welding transformer</td>\n",
       "      <td>120-180 A</td>\n",
       "      <td>Yes(হ্যাঁ)</td>\n",
       "      <td>No(না)</td>\n",
       "      <td>Yes(হ্যাঁ)</td>\n",
       "      <td>Yes(হ্যাঁ)</td>\n",
       "      <td>No(না)</td>\n",
       "      <td>Yes(হ্যাঁ)</td>\n",
       "      <td>Yes(হ্যাঁ)</td>\n",
       "      <td>7</td>\n",
       "      <td>Yes(হ্যাঁ)</td>\n",
       "      <td>No(না)</td>\n",
       "      <td>https://drive.google.com/open?id=1Licqxuw7KAbU...</td>\n",
       "      <td>NaN</td>\n",
       "      <td>NaN</td>\n",
       "    </tr>\n",
       "    <tr>\n",
       "      <th>1</th>\n",
       "      <td>8/8/2022 8:30:45</td>\n",
       "      <td>10</td>\n",
       "      <td>Md.Selim</td>\n",
       "      <td>33</td>\n",
       "      <td>1710437192</td>\n",
       "      <td>NaN</td>\n",
       "      <td>Male(পুরুষ)</td>\n",
       "      <td>Full time welder (পূর্ণকালীন ওয়েল্ডার)</td>\n",
       "      <td>Mayer Dowa Engineering workshop</td>\n",
       "      <td>Rajshahi(রাজশাহী)</td>\n",
       "      <td>22</td>\n",
       "      <td>No(না)</td>\n",
       "      <td>11</td>\n",
       "      <td>Arc</td>\n",
       "      <td>NaN</td>\n",
       "      <td>22</td>\n",
       "      <td>Tacking</td>\n",
       "      <td>Glass</td>\n",
       "      <td>Both</td>\n",
       "      <td>120-180 A</td>\n",
       "      <td>No(না)</td>\n",
       "      <td>No(না)</td>\n",
       "      <td>No(না)</td>\n",
       "      <td>Yes(হ্যাঁ)</td>\n",
       "      <td>Yes(হ্যাঁ)</td>\n",
       "      <td>No(না)</td>\n",
       "      <td>No(না)</td>\n",
       "      <td>9</td>\n",
       "      <td>Yes(হ্যাঁ)</td>\n",
       "      <td>Yes(হ্যাঁ)</td>\n",
       "      <td>https://drive.google.com/open?id=1uyqc0qXJ_JI3...</td>\n",
       "      <td>Oviru98@gmail.com</td>\n",
       "      <td>NaN</td>\n",
       "    </tr>\n",
       "    <tr>\n",
       "      <th>2</th>\n",
       "      <td>8/8/2022 18:00:57</td>\n",
       "      <td>11</td>\n",
       "      <td>Md.Mahbub</td>\n",
       "      <td>30</td>\n",
       "      <td>1999279990</td>\n",
       "      <td>NaN</td>\n",
       "      <td>Male(পুরুষ)</td>\n",
       "      <td>Multipurpose worker (বহুমুখী কর্মী)</td>\n",
       "      <td>Saidul Engineering workshop</td>\n",
       "      <td>Rajshahi(রাজশাহী)</td>\n",
       "      <td>20</td>\n",
       "      <td>No(না)</td>\n",
       "      <td>11</td>\n",
       "      <td>Both</td>\n",
       "      <td>10.0</td>\n",
       "      <td>10</td>\n",
       "      <td>Tacking</td>\n",
       "      <td>Glass</td>\n",
       "      <td>Both</td>\n",
       "      <td>120-180 A</td>\n",
       "      <td>No(না)</td>\n",
       "      <td>No(না)</td>\n",
       "      <td>No(না)</td>\n",
       "      <td>Yes(হ্যাঁ)</td>\n",
       "      <td>Yes(হ্যাঁ)</td>\n",
       "      <td>Yes(হ্যাঁ)</td>\n",
       "      <td>No(না)</td>\n",
       "      <td>9</td>\n",
       "      <td>Yes(হ্যাঁ)</td>\n",
       "      <td>Yes(হ্যাঁ)</td>\n",
       "      <td>https://drive.google.com/open?id=1uOmIyM4ViKoD...</td>\n",
       "      <td>Oviru98@gmail.com</td>\n",
       "      <td>NaN</td>\n",
       "    </tr>\n",
       "    <tr>\n",
       "      <th>3</th>\n",
       "      <td>8/8/2022 18:15:54</td>\n",
       "      <td>12</td>\n",
       "      <td>Ahmed Ali</td>\n",
       "      <td>18</td>\n",
       "      <td>1903869844</td>\n",
       "      <td>NaN</td>\n",
       "      <td>Male(পুরুষ)</td>\n",
       "      <td>Full time welder (পূর্ণকালীন ওয়েল্ডার)</td>\n",
       "      <td>Saidul Engineering workshop</td>\n",
       "      <td>Rajshahi(রাজশাহী)</td>\n",
       "      <td>2</td>\n",
       "      <td>No(না)</td>\n",
       "      <td>11</td>\n",
       "      <td>Arc</td>\n",
       "      <td>NaN</td>\n",
       "      <td>2</td>\n",
       "      <td>Tacking</td>\n",
       "      <td>Glass</td>\n",
       "      <td>Both</td>\n",
       "      <td>120-180 A</td>\n",
       "      <td>No(না)</td>\n",
       "      <td>No(না)</td>\n",
       "      <td>No(না)</td>\n",
       "      <td>Yes(হ্যাঁ)</td>\n",
       "      <td>Yes(হ্যাঁ)</td>\n",
       "      <td>Yes(হ্যাঁ)</td>\n",
       "      <td>Yes(হ্যাঁ)</td>\n",
       "      <td>8</td>\n",
       "      <td>No(না)</td>\n",
       "      <td>Yes(হ্যাঁ)</td>\n",
       "      <td>https://drive.google.com/open?id=1yWYy5mSrzSL1...</td>\n",
       "      <td>Oviru98@gmail.con</td>\n",
       "      <td>NaN</td>\n",
       "    </tr>\n",
       "    <tr>\n",
       "      <th>4</th>\n",
       "      <td>8/8/2022 18:25:00</td>\n",
       "      <td>13</td>\n",
       "      <td>Md.Aminul Islam</td>\n",
       "      <td>32</td>\n",
       "      <td>1722936557</td>\n",
       "      <td>NaN</td>\n",
       "      <td>Male(পুরুষ)</td>\n",
       "      <td>Multipurpose worker (বহুমুখী কর্মী)</td>\n",
       "      <td>Sadia Engineering workshop</td>\n",
       "      <td>Rajshahi(রাজশাহী)</td>\n",
       "      <td>10</td>\n",
       "      <td>No(না)</td>\n",
       "      <td>11</td>\n",
       "      <td>Arc</td>\n",
       "      <td>NaN</td>\n",
       "      <td>10</td>\n",
       "      <td>Tacking</td>\n",
       "      <td>Glass</td>\n",
       "      <td>Both</td>\n",
       "      <td>120-180 A</td>\n",
       "      <td>No(না)</td>\n",
       "      <td>No(না)</td>\n",
       "      <td>No(না)</td>\n",
       "      <td>Yes(হ্যাঁ)</td>\n",
       "      <td>Yes(হ্যাঁ)</td>\n",
       "      <td>Yes(হ্যাঁ)</td>\n",
       "      <td>No(না)</td>\n",
       "      <td>9</td>\n",
       "      <td>Yes(হ্যাঁ)</td>\n",
       "      <td>Yes(হ্যাঁ)</td>\n",
       "      <td>https://drive.google.com/open?id=1gi9co_XWL48t...</td>\n",
       "      <td>Oviru98@gmail.com</td>\n",
       "      <td>NaN</td>\n",
       "    </tr>\n",
       "  </tbody>\n",
       "</table>\n",
       "</div>"
      ],
      "text/plain": [
       "           Timestamp Serial number: (ক্রমিক সংখ্যা)      Name: (নাম)  \\\n",
       "0   8/3/2022 0:07:31                              1             test   \n",
       "1   8/8/2022 8:30:45                             10         Md.Selim   \n",
       "2  8/8/2022 18:00:57                             11        Md.Mahbub   \n",
       "3  8/8/2022 18:15:54                             12        Ahmed Ali   \n",
       "4  8/8/2022 18:25:00                             13  Md.Aminul Islam   \n",
       "\n",
       "   Age: (বয়স)  Please fill your mobile number (মোবাইল নম্বর)  \\\n",
       "0           23                                     1578131456   \n",
       "1           33                                     1710437192   \n",
       "2           30                                     1999279990   \n",
       "3           18                                     1903869844   \n",
       "4           32                                     1722936557   \n",
       "\n",
       "   If you have NID  then, please provide your NID number(NID নম্বর):  \\\n",
       "0                                       1.234568e+11                   \n",
       "1                                                NaN                   \n",
       "2                                                NaN                   \n",
       "3                                                NaN                   \n",
       "4                                                NaN                   \n",
       "\n",
       "  Gender (লিঙ্গ)   Please specify your profession (পেশা):  \\\n",
       "0    Male(পুরুষ)  Full time welder (পূর্ণকালীন ওয়েল্ডার)   \n",
       "1    Male(পুরুষ)  Full time welder (পূর্ণকালীন ওয়েল্ডার)   \n",
       "2    Male(পুরুষ)      Multipurpose worker (বহুমুখী কর্মী)   \n",
       "3    Male(পুরুষ)  Full time welder (পূর্ণকালীন ওয়েল্ডার)   \n",
       "4    Male(পুরুষ)      Multipurpose worker (বহুমুখী কর্মী)   \n",
       "\n",
       "  Which workshop do you work  for? (কর্মশালার নাম):  \\\n",
       "0                                              test   \n",
       "1                  Mayer Dowa Engineering workshop    \n",
       "2                      Saidul Engineering workshop    \n",
       "3                      Saidul Engineering workshop    \n",
       "4                       Sadia Engineering workshop    \n",
       "\n",
       "  Please select your work location (কর্মস্থল):  \\\n",
       "0                           Meherpur(মেহেরপুর)   \n",
       "1                            Rajshahi(রাজশাহী)   \n",
       "2                            Rajshahi(রাজশাহী)   \n",
       "3                            Rajshahi(রাজশাহী)   \n",
       "4                            Rajshahi(রাজশাহী)   \n",
       "\n",
       "   How many years have you been working?(কাজের সময়কাল)  \\\n",
       "0                                                  6      \n",
       "1                                                 22      \n",
       "2                                                 20      \n",
       "3                                                  2      \n",
       "4                                                 10      \n",
       "\n",
       "  Have you received  previous training on welding? (ঝালাইয়ের উপর কোন পূর্ববর্তী প্রশিক্ষণ?)  \\\n",
       "0                                         Yes(হ্যাঁ)                                          \n",
       "1                                             No(না)                                          \n",
       "2                                             No(না)                                          \n",
       "3                                             No(না)                                          \n",
       "4                                             No(না)                                          \n",
       "\n",
       "   What is your average daily work hour (দৈনিক কাজের গড় ঘন্টা):  \\\n",
       "0                                                  7               \n",
       "1                                                 11               \n",
       "2                                                 11               \n",
       "3                                                 11               \n",
       "4                                                 11               \n",
       "\n",
       "  Which type of welding do you do? (ঝালাইয়ের ধরন):  \\\n",
       "0                                              Arc   \n",
       "1                                              Arc   \n",
       "2                                             Both   \n",
       "3                                              Arc   \n",
       "4                                              Arc   \n",
       "\n",
       "   What is your duration span for gas welding type? ( গ্যাস \\nওয়েল্ডিং ধরনের জন্য আপনার সময়কাল কত? ):  \\\n",
       "0                                                8.0                                                      \n",
       "1                                                NaN                                                      \n",
       "2                                               10.0                                                      \n",
       "3                                                NaN                                                      \n",
       "4                                                NaN                                                      \n",
       "\n",
       "  What is your duration span for arc welding type? ( আর্ক ওয়েল্ডিং ধরনের জন্য আপনার সময়কাল কত? )  \\\n",
       "0                                                 jk                                                 \n",
       "1                                                 22                                                 \n",
       "2                                                 10                                                 \n",
       "3                                                  2                                                 \n",
       "4                                                 10                                                 \n",
       "\n",
       "  What is your process of welding ?(ক্রমাগত ঝালাই  বা বিক্ষিপ্ত ঝালাই?)  \\\n",
       "0                                         Continuous                      \n",
       "1                                            Tacking                      \n",
       "2                                            Tacking                      \n",
       "3                                            Tacking                      \n",
       "4                                            Tacking                      \n",
       "\n",
       "  Do you use any safety tools during welding? (ঝালাইয়ের সময় নিরাপত্তা)  \\\n",
       "0                                 Glass, Hand gloves                      \n",
       "1                                              Glass                      \n",
       "2                                              Glass                      \n",
       "3                                              Glass                      \n",
       "4                                              Glass                      \n",
       "\n",
       "  What type of machine are you using (মেশিনের ধরন):  \\\n",
       "0                         Local welding transformer   \n",
       "1                                              Both   \n",
       "2                                              Both   \n",
       "3                                              Both   \n",
       "4                                              Both   \n",
       "\n",
       "  \\nPlease specify your machine's current range  (বিদ্যুত্প্রবাহ পরিসর)  \\\n",
       "0                                          120-180 A                      \n",
       "1                                          120-180 A                      \n",
       "2                                          120-180 A                      \n",
       "3                                          120-180 A                      \n",
       "4                                          120-180 A                      \n",
       "\n",
       "  Did you have any breathing issues before working? ( কাজ করার আগে আপনার কি শ্বাসকষ্টের সমস্যা ছিল?)  \\\n",
       "0                                         Yes(হ্যাঁ)                                                   \n",
       "1                                             No(না)                                                   \n",
       "2                                             No(না)                                                   \n",
       "3                                             No(না)                                                   \n",
       "4                                             No(না)                                                   \n",
       "\n",
       "  Do you currently have any breathing issue now? (এখন কি শ্বাসকষ্ট হয়?)  \\\n",
       "0                                             No(না)                      \n",
       "1                                             No(না)                      \n",
       "2                                             No(না)                      \n",
       "3                                             No(না)                      \n",
       "4                                             No(না)                      \n",
       "\n",
       "  Did you have any previous eyesight issue before welding? (আগের দৃষ্টির কোনো সমস্যা ছিল?)  \\\n",
       "0                                         Yes(হ্যাঁ)                                         \n",
       "1                                             No(না)                                         \n",
       "2                                             No(না)                                         \n",
       "3                                             No(না)                                         \n",
       "4                                             No(না)                                         \n",
       "\n",
       "  Do you currently have eye burning issue during night? (রাতে চোখ জ্বালা পোড়ার সমস্যা হয় ?):  \\\n",
       "0                                         Yes(হ্যাঁ)                                             \n",
       "1                                         Yes(হ্যাঁ)                                             \n",
       "2                                         Yes(হ্যাঁ)                                             \n",
       "3                                         Yes(হ্যাঁ)                                             \n",
       "4                                         Yes(হ্যাঁ)                                             \n",
       "\n",
       "  Do you have any face burning issue? (মুখ জ্বালা করে?):  \\\n",
       "0                                             No(না)       \n",
       "1                                         Yes(হ্যাঁ)       \n",
       "2                                         Yes(হ্যাঁ)       \n",
       "3                                         Yes(হ্যাঁ)       \n",
       "4                                         Yes(হ্যাঁ)       \n",
       "\n",
       "  Do you face any  headache issues after work? (কাজের পরে মাথাব্যথা করে?)  \\\n",
       "0                                         Yes(হ্যাঁ)                        \n",
       "1                                             No(না)                        \n",
       "2                                         Yes(হ্যাঁ)                        \n",
       "3                                         Yes(হ্যাঁ)                        \n",
       "4                                         Yes(হ্যাঁ)                        \n",
       "\n",
       "  Do you face any sleeping disorder issues? (ঘুমের সমস্যা হয়?)  \\\n",
       "0                                         Yes(হ্যাঁ)             \n",
       "1                                             No(না)             \n",
       "2                                             No(না)             \n",
       "3                                         Yes(হ্যাঁ)             \n",
       "4                                             No(না)             \n",
       "\n",
       "   How many hours of sleep do you get per night?  (প্রতিদিন ঘুমের গড় সময়)  \\\n",
       "0                                                  7                          \n",
       "1                                                  9                          \n",
       "2                                                  9                          \n",
       "3                                                  8                          \n",
       "4                                                  9                          \n",
       "\n",
       "  Do you have any smoking habit? (ধূমপানের অভ্যাস)  \\\n",
       "0                                       Yes(হ্যাঁ)   \n",
       "1                                       Yes(হ্যাঁ)   \n",
       "2                                       Yes(হ্যাঁ)   \n",
       "3                                           No(না)   \n",
       "4                                       Yes(হ্যাঁ)   \n",
       "\n",
       "  Do we have your consent on taking picture for research purpose?(গবেষণার প্রয়োজনে  ছবি তোলার ব্যাপারে আপনার সম্মতি আছে ?)  \\\n",
       "0                                             No(না)                                                                         \n",
       "1                                         Yes(হ্যাঁ)                                                                         \n",
       "2                                         Yes(হ্যাঁ)                                                                         \n",
       "3                                         Yes(হ্যাঁ)                                                                         \n",
       "4                                         Yes(হ্যাঁ)                                                                         \n",
       "\n",
       "                                Signature (স্বাক্ষর)      Email Address  \\\n",
       "0  https://drive.google.com/open?id=1Licqxuw7KAbU...                NaN   \n",
       "1  https://drive.google.com/open?id=1uyqc0qXJ_JI3...  Oviru98@gmail.com   \n",
       "2  https://drive.google.com/open?id=1uOmIyM4ViKoD...  Oviru98@gmail.com   \n",
       "3  https://drive.google.com/open?id=1yWYy5mSrzSL1...  Oviru98@gmail.con   \n",
       "4  https://drive.google.com/open?id=1gi9co_XWL48t...  Oviru98@gmail.com   \n",
       "\n",
       "  Do you have any eyesight issue now? (আপনার কি এখন দৃষ্টিশক্তির কোনো সমস্যা আছে?)  \n",
       "0                                                NaN                                \n",
       "1                                                NaN                                \n",
       "2                                                NaN                                \n",
       "3                                                NaN                                \n",
       "4                                                NaN                                "
      ]
     },
     "execution_count": 6,
     "metadata": {},
     "output_type": "execute_result"
    }
   ],
   "source": [
    "df.head()"
   ]
  },
  {
   "cell_type": "code",
   "execution_count": 7,
   "id": "1bd2ae79",
   "metadata": {},
   "outputs": [
    {
     "data": {
      "text/plain": [
       "Index(['Timestamp', 'Serial number: (ক্রমিক সংখ্যা)', 'Name: (নাম)',\n",
       "       'Age: (বয়স)', 'Please fill your mobile number (মোবাইল নম্বর)',\n",
       "       'If you have NID  then, please provide your NID number(NID নম্বর):',\n",
       "       'Gender (লিঙ্গ)', 'Please specify your profession (পেশা):',\n",
       "       'Which workshop do you work  for? (কর্মশালার নাম):',\n",
       "       'Please select your work location (কর্মস্থল):',\n",
       "       'How many years have you been working?(কাজের সময়কাল)',\n",
       "       'Have you received  previous training on welding? (ঝালাইয়ের উপর কোন পূর্ববর্তী প্রশিক্ষণ?)',\n",
       "       'What is your average daily work hour (দৈনিক কাজের গড় ঘন্টা):',\n",
       "       'Which type of welding do you do? (ঝালাইয়ের ধরন):',\n",
       "       'What is your duration span for gas welding type? ( গ্যাস \\nওয়েল্ডিং ধরনের জন্য আপনার সময়কাল কত? ):',\n",
       "       'What is your duration span for arc welding type? ( আর্ক ওয়েল্ডিং ধরনের জন্য আপনার সময়কাল কত? )',\n",
       "       'What is your process of welding ?(ক্রমাগত ঝালাই  বা বিক্ষিপ্ত ঝালাই?)',\n",
       "       'Do you use any safety tools during welding? (ঝালাইয়ের সময় নিরাপত্তা)',\n",
       "       'What type of machine are you using (মেশিনের ধরন):',\n",
       "       '\\nPlease specify your machine's current range  (বিদ্যুত্প্রবাহ পরিসর)',\n",
       "       'Did you have any breathing issues before working? ( কাজ করার আগে আপনার কি শ্বাসকষ্টের সমস্যা ছিল?)',\n",
       "       'Do you currently have any breathing issue now? (এখন কি শ্বাসকষ্ট হয়?)',\n",
       "       'Did you have any previous eyesight issue before welding? (আগের দৃষ্টির কোনো সমস্যা ছিল?)',\n",
       "       'Do you currently have eye burning issue during night? (রাতে চোখ জ্বালা পোড়ার সমস্যা হয় ?):',\n",
       "       'Do you have any face burning issue? (মুখ জ্বালা করে?):',\n",
       "       'Do you face any  headache issues after work? (কাজের পরে মাথাব্যথা করে?)',\n",
       "       'Do you face any sleeping disorder issues? (ঘুমের সমস্যা হয়?)',\n",
       "       'How many hours of sleep do you get per night?  (প্রতিদিন ঘুমের গড় সময়)',\n",
       "       'Do you have any smoking habit? (ধূমপানের অভ্যাস)',\n",
       "       'Do we have your consent on taking picture for research purpose?(গবেষণার প্রয়োজনে  ছবি তোলার ব্যাপারে আপনার সম্মতি আছে ?)',\n",
       "       'Signature (স্বাক্ষর)', 'Email Address',\n",
       "       'Do you have any eyesight issue now? (আপনার কি এখন দৃষ্টিশক্তির কোনো সমস্যা আছে?)'],\n",
       "      dtype='object')"
      ]
     },
     "execution_count": 7,
     "metadata": {},
     "output_type": "execute_result"
    }
   ],
   "source": [
    "df.columns"
   ]
  },
  {
   "cell_type": "markdown",
   "id": "c084ae93",
   "metadata": {},
   "source": [
    "# Breathing Issue"
   ]
  },
  {
   "cell_type": "code",
   "execution_count": 8,
   "id": "4f590665",
   "metadata": {},
   "outputs": [],
   "source": [
    "breathing_issue_data = df[['Age: (বয়স)','Gender (লিঙ্গ)','Please specify your profession (পেশা):',\n",
    "    \n",
    "   'How many years have you been working?(কাজের সময়কাল)',\n",
    "   \n",
    "   'What is your average daily work hour (দৈনিক কাজের গড় ঘন্টা):',\n",
    "   'Which type of welding do you do? (ঝালাইয়ের ধরন):',\n",
    "   'What is your duration span for gas welding type? ( গ্যাস \\nওয়েল্ডিং ধরনের জন্য আপনার সময়কাল কত? ):',\n",
    "   'What is your duration span for arc welding type? ( আর্ক ওয়েল্ডিং ধরনের জন্য আপনার সময়কাল কত? )',\n",
    "   'What is your process of welding ?(ক্রমাগত ঝালাই  বা বিক্ষিপ্ত ঝালাই?)',\n",
    "   'Do you use any safety tools during welding? (ঝালাইয়ের সময় নিরাপত্তা)',\n",
    "   \"\\nPlease specify your machine's current range  (বিদ্যুত্প্রবাহ পরিসর)\",\n",
    "   'Did you have any breathing issues before working? ( কাজ করার আগে আপনার কি শ্বাসকষ্টের সমস্যা ছিল?)',\n",
    "   'Do you currently have any breathing issue now? (এখন কি শ্বাসকষ্ট হয়?)',\n",
    "   'Do you have any smoking habit? (ধূমপানের অভ্যাস)',\n",
    "   ]]"
   ]
  },
  {
   "cell_type": "code",
   "execution_count": 9,
   "id": "f8de1e40",
   "metadata": {},
   "outputs": [
    {
     "data": {
      "text/html": [
       "<div>\n",
       "<style scoped>\n",
       "    .dataframe tbody tr th:only-of-type {\n",
       "        vertical-align: middle;\n",
       "    }\n",
       "\n",
       "    .dataframe tbody tr th {\n",
       "        vertical-align: top;\n",
       "    }\n",
       "\n",
       "    .dataframe thead th {\n",
       "        text-align: right;\n",
       "    }\n",
       "</style>\n",
       "<table border=\"1\" class=\"dataframe\">\n",
       "  <thead>\n",
       "    <tr style=\"text-align: right;\">\n",
       "      <th></th>\n",
       "      <th>Age</th>\n",
       "      <th>Gender</th>\n",
       "      <th>Profession</th>\n",
       "      <th>Years of experience</th>\n",
       "      <th>Average work hour(Daily)</th>\n",
       "      <th>Type of welding</th>\n",
       "      <th>Duration span for gas welding</th>\n",
       "      <th>Duration span for arc welding</th>\n",
       "      <th>Process of welding</th>\n",
       "      <th>Use of safety tools</th>\n",
       "      <th>Machine current range</th>\n",
       "      <th>Breathing issues before welding work</th>\n",
       "      <th>Currently having any breathing issue</th>\n",
       "      <th>Smoking havit</th>\n",
       "    </tr>\n",
       "  </thead>\n",
       "  <tbody>\n",
       "    <tr>\n",
       "      <th>0</th>\n",
       "      <td>23</td>\n",
       "      <td>Male(পুরুষ)</td>\n",
       "      <td>Full time welder (পূর্ণকালীন ওয়েল্ডার)</td>\n",
       "      <td>6</td>\n",
       "      <td>7</td>\n",
       "      <td>Arc</td>\n",
       "      <td>8.0</td>\n",
       "      <td>jk</td>\n",
       "      <td>Continuous</td>\n",
       "      <td>Glass, Hand gloves</td>\n",
       "      <td>120-180 A</td>\n",
       "      <td>Yes(হ্যাঁ)</td>\n",
       "      <td>No(না)</td>\n",
       "      <td>Yes(হ্যাঁ)</td>\n",
       "    </tr>\n",
       "    <tr>\n",
       "      <th>1</th>\n",
       "      <td>33</td>\n",
       "      <td>Male(পুরুষ)</td>\n",
       "      <td>Full time welder (পূর্ণকালীন ওয়েল্ডার)</td>\n",
       "      <td>22</td>\n",
       "      <td>11</td>\n",
       "      <td>Arc</td>\n",
       "      <td>NaN</td>\n",
       "      <td>22</td>\n",
       "      <td>Tacking</td>\n",
       "      <td>Glass</td>\n",
       "      <td>120-180 A</td>\n",
       "      <td>No(না)</td>\n",
       "      <td>No(না)</td>\n",
       "      <td>Yes(হ্যাঁ)</td>\n",
       "    </tr>\n",
       "    <tr>\n",
       "      <th>2</th>\n",
       "      <td>30</td>\n",
       "      <td>Male(পুরুষ)</td>\n",
       "      <td>Multipurpose worker (বহুমুখী কর্মী)</td>\n",
       "      <td>20</td>\n",
       "      <td>11</td>\n",
       "      <td>Both</td>\n",
       "      <td>10.0</td>\n",
       "      <td>10</td>\n",
       "      <td>Tacking</td>\n",
       "      <td>Glass</td>\n",
       "      <td>120-180 A</td>\n",
       "      <td>No(না)</td>\n",
       "      <td>No(না)</td>\n",
       "      <td>Yes(হ্যাঁ)</td>\n",
       "    </tr>\n",
       "    <tr>\n",
       "      <th>3</th>\n",
       "      <td>18</td>\n",
       "      <td>Male(পুরুষ)</td>\n",
       "      <td>Full time welder (পূর্ণকালীন ওয়েল্ডার)</td>\n",
       "      <td>2</td>\n",
       "      <td>11</td>\n",
       "      <td>Arc</td>\n",
       "      <td>NaN</td>\n",
       "      <td>2</td>\n",
       "      <td>Tacking</td>\n",
       "      <td>Glass</td>\n",
       "      <td>120-180 A</td>\n",
       "      <td>No(না)</td>\n",
       "      <td>No(না)</td>\n",
       "      <td>No(না)</td>\n",
       "    </tr>\n",
       "    <tr>\n",
       "      <th>4</th>\n",
       "      <td>32</td>\n",
       "      <td>Male(পুরুষ)</td>\n",
       "      <td>Multipurpose worker (বহুমুখী কর্মী)</td>\n",
       "      <td>10</td>\n",
       "      <td>11</td>\n",
       "      <td>Arc</td>\n",
       "      <td>NaN</td>\n",
       "      <td>10</td>\n",
       "      <td>Tacking</td>\n",
       "      <td>Glass</td>\n",
       "      <td>120-180 A</td>\n",
       "      <td>No(না)</td>\n",
       "      <td>No(না)</td>\n",
       "      <td>Yes(হ্যাঁ)</td>\n",
       "    </tr>\n",
       "    <tr>\n",
       "      <th>...</th>\n",
       "      <td>...</td>\n",
       "      <td>...</td>\n",
       "      <td>...</td>\n",
       "      <td>...</td>\n",
       "      <td>...</td>\n",
       "      <td>...</td>\n",
       "      <td>...</td>\n",
       "      <td>...</td>\n",
       "      <td>...</td>\n",
       "      <td>...</td>\n",
       "      <td>...</td>\n",
       "      <td>...</td>\n",
       "      <td>...</td>\n",
       "      <td>...</td>\n",
       "    </tr>\n",
       "    <tr>\n",
       "      <th>146</th>\n",
       "      <td>18</td>\n",
       "      <td>Male(পুরুষ)</td>\n",
       "      <td>Full time welder (পূর্ণকালীন ওয়েল্ডার)</td>\n",
       "      <td>4</td>\n",
       "      <td>9</td>\n",
       "      <td>Arc</td>\n",
       "      <td>NaN</td>\n",
       "      <td>4</td>\n",
       "      <td>Tacking</td>\n",
       "      <td>Glass</td>\n",
       "      <td>120-180 A</td>\n",
       "      <td>No(না)</td>\n",
       "      <td>No(না)</td>\n",
       "      <td>Yes(হ্যাঁ)</td>\n",
       "    </tr>\n",
       "    <tr>\n",
       "      <th>147</th>\n",
       "      <td>27</td>\n",
       "      <td>Male(পুরুষ)</td>\n",
       "      <td>Full time welder (পূর্ণকালীন ওয়েল্ডার)</td>\n",
       "      <td>3</td>\n",
       "      <td>9</td>\n",
       "      <td>Arc</td>\n",
       "      <td>NaN</td>\n",
       "      <td>3</td>\n",
       "      <td>Continuous</td>\n",
       "      <td>Glass</td>\n",
       "      <td>120-180 A</td>\n",
       "      <td>No(না)</td>\n",
       "      <td>No(না)</td>\n",
       "      <td>Yes(হ্যাঁ)</td>\n",
       "    </tr>\n",
       "    <tr>\n",
       "      <th>148</th>\n",
       "      <td>26</td>\n",
       "      <td>Male(পুরুষ)</td>\n",
       "      <td>Multipurpose worker (বহুমুখী কর্মী)</td>\n",
       "      <td>10</td>\n",
       "      <td>9</td>\n",
       "      <td>Arc</td>\n",
       "      <td>NaN</td>\n",
       "      <td>10</td>\n",
       "      <td>Continuous</td>\n",
       "      <td>Glass</td>\n",
       "      <td>120-180 A</td>\n",
       "      <td>No(না)</td>\n",
       "      <td>No(না)</td>\n",
       "      <td>No(না)</td>\n",
       "    </tr>\n",
       "    <tr>\n",
       "      <th>149</th>\n",
       "      <td>38</td>\n",
       "      <td>Male(পুরুষ)</td>\n",
       "      <td>Multipurpose worker (বহুমুখী কর্মী)</td>\n",
       "      <td>22</td>\n",
       "      <td>9</td>\n",
       "      <td>Arc</td>\n",
       "      <td>NaN</td>\n",
       "      <td>22</td>\n",
       "      <td>Continuous</td>\n",
       "      <td>Glass</td>\n",
       "      <td>120-180 A</td>\n",
       "      <td>No(না)</td>\n",
       "      <td>No(না)</td>\n",
       "      <td>Yes(হ্যাঁ)</td>\n",
       "    </tr>\n",
       "    <tr>\n",
       "      <th>150</th>\n",
       "      <td>23</td>\n",
       "      <td>Male(পুরুষ)</td>\n",
       "      <td>Multipurpose worker (বহুমুখী কর্মী)</td>\n",
       "      <td>3</td>\n",
       "      <td>12</td>\n",
       "      <td>Arc</td>\n",
       "      <td>NaN</td>\n",
       "      <td>3</td>\n",
       "      <td>Tacking</td>\n",
       "      <td>Glass</td>\n",
       "      <td>120-180 A</td>\n",
       "      <td>No(না)</td>\n",
       "      <td>No(না)</td>\n",
       "      <td>Yes(হ্যাঁ)</td>\n",
       "    </tr>\n",
       "  </tbody>\n",
       "</table>\n",
       "<p>151 rows × 14 columns</p>\n",
       "</div>"
      ],
      "text/plain": [
       "     Age       Gender                               Profession  \\\n",
       "0     23  Male(পুরুষ)  Full time welder (পূর্ণকালীন ওয়েল্ডার)   \n",
       "1     33  Male(পুরুষ)  Full time welder (পূর্ণকালীন ওয়েল্ডার)   \n",
       "2     30  Male(পুরুষ)      Multipurpose worker (বহুমুখী কর্মী)   \n",
       "3     18  Male(পুরুষ)  Full time welder (পূর্ণকালীন ওয়েল্ডার)   \n",
       "4     32  Male(পুরুষ)      Multipurpose worker (বহুমুখী কর্মী)   \n",
       "..   ...          ...                                      ...   \n",
       "146   18  Male(পুরুষ)  Full time welder (পূর্ণকালীন ওয়েল্ডার)   \n",
       "147   27  Male(পুরুষ)  Full time welder (পূর্ণকালীন ওয়েল্ডার)   \n",
       "148   26  Male(পুরুষ)      Multipurpose worker (বহুমুখী কর্মী)   \n",
       "149   38  Male(পুরুষ)      Multipurpose worker (বহুমুখী কর্মী)   \n",
       "150   23  Male(পুরুষ)      Multipurpose worker (বহুমুখী কর্মী)   \n",
       "\n",
       "     Years of experience  Average work hour(Daily) Type of welding  \\\n",
       "0                      6                         7             Arc   \n",
       "1                     22                        11             Arc   \n",
       "2                     20                        11            Both   \n",
       "3                      2                        11             Arc   \n",
       "4                     10                        11             Arc   \n",
       "..                   ...                       ...             ...   \n",
       "146                    4                         9             Arc   \n",
       "147                    3                         9             Arc   \n",
       "148                   10                         9             Arc   \n",
       "149                   22                         9             Arc   \n",
       "150                    3                        12             Arc   \n",
       "\n",
       "     Duration span for gas welding Duration span for arc welding  \\\n",
       "0                              8.0                            jk   \n",
       "1                              NaN                            22   \n",
       "2                             10.0                            10   \n",
       "3                              NaN                             2   \n",
       "4                              NaN                            10   \n",
       "..                             ...                           ...   \n",
       "146                            NaN                             4   \n",
       "147                            NaN                             3   \n",
       "148                            NaN                            10   \n",
       "149                            NaN                            22   \n",
       "150                            NaN                             3   \n",
       "\n",
       "    Process of welding Use of safety tools Machine current range  \\\n",
       "0           Continuous  Glass, Hand gloves             120-180 A   \n",
       "1              Tacking               Glass             120-180 A   \n",
       "2              Tacking               Glass             120-180 A   \n",
       "3              Tacking               Glass             120-180 A   \n",
       "4              Tacking               Glass             120-180 A   \n",
       "..                 ...                 ...                   ...   \n",
       "146            Tacking               Glass             120-180 A   \n",
       "147         Continuous               Glass             120-180 A   \n",
       "148         Continuous               Glass             120-180 A   \n",
       "149         Continuous               Glass             120-180 A   \n",
       "150            Tacking               Glass             120-180 A   \n",
       "\n",
       "    Breathing issues before welding work Currently having any breathing issue  \\\n",
       "0                             Yes(হ্যাঁ)                               No(না)   \n",
       "1                                 No(না)                               No(না)   \n",
       "2                                 No(না)                               No(না)   \n",
       "3                                 No(না)                               No(না)   \n",
       "4                                 No(না)                               No(না)   \n",
       "..                                   ...                                  ...   \n",
       "146                               No(না)                               No(না)   \n",
       "147                               No(না)                               No(না)   \n",
       "148                               No(না)                               No(না)   \n",
       "149                               No(না)                               No(না)   \n",
       "150                               No(না)                               No(না)   \n",
       "\n",
       "    Smoking havit  \n",
       "0      Yes(হ্যাঁ)  \n",
       "1      Yes(হ্যাঁ)  \n",
       "2      Yes(হ্যাঁ)  \n",
       "3          No(না)  \n",
       "4      Yes(হ্যাঁ)  \n",
       "..            ...  \n",
       "146    Yes(হ্যাঁ)  \n",
       "147    Yes(হ্যাঁ)  \n",
       "148        No(না)  \n",
       "149    Yes(হ্যাঁ)  \n",
       "150    Yes(হ্যাঁ)  \n",
       "\n",
       "[151 rows x 14 columns]"
      ]
     },
     "execution_count": 9,
     "metadata": {},
     "output_type": "execute_result"
    }
   ],
   "source": [
    "# renaming columns\n",
    "\n",
    "column_mapping = {\n",
    "    'Age: (বয়স)':'Age',\n",
    "    'Gender (লিঙ্গ)':'Gender',\n",
    "    'Please specify your profession (পেশা):' : 'Profession',\n",
    "    'How many years have you been working?(কাজের সময়কাল)': 'Years of experience',\n",
    "    'What is your average daily work hour (দৈনিক কাজের গড় ঘন্টা):': 'Average work hour(Daily)',\n",
    "    'Which type of welding do you do? (ঝালাইয়ের ধরন):': 'Type of welding',\n",
    "    'What is your duration span for gas welding type? ( গ্যাস \\nওয়েল্ডিং ধরনের জন্য আপনার সময়কাল কত? ):': 'Duration span for gas welding',\n",
    "    'What is your duration span for arc welding type? ( আর্ক ওয়েল্ডিং ধরনের জন্য আপনার সময়কাল কত? )': 'Duration span for arc welding',\n",
    "    'What is your process of welding ?(ক্রমাগত ঝালাই  বা বিক্ষিপ্ত ঝালাই?)': 'Process of welding',\n",
    "    'Do you use any safety tools during welding? (ঝালাইয়ের সময় নিরাপত্তা)': 'Use of safety tools',\n",
    "    \"\\nPlease specify your machine's current range  (বিদ্যুত্প্রবাহ পরিসর)\":'Machine current range',\n",
    "    'Did you have any breathing issues before working? ( কাজ করার আগে আপনার কি শ্বাসকষ্টের সমস্যা ছিল?)':'Breathing issues before welding work',\n",
    "    'Do you currently have any breathing issue now? (এখন কি শ্বাসকষ্ট হয়?)': 'Currently having any breathing issue',\n",
    "    'Do you have any smoking habit? (ধূমপানের অভ্যাস)':'Smoking havit'\n",
    "    \n",
    "}\n",
    "\n",
    "\n",
    "breathing_issue_data=breathing_issue_data.rename(columns=column_mapping)\n",
    "breathing_issue_data"
   ]
  },
  {
   "cell_type": "code",
   "execution_count": null,
   "id": "6f86b448",
   "metadata": {},
   "outputs": [],
   "source": []
  },
  {
   "cell_type": "code",
   "execution_count": null,
   "id": "23d6c39a",
   "metadata": {},
   "outputs": [],
   "source": []
  },
  {
   "cell_type": "code",
   "execution_count": 10,
   "id": "edd7ccfb",
   "metadata": {},
   "outputs": [
    {
     "data": {
      "text/html": [
       "<div>\n",
       "<style scoped>\n",
       "    .dataframe tbody tr th:only-of-type {\n",
       "        vertical-align: middle;\n",
       "    }\n",
       "\n",
       "    .dataframe tbody tr th {\n",
       "        vertical-align: top;\n",
       "    }\n",
       "\n",
       "    .dataframe thead th {\n",
       "        text-align: right;\n",
       "    }\n",
       "</style>\n",
       "<table border=\"1\" class=\"dataframe\">\n",
       "  <thead>\n",
       "    <tr style=\"text-align: right;\">\n",
       "      <th></th>\n",
       "      <th>Age</th>\n",
       "      <th>Gender</th>\n",
       "      <th>Profession</th>\n",
       "      <th>Years of experience</th>\n",
       "      <th>Average work hour(Daily)</th>\n",
       "      <th>Type of welding</th>\n",
       "      <th>Duration span for gas welding</th>\n",
       "      <th>Duration span for arc welding</th>\n",
       "      <th>Process of welding</th>\n",
       "      <th>Use of safety tools</th>\n",
       "      <th>Machine current range</th>\n",
       "      <th>Breathing issues before welding work</th>\n",
       "      <th>Currently having any breathing issue</th>\n",
       "      <th>Smoking havit</th>\n",
       "    </tr>\n",
       "  </thead>\n",
       "  <tbody>\n",
       "    <tr>\n",
       "      <th>0</th>\n",
       "      <td>23</td>\n",
       "      <td>Male(পুরুষ)</td>\n",
       "      <td>Full time welder (পূর্ণকালীন ওয়েল্ডার)</td>\n",
       "      <td>6</td>\n",
       "      <td>7</td>\n",
       "      <td>Arc</td>\n",
       "      <td>8.0</td>\n",
       "      <td>jk</td>\n",
       "      <td>Continuous</td>\n",
       "      <td>Glass, Hand gloves</td>\n",
       "      <td>120-180 A</td>\n",
       "      <td>Yes(হ্যাঁ)</td>\n",
       "      <td>No(না)</td>\n",
       "      <td>Yes(হ্যাঁ)</td>\n",
       "    </tr>\n",
       "    <tr>\n",
       "      <th>1</th>\n",
       "      <td>33</td>\n",
       "      <td>Male(পুরুষ)</td>\n",
       "      <td>Full time welder (পূর্ণকালীন ওয়েল্ডার)</td>\n",
       "      <td>22</td>\n",
       "      <td>11</td>\n",
       "      <td>Arc</td>\n",
       "      <td>NaN</td>\n",
       "      <td>22</td>\n",
       "      <td>Tacking</td>\n",
       "      <td>Glass</td>\n",
       "      <td>120-180 A</td>\n",
       "      <td>No(না)</td>\n",
       "      <td>No(না)</td>\n",
       "      <td>Yes(হ্যাঁ)</td>\n",
       "    </tr>\n",
       "    <tr>\n",
       "      <th>2</th>\n",
       "      <td>30</td>\n",
       "      <td>Male(পুরুষ)</td>\n",
       "      <td>Multipurpose worker (বহুমুখী কর্মী)</td>\n",
       "      <td>20</td>\n",
       "      <td>11</td>\n",
       "      <td>Both</td>\n",
       "      <td>10.0</td>\n",
       "      <td>10</td>\n",
       "      <td>Tacking</td>\n",
       "      <td>Glass</td>\n",
       "      <td>120-180 A</td>\n",
       "      <td>No(না)</td>\n",
       "      <td>No(না)</td>\n",
       "      <td>Yes(হ্যাঁ)</td>\n",
       "    </tr>\n",
       "    <tr>\n",
       "      <th>3</th>\n",
       "      <td>18</td>\n",
       "      <td>Male(পুরুষ)</td>\n",
       "      <td>Full time welder (পূর্ণকালীন ওয়েল্ডার)</td>\n",
       "      <td>2</td>\n",
       "      <td>11</td>\n",
       "      <td>Arc</td>\n",
       "      <td>NaN</td>\n",
       "      <td>2</td>\n",
       "      <td>Tacking</td>\n",
       "      <td>Glass</td>\n",
       "      <td>120-180 A</td>\n",
       "      <td>No(না)</td>\n",
       "      <td>No(না)</td>\n",
       "      <td>No(না)</td>\n",
       "    </tr>\n",
       "    <tr>\n",
       "      <th>4</th>\n",
       "      <td>32</td>\n",
       "      <td>Male(পুরুষ)</td>\n",
       "      <td>Multipurpose worker (বহুমুখী কর্মী)</td>\n",
       "      <td>10</td>\n",
       "      <td>11</td>\n",
       "      <td>Arc</td>\n",
       "      <td>NaN</td>\n",
       "      <td>10</td>\n",
       "      <td>Tacking</td>\n",
       "      <td>Glass</td>\n",
       "      <td>120-180 A</td>\n",
       "      <td>No(না)</td>\n",
       "      <td>No(না)</td>\n",
       "      <td>Yes(হ্যাঁ)</td>\n",
       "    </tr>\n",
       "  </tbody>\n",
       "</table>\n",
       "</div>"
      ],
      "text/plain": [
       "   Age       Gender                               Profession  \\\n",
       "0   23  Male(পুরুষ)  Full time welder (পূর্ণকালীন ওয়েল্ডার)   \n",
       "1   33  Male(পুরুষ)  Full time welder (পূর্ণকালীন ওয়েল্ডার)   \n",
       "2   30  Male(পুরুষ)      Multipurpose worker (বহুমুখী কর্মী)   \n",
       "3   18  Male(পুরুষ)  Full time welder (পূর্ণকালীন ওয়েল্ডার)   \n",
       "4   32  Male(পুরুষ)      Multipurpose worker (বহুমুখী কর্মী)   \n",
       "\n",
       "   Years of experience  Average work hour(Daily) Type of welding  \\\n",
       "0                    6                         7             Arc   \n",
       "1                   22                        11             Arc   \n",
       "2                   20                        11            Both   \n",
       "3                    2                        11             Arc   \n",
       "4                   10                        11             Arc   \n",
       "\n",
       "   Duration span for gas welding Duration span for arc welding  \\\n",
       "0                            8.0                            jk   \n",
       "1                            NaN                            22   \n",
       "2                           10.0                            10   \n",
       "3                            NaN                             2   \n",
       "4                            NaN                            10   \n",
       "\n",
       "  Process of welding Use of safety tools Machine current range  \\\n",
       "0         Continuous  Glass, Hand gloves             120-180 A   \n",
       "1            Tacking               Glass             120-180 A   \n",
       "2            Tacking               Glass             120-180 A   \n",
       "3            Tacking               Glass             120-180 A   \n",
       "4            Tacking               Glass             120-180 A   \n",
       "\n",
       "  Breathing issues before welding work Currently having any breathing issue  \\\n",
       "0                           Yes(হ্যাঁ)                               No(না)   \n",
       "1                               No(না)                               No(না)   \n",
       "2                               No(না)                               No(না)   \n",
       "3                               No(না)                               No(না)   \n",
       "4                               No(না)                               No(না)   \n",
       "\n",
       "  Smoking havit  \n",
       "0    Yes(হ্যাঁ)  \n",
       "1    Yes(হ্যাঁ)  \n",
       "2    Yes(হ্যাঁ)  \n",
       "3        No(না)  \n",
       "4    Yes(হ্যাঁ)  "
      ]
     },
     "execution_count": 10,
     "metadata": {},
     "output_type": "execute_result"
    }
   ],
   "source": [
    "breathing_issue_data.head()"
   ]
  },
  {
   "cell_type": "code",
   "execution_count": 11,
   "id": "b41f0e99",
   "metadata": {},
   "outputs": [
    {
     "data": {
      "text/plain": [
       "Index(['Age', 'Gender', 'Profession', 'Years of experience',\n",
       "       'Average work hour(Daily)', 'Type of welding',\n",
       "       'Duration span for gas welding', 'Duration span for arc welding',\n",
       "       'Process of welding', 'Use of safety tools', 'Machine current range',\n",
       "       'Breathing issues before welding work',\n",
       "       'Currently having any breathing issue', 'Smoking havit'],\n",
       "      dtype='object')"
      ]
     },
     "execution_count": 11,
     "metadata": {},
     "output_type": "execute_result"
    }
   ],
   "source": [
    "breathing_issue_data.columns"
   ]
  },
  {
   "cell_type": "code",
   "execution_count": null,
   "id": "b6cd2cfc",
   "metadata": {},
   "outputs": [],
   "source": [
    "\n"
   ]
  },
  {
   "cell_type": "markdown",
   "id": "fa1dea30",
   "metadata": {},
   "source": [
    "### Number of responses for before breathing issue?"
   ]
  },
  {
   "cell_type": "code",
   "execution_count": 12,
   "id": "144dda13",
   "metadata": {},
   "outputs": [
    {
     "data": {
      "text/plain": [
       "No(না)        146\n",
       "Yes(হ্যাঁ)      5\n",
       "Name: Breathing issues before welding work, dtype: int64"
      ]
     },
     "execution_count": 12,
     "metadata": {},
     "output_type": "execute_result"
    }
   ],
   "source": [
    "count = breathing_issue_data['Breathing issues before welding work'].value_counts()\n",
    "count"
   ]
  },
  {
   "cell_type": "markdown",
   "id": "50248ba5",
   "metadata": {},
   "source": [
    "### Percentage of welders who didn't have breathing issue before."
   ]
  },
  {
   "cell_type": "code",
   "execution_count": 39,
   "id": "5112b5be",
   "metadata": {},
   "outputs": [
    {
     "data": {
      "text/plain": [
       "96.69"
      ]
     },
     "execution_count": 39,
     "metadata": {},
     "output_type": "execute_result"
    }
   ],
   "source": [
    "count = breathing_issue_data['Breathing issues before welding work'].value_counts()['No(না)']\n",
    "total_count = breathing_issue_data['Breathing issues before welding work'].count()\n",
    "percentage = (count / total_count) * 100\n",
    "had_no_issues = percentage.round(2)\n",
    "had_no_issues"
   ]
  },
  {
   "cell_type": "markdown",
   "id": "ea88f8d3",
   "metadata": {},
   "source": [
    "##### So, 96.69% people did not have breathing issues."
   ]
  },
  {
   "cell_type": "code",
   "execution_count": null,
   "id": "83109fc5",
   "metadata": {},
   "outputs": [],
   "source": []
  },
  {
   "cell_type": "markdown",
   "id": "9aedb4ca",
   "metadata": {},
   "source": [
    "### Percentage of welders who had breathing issue before welding"
   ]
  },
  {
   "cell_type": "code",
   "execution_count": 40,
   "id": "d5197220",
   "metadata": {},
   "outputs": [
    {
     "data": {
      "text/plain": [
       "3.31"
      ]
     },
     "execution_count": 40,
     "metadata": {},
     "output_type": "execute_result"
    }
   ],
   "source": [
    "had_breathing_issue = (100-percentage)\n",
    "had_breathing_issue = had_breathing_issue.round(2)\n",
    "had_breathing_issue"
   ]
  },
  {
   "cell_type": "markdown",
   "id": "e917e6ed",
   "metadata": {},
   "source": [
    "##### So, 3.31 % people had breathing issues before starting welding"
   ]
  },
  {
   "cell_type": "code",
   "execution_count": null,
   "id": "8d608ade",
   "metadata": {},
   "outputs": [],
   "source": []
  },
  {
   "cell_type": "markdown",
   "id": "af18e78b",
   "metadata": {},
   "source": [
    "### Number of responses for after welding breathing issue?"
   ]
  },
  {
   "cell_type": "code",
   "execution_count": 15,
   "id": "8101c1cd",
   "metadata": {},
   "outputs": [
    {
     "data": {
      "text/plain": [
       "No(না)        131\n",
       "Yes(হ্যাঁ)     20\n",
       "Name: Currently having any breathing issue, dtype: int64"
      ]
     },
     "execution_count": 15,
     "metadata": {},
     "output_type": "execute_result"
    }
   ],
   "source": [
    "count = breathing_issue_data['Currently having any breathing issue'].value_counts()\n",
    "count"
   ]
  },
  {
   "cell_type": "markdown",
   "id": "a230d7f6",
   "metadata": {},
   "source": [
    "### Percentage of welders who do not have breathing issue now"
   ]
  },
  {
   "cell_type": "code",
   "execution_count": 16,
   "id": "325b0a43",
   "metadata": {},
   "outputs": [
    {
     "data": {
      "text/plain": [
       "86.75"
      ]
     },
     "execution_count": 16,
     "metadata": {},
     "output_type": "execute_result"
    }
   ],
   "source": [
    "count = breathing_issue_data['Currently having any breathing issue'].value_counts()['No(না)']\n",
    "total_count = breathing_issue_data['Currently having any breathing issue'].count()\n",
    "percentage = (count / total_count) * 100\n",
    "having_no_issues = percentage.round(2)\n",
    "having_no_issues"
   ]
  },
  {
   "cell_type": "markdown",
   "id": "3161880e",
   "metadata": {},
   "source": [
    "##### 86.75% people do not have breathing issue now."
   ]
  },
  {
   "cell_type": "markdown",
   "id": "18206279",
   "metadata": {},
   "source": [
    "### Percentage of welders who have breathing issue now"
   ]
  },
  {
   "cell_type": "code",
   "execution_count": 17,
   "id": "e9021b5b",
   "metadata": {},
   "outputs": [
    {
     "data": {
      "text/plain": [
       "13.25"
      ]
     },
     "execution_count": 17,
     "metadata": {},
     "output_type": "execute_result"
    }
   ],
   "source": [
    "count = breathing_issue_data['Currently having any breathing issue'].value_counts()['Yes(হ্যাঁ)']\n",
    "total_count = breathing_issue_data['Currently having any breathing issue'].count()\n",
    "percentage = (count / total_count) * 100\n",
    "percentage.round(2)\n",
    "having_issues = percentage.round(2)\n",
    "having_issues"
   ]
  },
  {
   "cell_type": "markdown",
   "id": "ffc4c627",
   "metadata": {},
   "source": [
    "##### 13.25% people has breathing issue now."
   ]
  },
  {
   "cell_type": "markdown",
   "id": "ca1e3423",
   "metadata": {},
   "source": [
    "### People who have breathing issue, what type of welding they use?"
   ]
  },
  {
   "cell_type": "code",
   "execution_count": 18,
   "id": "e6a4d974",
   "metadata": {},
   "outputs": [
    {
     "data": {
      "text/plain": [
       "<AxesSubplot:xlabel='Types of welding', ylabel='Number of people'>"
      ]
     },
     "execution_count": 18,
     "metadata": {},
     "output_type": "execute_result"
    },
    {
     "data": {
      "image/png": "[encoded data removed]",
      "text/plain": [
       "<Figure size 640x480 with 1 Axes>"
      ]
     },
     "metadata": {},
     "output_type": "display_data"
    }
   ],
   "source": [
    "breathing_issue_data[breathing_issue_data['Currently having any breathing issue'] == 'Yes(হ্যাঁ)']['Type of welding'].value_counts().plot(kind='bar', xlabel='Types of welding',ylabel='Number of people')"
   ]
  },
  {
   "cell_type": "code",
   "execution_count": 52,
   "id": "e8d7f5cc",
   "metadata": {},
   "outputs": [
    {
     "data": {
      "text/plain": [
       "Arc     15\n",
       "Both     5\n",
       "Name: Type of welding, dtype: int64"
      ]
     },
     "execution_count": 52,
     "metadata": {},
     "output_type": "execute_result"
    }
   ],
   "source": [
    "breathing_issue_data[breathing_issue_data['Currently having any breathing issue'] == 'Yes(হ্যাঁ)']['Type of welding'].value_counts()"
   ]
  },
  {
   "cell_type": "code",
   "execution_count": null,
   "id": "9220fdb0",
   "metadata": {},
   "outputs": [],
   "source": []
  },
  {
   "cell_type": "markdown",
   "id": "e87cdd6e",
   "metadata": {},
   "source": [
    "#### 15 people use Arc type and 5 people use both Arc and Gas type"
   ]
  },
  {
   "cell_type": "markdown",
   "id": "88517c36",
   "metadata": {},
   "source": [
    "### People who have breathing issue, what type process of welding they use?"
   ]
  },
  {
   "cell_type": "code",
   "execution_count": 19,
   "id": "a5a076c8",
   "metadata": {},
   "outputs": [
    {
     "data": {
      "text/plain": [
       "<AxesSubplot:xlabel='Process of welding', ylabel='Number of people'>"
      ]
     },
     "execution_count": 19,
     "metadata": {},
     "output_type": "execute_result"
    },
    {
     "data": {
      "image/png": "[encoded data removed]",
      "text/plain": [
       "<Figure size 640x480 with 1 Axes>"
      ]
     },
     "metadata": {},
     "output_type": "display_data"
    }
   ],
   "source": [
    "breathing_issue_data[breathing_issue_data['Currently having any breathing issue'] == 'Yes(হ্যাঁ)']['Process of welding'].value_counts().plot(kind='bar', xlabel='Process of welding',ylabel='Number of people')"
   ]
  },
  {
   "cell_type": "markdown",
   "id": "3ccc55be",
   "metadata": {},
   "source": [
    "#### 12 people use Tacking and 8 people use both Arc and Gas type"
   ]
  },
  {
   "cell_type": "markdown",
   "id": "553e5aa6",
   "metadata": {},
   "source": [
    "### Persons who are having issues now , what safety measures they are using?"
   ]
  },
  {
   "cell_type": "code",
   "execution_count": 20,
   "id": "f7b4c003",
   "metadata": {},
   "outputs": [
    {
     "data": {
      "text/plain": [
       "<AxesSubplot:xlabel='Safety measure type', ylabel='Number of people'>"
      ]
     },
     "execution_count": 20,
     "metadata": {},
     "output_type": "execute_result"
    },
    {
     "data": {
      "image/png": "[encoded data removed]",
      "text/plain": [
       "<Figure size 640x480 with 1 Axes>"
      ]
     },
     "metadata": {},
     "output_type": "display_data"
    }
   ],
   "source": [
    "breathing_issue_data[breathing_issue_data['Currently having any breathing issue'] == 'Yes(হ্যাঁ)']['Use of safety tools'].value_counts().plot(kind='bar',xlabel='Safety measure type', ylabel='Number of people')"
   ]
  },
  {
   "cell_type": "markdown",
   "id": "d6774285",
   "metadata": {},
   "source": [
    "### What is the current range (A) of machines people are using who have breathing issue?"
   ]
  },
  {
   "cell_type": "code",
   "execution_count": 21,
   "id": "bf860e15",
   "metadata": {},
   "outputs": [
    {
     "data": {
      "text/plain": [
       "<AxesSubplot:xlabel='Current range', ylabel='Number of people'>"
      ]
     },
     "execution_count": 21,
     "metadata": {},
     "output_type": "execute_result"
    },
    {
     "data": {
      "image/png": "[encoded data removed]",
      "text/plain": [
       "<Figure size 640x480 with 1 Axes>"
      ]
     },
     "metadata": {},
     "output_type": "display_data"
    }
   ],
   "source": [
    "breathing_issue_data[breathing_issue_data['Currently having any breathing issue'] == 'Yes(হ্যাঁ)']['Machine current range'].value_counts().plot(kind='bar',xlabel='Current range',ylabel='Number of people')"
   ]
  },
  {
   "cell_type": "markdown",
   "id": "d7d8bf78",
   "metadata": {},
   "source": [
    "#### 14 people use machines of 120-180A , 4 people use <120A, 2 people use >180A"
   ]
  },
  {
   "cell_type": "code",
   "execution_count": null,
   "id": "361b090d",
   "metadata": {},
   "outputs": [],
   "source": []
  },
  {
   "cell_type": "markdown",
   "id": "06baac8a",
   "metadata": {},
   "source": [
    "### What is the average age of those people who are having breathing issue?"
   ]
  },
  {
   "cell_type": "code",
   "execution_count": 22,
   "id": "9ff11653",
   "metadata": {},
   "outputs": [
    {
     "data": {
      "text/plain": [
       "<AxesSubplot:xlabel='Age', ylabel='Number of people'>"
      ]
     },
     "execution_count": 22,
     "metadata": {},
     "output_type": "execute_result"
    },
    {
     "data": {
      "image/png": "[encoded data removed]",
      "text/plain": [
       "<Figure size 640x480 with 1 Axes>"
      ]
     },
     "metadata": {},
     "output_type": "display_data"
    }
   ],
   "source": [
    "breathing_issue_data[breathing_issue_data['Currently having any breathing issue'] == 'Yes(হ্যাঁ)']['Age'].value_counts().plot(kind='bar',xlabel='Age',ylabel='Number of people')"
   ]
  },
  {
   "cell_type": "markdown",
   "id": "9c7002c9",
   "metadata": {},
   "source": [
    "### How much breathing issues increases?"
   ]
  },
  {
   "cell_type": "code",
   "execution_count": 23,
   "id": "74e665dd",
   "metadata": {},
   "outputs": [
    {
     "data": {
      "text/plain": [
       "9.94"
      ]
     },
     "execution_count": 23,
     "metadata": {},
     "output_type": "execute_result"
    }
   ],
   "source": [
    "increased_issues = had_no_issues - having_no_issues\n",
    "increased_issues.round(2)"
   ]
  },
  {
   "cell_type": "markdown",
   "id": "ebf6dfdf",
   "metadata": {},
   "source": [
    "##### Breathing issue has been increased by 9.94 %"
   ]
  },
  {
   "cell_type": "code",
   "execution_count": null,
   "id": "ed640ae4",
   "metadata": {},
   "outputs": [],
   "source": []
  },
  {
   "cell_type": "markdown",
   "id": "639bda79",
   "metadata": {},
   "source": [
    "\n",
    "### Percentage of people who are having breathing issue do welding and also smokes"
   ]
  },
  {
   "cell_type": "code",
   "execution_count": 24,
   "id": "0eaf82a2",
   "metadata": {},
   "outputs": [],
   "source": [
    "current_breath_issues_and_smokes = breathing_issue_data[(breathing_issue_data['Currently having any breathing issue'] == 'Yes(হ্যাঁ)') \n",
    "                                               &(breathing_issue_data['Smoking havit'] == 'Yes(হ্যাঁ)')].reset_index()[['Currently having any breathing issue','Smoking havit']]"
   ]
  },
  {
   "cell_type": "code",
   "execution_count": 25,
   "id": "2659fba2",
   "metadata": {},
   "outputs": [
    {
     "data": {
      "text/plain": [
       "9"
      ]
     },
     "execution_count": 25,
     "metadata": {},
     "output_type": "execute_result"
    }
   ],
   "source": [
    "len(current_breath_issues_and_smokes)"
   ]
  },
  {
   "cell_type": "code",
   "execution_count": 26,
   "id": "35b3a038",
   "metadata": {},
   "outputs": [
    {
     "data": {
      "text/plain": [
       "151"
      ]
     },
     "execution_count": 26,
     "metadata": {},
     "output_type": "execute_result"
    }
   ],
   "source": [
    "len(breathing_issue_data)"
   ]
  },
  {
   "cell_type": "code",
   "execution_count": 49,
   "id": "78ad3fe9",
   "metadata": {},
   "outputs": [
    {
     "data": {
      "text/plain": [
       "5.960264900662252"
      ]
     },
     "execution_count": 49,
     "metadata": {},
     "output_type": "execute_result"
    }
   ],
   "source": [
    "# percentage\n",
    "\n",
    "people_who_smoke = (len(current_breath_issues_and_smokes) / len(breathing_issue_data)) * 100\n",
    "people_who_smoke"
   ]
  },
  {
   "cell_type": "markdown",
   "id": "3ee99edd",
   "metadata": {},
   "source": [
    "##### So, 5.96 % people have breathing issues who do both welding and smoking"
   ]
  },
  {
   "cell_type": "code",
   "execution_count": null,
   "id": "140ac7c7",
   "metadata": {},
   "outputs": [],
   "source": []
  },
  {
   "cell_type": "markdown",
   "id": "6eb18fd2",
   "metadata": {},
   "source": [
    "### Percentage of people who are having breathing issue do welding but do not smoke"
   ]
  },
  {
   "cell_type": "code",
   "execution_count": 28,
   "id": "d0015748",
   "metadata": {},
   "outputs": [],
   "source": [
    "current_breath_issues_but_do_not_smoke = breathing_issue_data[(breathing_issue_data['Currently having any breathing issue'] == 'Yes(হ্যাঁ)') \n",
    "    &(breathing_issue_data['Smoking havit'] == 'No(না)')].reset_index()[['Currently having any breathing issue','Smoking havit']]"
   ]
  },
  {
   "cell_type": "code",
   "execution_count": 29,
   "id": "115ac42e",
   "metadata": {},
   "outputs": [
    {
     "data": {
      "text/html": [
       "<div>\n",
       "<style scoped>\n",
       "    .dataframe tbody tr th:only-of-type {\n",
       "        vertical-align: middle;\n",
       "    }\n",
       "\n",
       "    .dataframe tbody tr th {\n",
       "        vertical-align: top;\n",
       "    }\n",
       "\n",
       "    .dataframe thead th {\n",
       "        text-align: right;\n",
       "    }\n",
       "</style>\n",
       "<table border=\"1\" class=\"dataframe\">\n",
       "  <thead>\n",
       "    <tr style=\"text-align: right;\">\n",
       "      <th></th>\n",
       "      <th>Currently having any breathing issue</th>\n",
       "      <th>Smoking havit</th>\n",
       "    </tr>\n",
       "  </thead>\n",
       "  <tbody>\n",
       "    <tr>\n",
       "      <th>0</th>\n",
       "      <td>Yes(হ্যাঁ)</td>\n",
       "      <td>No(না)</td>\n",
       "    </tr>\n",
       "    <tr>\n",
       "      <th>1</th>\n",
       "      <td>Yes(হ্যাঁ)</td>\n",
       "      <td>No(না)</td>\n",
       "    </tr>\n",
       "    <tr>\n",
       "      <th>2</th>\n",
       "      <td>Yes(হ্যাঁ)</td>\n",
       "      <td>No(না)</td>\n",
       "    </tr>\n",
       "    <tr>\n",
       "      <th>3</th>\n",
       "      <td>Yes(হ্যাঁ)</td>\n",
       "      <td>No(না)</td>\n",
       "    </tr>\n",
       "    <tr>\n",
       "      <th>4</th>\n",
       "      <td>Yes(হ্যাঁ)</td>\n",
       "      <td>No(না)</td>\n",
       "    </tr>\n",
       "    <tr>\n",
       "      <th>5</th>\n",
       "      <td>Yes(হ্যাঁ)</td>\n",
       "      <td>No(না)</td>\n",
       "    </tr>\n",
       "    <tr>\n",
       "      <th>6</th>\n",
       "      <td>Yes(হ্যাঁ)</td>\n",
       "      <td>No(না)</td>\n",
       "    </tr>\n",
       "    <tr>\n",
       "      <th>7</th>\n",
       "      <td>Yes(হ্যাঁ)</td>\n",
       "      <td>No(না)</td>\n",
       "    </tr>\n",
       "    <tr>\n",
       "      <th>8</th>\n",
       "      <td>Yes(হ্যাঁ)</td>\n",
       "      <td>No(না)</td>\n",
       "    </tr>\n",
       "    <tr>\n",
       "      <th>9</th>\n",
       "      <td>Yes(হ্যাঁ)</td>\n",
       "      <td>No(না)</td>\n",
       "    </tr>\n",
       "    <tr>\n",
       "      <th>10</th>\n",
       "      <td>Yes(হ্যাঁ)</td>\n",
       "      <td>No(না)</td>\n",
       "    </tr>\n",
       "  </tbody>\n",
       "</table>\n",
       "</div>"
      ],
      "text/plain": [
       "   Currently having any breathing issue Smoking havit\n",
       "0                            Yes(হ্যাঁ)        No(না)\n",
       "1                            Yes(হ্যাঁ)        No(না)\n",
       "2                            Yes(হ্যাঁ)        No(না)\n",
       "3                            Yes(হ্যাঁ)        No(না)\n",
       "4                            Yes(হ্যাঁ)        No(না)\n",
       "5                            Yes(হ্যাঁ)        No(না)\n",
       "6                            Yes(হ্যাঁ)        No(না)\n",
       "7                            Yes(হ্যাঁ)        No(না)\n",
       "8                            Yes(হ্যাঁ)        No(না)\n",
       "9                            Yes(হ্যাঁ)        No(না)\n",
       "10                           Yes(হ্যাঁ)        No(না)"
      ]
     },
     "execution_count": 29,
     "metadata": {},
     "output_type": "execute_result"
    }
   ],
   "source": [
    "current_breath_issues_but_do_not_smoke"
   ]
  },
  {
   "cell_type": "code",
   "execution_count": 30,
   "id": "96886c4b",
   "metadata": {},
   "outputs": [
    {
     "data": {
      "text/plain": [
       "11"
      ]
     },
     "execution_count": 30,
     "metadata": {},
     "output_type": "execute_result"
    }
   ],
   "source": [
    "len(current_breath_issues_but_do_not_smoke)"
   ]
  },
  {
   "cell_type": "code",
   "execution_count": 31,
   "id": "9b2b3d91",
   "metadata": {},
   "outputs": [
    {
     "data": {
      "text/plain": [
       "151"
      ]
     },
     "execution_count": 31,
     "metadata": {},
     "output_type": "execute_result"
    }
   ],
   "source": [
    "len(breathing_issue_data)"
   ]
  },
  {
   "cell_type": "code",
   "execution_count": 50,
   "id": "a24404ee",
   "metadata": {},
   "outputs": [
    {
     "data": {
      "text/plain": [
       "7.28476821192053"
      ]
     },
     "execution_count": 50,
     "metadata": {},
     "output_type": "execute_result"
    }
   ],
   "source": [
    "# percentage\n",
    "\n",
    "people_not_smoke = (len(current_breath_issues_but_do_not_smoke) / len(breathing_issue_data)) * 100\n",
    "people_not_smoke"
   ]
  },
  {
   "cell_type": "markdown",
   "id": "752f2f8d",
   "metadata": {},
   "source": [
    "##### So, 7.28% people have breathing issues who do welding but don't smoke"
   ]
  },
  {
   "cell_type": "code",
   "execution_count": 51,
   "id": "4147d1e5",
   "metadata": {},
   "outputs": [
    {
     "data": {
      "image/png": "[encoded data removed]",
      "text/plain": [
       "<Figure size 640x480 with 1 Axes>"
      ]
     },
     "metadata": {},
     "output_type": "display_data"
    }
   ],
   "source": [
    "import pandas as pd\n",
    "import matplotlib.pyplot as plt\n",
    "\n",
    "data = {\n",
    "    'Category': ['Had No Breathing Issues Before', 'Had Breathing Issues Before', 'Having No Breathing Issues Now', 'Have Breathing Issues Now','Do welding but do not smoke','Do welding and do smoke'],\n",
    "    'Percentage': [had_no_issues, had_breathing_issue, having_no_issues,having_issues,people_not_smoke,people_who_smoke],\n",
    "    'Color': ['blue', 'red', 'green', 'orange','yellow','magenta']\n",
    "}\n",
    "\n",
    "df = pd.DataFrame(data)\n",
    "\n",
    "plt.bar(df['Category'], df['Percentage'], color=df['Color'])\n",
    "plt.xlabel('Category')\n",
    "plt.ylabel('Percentage')\n",
    "plt.title('Breathing Issue Summary')\n",
    "\n",
    "for i, value in enumerate(df['Percentage']):\n",
    "    plt.text(i, value, f'{value:.2f}%', ha='center', va='bottom')\n",
    "\n",
    "plt.xticks(rotation=45, ha='right')\n",
    "plt.tight_layout()\n",
    "\n",
    "plt.show()\n"
   ]
  },
  {
   "cell_type": "code",
   "execution_count": null,
   "id": "bab91629",
   "metadata": {},
   "outputs": [],
   "source": []
  }
 ],
 "metadata": {
  "kernelspec": {
   "display_name": "Python 3 (ipykernel)",
   "language": "python",
   "name": "python3"
  },
  "language_info": {
   "codemirror_mode": {
    "name": "ipython",
    "version": 3
   },
   "file_extension": ".py",
   "mimetype": "text/x-python",
   "name": "python",
   "nbconvert_exporter": "python",
   "pygments_lexer": "ipython3",
   "version": "3.9.13"
  }
 },
 "nbformat": 4,
 "nbformat_minor": 5
}
