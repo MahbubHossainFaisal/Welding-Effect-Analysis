{
 "cells": [
  {
   "cell_type": "code",
   "execution_count": 1,
   "id": "f8ee683d",
   "metadata": {},
   "outputs": [],
   "source": [
    "import numpy as np\n",
    "import pandas as pd\n",
    "import matplotlib.pyplot as plt"
   ]
  },
  {
   "cell_type": "code",
   "execution_count": 2,
   "id": "17237e7a",
   "metadata": {},
   "outputs": [],
   "source": [
    "data = pd.read_excel('C:\\\\Users\\\\Mahbub\\\\Documents\\\\Welding\\\\Welder_health_data_collection.xlsx')\n",
    "\n",
    "df = data.copy()"
   ]
  },
  {
   "cell_type": "code",
   "execution_count": 3,
   "id": "bac95c2d",
   "metadata": {},
   "outputs": [
    {
     "data": {
      "text/html": [
       "<div>\n",
       "<style scoped>\n",
       "    .dataframe tbody tr th:only-of-type {\n",
       "        vertical-align: middle;\n",
       "    }\n",
       "\n",
       "    .dataframe tbody tr th {\n",
       "        vertical-align: top;\n",
       "    }\n",
       "\n",
       "    .dataframe thead th {\n",
       "        text-align: right;\n",
       "    }\n",
       "</style>\n",
       "<table border=\"1\" class=\"dataframe\">\n",
       "  <thead>\n",
       "    <tr style=\"text-align: right;\">\n",
       "      <th></th>\n",
       "      <th>Timestamp</th>\n",
       "      <th>Serial number: (ক্রমিক সংখ্যা)</th>\n",
       "      <th>Name: (নাম)</th>\n",
       "      <th>Age: (বয়স)</th>\n",
       "      <th>Please fill your mobile number (মোবাইল নম্বর)</th>\n",
       "      <th>If you have NID  then, please provide your NID number(NID নম্বর):</th>\n",
       "      <th>Gender (লিঙ্গ)</th>\n",
       "      <th>Please specify your profession (পেশা):</th>\n",
       "      <th>Which workshop do you work  for? (কর্মশালার নাম):</th>\n",
       "      <th>Please select your work location (কর্মস্থল):</th>\n",
       "      <th>...</th>\n",
       "      <th>Do you currently have eye burning issue during night? (রাতে চোখ জ্বালা পোড়ার সমস্যা হয় ?):</th>\n",
       "      <th>Do you have any face burning issue? (মুখ জ্বালা করে?):</th>\n",
       "      <th>Do you face any  headache issues after work? (কাজের পরে মাথাব্যথা করে?)</th>\n",
       "      <th>Do you face any sleeping disorder issues? (ঘুমের সমস্যা হয়?)</th>\n",
       "      <th>How many hours of sleep do you get per night?  (প্রতিদিন ঘুমের গড় সময়)</th>\n",
       "      <th>Do you have any smoking habit? (ধূমপানের অভ্যাস)</th>\n",
       "      <th>Do we have your consent on taking picture for research purpose?(গবেষণার প্রয়োজনে  ছবি তোলার ব্যাপারে আপনার সম্মতি আছে ?)</th>\n",
       "      <th>Signature (স্বাক্ষর)</th>\n",
       "      <th>Email Address</th>\n",
       "      <th>Do you have any eyesight issue now? (আপনার কি এখন দৃষ্টিশক্তির কোনো সমস্যা আছে?)</th>\n",
       "    </tr>\n",
       "  </thead>\n",
       "  <tbody>\n",
       "    <tr>\n",
       "      <th>0</th>\n",
       "      <td>2022-08-03 00:07:31.284</td>\n",
       "      <td>1</td>\n",
       "      <td>test</td>\n",
       "      <td>23</td>\n",
       "      <td>1578131456</td>\n",
       "      <td>123456766788</td>\n",
       "      <td>Male(পুরুষ)</td>\n",
       "      <td>Full time welder (পূর্ণকালীন ওয়েল্ডার)</td>\n",
       "      <td>test</td>\n",
       "      <td>Meherpur(মেহেরপুর)</td>\n",
       "      <td>...</td>\n",
       "      <td>Yes(হ্যাঁ)</td>\n",
       "      <td>No(না)</td>\n",
       "      <td>Yes(হ্যাঁ)</td>\n",
       "      <td>Yes(হ্যাঁ)</td>\n",
       "      <td>7</td>\n",
       "      <td>Yes(হ্যাঁ)</td>\n",
       "      <td>No(না)</td>\n",
       "      <td>https://drive.google.com/open?id=1Licqxuw7KAbU...</td>\n",
       "      <td>NaN</td>\n",
       "      <td>Yes(হ্যাঁ)</td>\n",
       "    </tr>\n",
       "    <tr>\n",
       "      <th>1</th>\n",
       "      <td>2022-08-07 23:40:18.472</td>\n",
       "      <td>1</td>\n",
       "      <td>Md.Rakib Hosen</td>\n",
       "      <td>34</td>\n",
       "      <td>1831929270</td>\n",
       "      <td>NaN</td>\n",
       "      <td>Male(পুরুষ)</td>\n",
       "      <td>Multipurpose worker (বহুমুখী কর্মী)</td>\n",
       "      <td>Rickshaw Ghar</td>\n",
       "      <td>Rajshahi(রাজশাহী)</td>\n",
       "      <td>...</td>\n",
       "      <td>No(না)</td>\n",
       "      <td>Yes(হ্যাঁ)</td>\n",
       "      <td>Yes(হ্যাঁ)</td>\n",
       "      <td>No(না)</td>\n",
       "      <td>8</td>\n",
       "      <td>No(না)</td>\n",
       "      <td>Yes(হ্যাঁ)</td>\n",
       "      <td>https://drive.google.com/open?id=1jp6cyHUfxDPU...</td>\n",
       "      <td>Oviru98@gmail.com</td>\n",
       "      <td>Yes(হ্যাঁ)</td>\n",
       "    </tr>\n",
       "    <tr>\n",
       "      <th>2</th>\n",
       "      <td>2022-08-07 23:54:15.825</td>\n",
       "      <td>2</td>\n",
       "      <td>Md.Simul Islam</td>\n",
       "      <td>22</td>\n",
       "      <td>1409180812</td>\n",
       "      <td>NaN</td>\n",
       "      <td>Male(পুরুষ)</td>\n",
       "      <td>Full time welder (পূর্ণকালীন ওয়েল্ডার)</td>\n",
       "      <td>Rojoni Engineering Workshop</td>\n",
       "      <td>Rajshahi(রাজশাহী)</td>\n",
       "      <td>...</td>\n",
       "      <td>Yes(হ্যাঁ)</td>\n",
       "      <td>Yes(হ্যাঁ)</td>\n",
       "      <td>Yes(হ্যাঁ)</td>\n",
       "      <td>No(না)</td>\n",
       "      <td>9</td>\n",
       "      <td>Yes(হ্যাঁ)</td>\n",
       "      <td>Yes(হ্যাঁ)</td>\n",
       "      <td>https://drive.google.com/open?id=1loimJ1x8AYbs...</td>\n",
       "      <td>oviru98@gmail.com</td>\n",
       "      <td>Yes(হ্যাঁ)</td>\n",
       "    </tr>\n",
       "    <tr>\n",
       "      <th>3</th>\n",
       "      <td>2022-08-08 00:00:57.811</td>\n",
       "      <td>3</td>\n",
       "      <td>Akter Hosen</td>\n",
       "      <td>45</td>\n",
       "      <td>1785616409</td>\n",
       "      <td>NaN</td>\n",
       "      <td>Male(পুরুষ)</td>\n",
       "      <td>Full time welder (পূর্ণকালীন ওয়েল্ডার)</td>\n",
       "      <td>Rajoni Engineering workshop</td>\n",
       "      <td>Rajshahi(রাজশাহী)</td>\n",
       "      <td>...</td>\n",
       "      <td>Yes(হ্যাঁ)</td>\n",
       "      <td>Yes(হ্যাঁ)</td>\n",
       "      <td>Yes(হ্যাঁ)</td>\n",
       "      <td>No(না)</td>\n",
       "      <td>8</td>\n",
       "      <td>No(না)</td>\n",
       "      <td>Yes(হ্যাঁ)</td>\n",
       "      <td>https://drive.google.com/open?id=15_pKkpzWGl7y...</td>\n",
       "      <td>Oviru98@gmail.com</td>\n",
       "      <td>Yes(হ্যাঁ)</td>\n",
       "    </tr>\n",
       "    <tr>\n",
       "      <th>4</th>\n",
       "      <td>2022-08-08 07:48:09.550</td>\n",
       "      <td>4</td>\n",
       "      <td>Md.Roni Islam</td>\n",
       "      <td>24</td>\n",
       "      <td>1405860884</td>\n",
       "      <td>NaN</td>\n",
       "      <td>Male(পুরুষ)</td>\n",
       "      <td>Full time welder (পূর্ণকালীন ওয়েল্ডার)</td>\n",
       "      <td>Bisal Engineering workshop</td>\n",
       "      <td>Rajshahi(রাজশাহী)</td>\n",
       "      <td>...</td>\n",
       "      <td>Yes(হ্যাঁ)</td>\n",
       "      <td>Yes(হ্যাঁ)</td>\n",
       "      <td>Yes(হ্যাঁ)</td>\n",
       "      <td>Yes(হ্যাঁ)</td>\n",
       "      <td>9</td>\n",
       "      <td>No(না)</td>\n",
       "      <td>Yes(হ্যাঁ)</td>\n",
       "      <td>https://drive.google.com/open?id=1tRd02sDelsE0...</td>\n",
       "      <td>Oviru98@gmail.com</td>\n",
       "      <td>Yes(হ্যাঁ)</td>\n",
       "    </tr>\n",
       "  </tbody>\n",
       "</table>\n",
       "<p>5 rows × 33 columns</p>\n",
       "</div>"
      ],
      "text/plain": [
       "                Timestamp  Serial number: (ক্রমিক সংখ্যা)     Name: (নাম)  \\\n",
       "0 2022-08-03 00:07:31.284                               1            test   \n",
       "1 2022-08-07 23:40:18.472                               1  Md.Rakib Hosen   \n",
       "2 2022-08-07 23:54:15.825                               2  Md.Simul Islam   \n",
       "3 2022-08-08 00:00:57.811                               3     Akter Hosen   \n",
       "4 2022-08-08 07:48:09.550                               4   Md.Roni Islam   \n",
       "\n",
       "   Age: (বয়স)  Please fill your mobile number (মোবাইল নম্বর)  \\\n",
       "0           23                                     1578131456   \n",
       "1           34                                     1831929270   \n",
       "2           22                                     1409180812   \n",
       "3           45                                     1785616409   \n",
       "4           24                                     1405860884   \n",
       "\n",
       "  If you have NID  then, please provide your NID number(NID নম্বর):  \\\n",
       "0                                       123456766788                  \n",
       "1                                                NaN                  \n",
       "2                                                NaN                  \n",
       "3                                                NaN                  \n",
       "4                                                NaN                  \n",
       "\n",
       "  Gender (লিঙ্গ)   Please specify your profession (পেশা):  \\\n",
       "0    Male(পুরুষ)  Full time welder (পূর্ণকালীন ওয়েল্ডার)   \n",
       "1    Male(পুরুষ)      Multipurpose worker (বহুমুখী কর্মী)   \n",
       "2    Male(পুরুষ)  Full time welder (পূর্ণকালীন ওয়েল্ডার)   \n",
       "3    Male(পুরুষ)  Full time welder (পূর্ণকালীন ওয়েল্ডার)   \n",
       "4    Male(পুরুষ)  Full time welder (পূর্ণকালীন ওয়েল্ডার)   \n",
       "\n",
       "  Which workshop do you work  for? (কর্মশালার নাম):  \\\n",
       "0                                              test   \n",
       "1                                     Rickshaw Ghar   \n",
       "2                      Rojoni Engineering Workshop    \n",
       "3                      Rajoni Engineering workshop    \n",
       "4                        Bisal Engineering workshop   \n",
       "\n",
       "  Please select your work location (কর্মস্থল):  ...  \\\n",
       "0                           Meherpur(মেহেরপুর)  ...   \n",
       "1                            Rajshahi(রাজশাহী)  ...   \n",
       "2                            Rajshahi(রাজশাহী)  ...   \n",
       "3                            Rajshahi(রাজশাহী)  ...   \n",
       "4                            Rajshahi(রাজশাহী)  ...   \n",
       "\n",
       "   Do you currently have eye burning issue during night? (রাতে চোখ জ্বালা পোড়ার সমস্যা হয় ?):  \\\n",
       "0                                         Yes(হ্যাঁ)                                              \n",
       "1                                             No(না)                                              \n",
       "2                                         Yes(হ্যাঁ)                                              \n",
       "3                                         Yes(হ্যাঁ)                                              \n",
       "4                                         Yes(হ্যাঁ)                                              \n",
       "\n",
       "  Do you have any face burning issue? (মুখ জ্বালা করে?):  \\\n",
       "0                                             No(না)       \n",
       "1                                         Yes(হ্যাঁ)       \n",
       "2                                         Yes(হ্যাঁ)       \n",
       "3                                         Yes(হ্যাঁ)       \n",
       "4                                         Yes(হ্যাঁ)       \n",
       "\n",
       "   Do you face any  headache issues after work? (কাজের পরে মাথাব্যথা করে?)  \\\n",
       "0                                         Yes(হ্যাঁ)                         \n",
       "1                                         Yes(হ্যাঁ)                         \n",
       "2                                         Yes(হ্যাঁ)                         \n",
       "3                                         Yes(হ্যাঁ)                         \n",
       "4                                         Yes(হ্যাঁ)                         \n",
       "\n",
       "  Do you face any sleeping disorder issues? (ঘুমের সমস্যা হয়?)  \\\n",
       "0                                         Yes(হ্যাঁ)             \n",
       "1                                             No(না)             \n",
       "2                                             No(না)             \n",
       "3                                             No(না)             \n",
       "4                                         Yes(হ্যাঁ)             \n",
       "\n",
       "   How many hours of sleep do you get per night?  (প্রতিদিন ঘুমের গড় সময়)  \\\n",
       "0                                                  7                          \n",
       "1                                                  8                          \n",
       "2                                                  9                          \n",
       "3                                                  8                          \n",
       "4                                                  9                          \n",
       "\n",
       "  Do you have any smoking habit? (ধূমপানের অভ্যাস)  \\\n",
       "0                                       Yes(হ্যাঁ)   \n",
       "1                                           No(না)   \n",
       "2                                       Yes(হ্যাঁ)   \n",
       "3                                           No(না)   \n",
       "4                                           No(না)   \n",
       "\n",
       "  Do we have your consent on taking picture for research purpose?(গবেষণার প্রয়োজনে  ছবি তোলার ব্যাপারে আপনার সম্মতি আছে ?)  \\\n",
       "0                                             No(না)                                                                         \n",
       "1                                         Yes(হ্যাঁ)                                                                         \n",
       "2                                         Yes(হ্যাঁ)                                                                         \n",
       "3                                         Yes(হ্যাঁ)                                                                         \n",
       "4                                         Yes(হ্যাঁ)                                                                         \n",
       "\n",
       "                                Signature (স্বাক্ষর)      Email Address  \\\n",
       "0  https://drive.google.com/open?id=1Licqxuw7KAbU...                NaN   \n",
       "1  https://drive.google.com/open?id=1jp6cyHUfxDPU...  Oviru98@gmail.com   \n",
       "2  https://drive.google.com/open?id=1loimJ1x8AYbs...  oviru98@gmail.com   \n",
       "3  https://drive.google.com/open?id=15_pKkpzWGl7y...  Oviru98@gmail.com   \n",
       "4  https://drive.google.com/open?id=1tRd02sDelsE0...  Oviru98@gmail.com   \n",
       "\n",
       "  Do you have any eyesight issue now? (আপনার কি এখন দৃষ্টিশক্তির কোনো সমস্যা আছে?)  \n",
       "0                                         Yes(হ্যাঁ)                                \n",
       "1                                         Yes(হ্যাঁ)                                \n",
       "2                                         Yes(হ্যাঁ)                                \n",
       "3                                         Yes(হ্যাঁ)                                \n",
       "4                                         Yes(হ্যাঁ)                                \n",
       "\n",
       "[5 rows x 33 columns]"
      ]
     },
     "execution_count": 3,
     "metadata": {},
     "output_type": "execute_result"
    }
   ],
   "source": [
    "df.head()"
   ]
  },
  {
   "cell_type": "code",
   "execution_count": 4,
   "id": "3b503737",
   "metadata": {},
   "outputs": [
    {
     "data": {
      "text/plain": [
       "Index(['Timestamp', 'Serial number: (ক্রমিক সংখ্যা)', 'Name: (নাম)',\n",
       "       'Age: (বয়স)', 'Please fill your mobile number (মোবাইল নম্বর)',\n",
       "       'If you have NID  then, please provide your NID number(NID নম্বর):',\n",
       "       'Gender (লিঙ্গ)', 'Please specify your profession (পেশা):',\n",
       "       'Which workshop do you work  for? (কর্মশালার নাম):',\n",
       "       'Please select your work location (কর্মস্থল):',\n",
       "       'How many years have you been working?(কাজের সময়কাল)',\n",
       "       'Have you received  previous training on welding? (ঝালাইয়ের উপর কোন পূর্ববর্তী প্রশিক্ষণ?)',\n",
       "       'What is your average daily work hour (দৈনিক কাজের গড় ঘন্টা):',\n",
       "       'Which type of welding do you do? (ঝালাইয়ের ধরন):',\n",
       "       'What is your duration span for gas welding type? ( গ্যাস \\nওয়েল্ডিং ধরনের জন্য আপনার সময়কাল কত? ):',\n",
       "       'What is your duration span for arc welding type? ( আর্ক ওয়েল্ডিং ধরনের জন্য আপনার সময়কাল কত? )',\n",
       "       'What is your process of welding ?(ক্রমাগত ঝালাই  বা বিক্ষিপ্ত ঝালাই?)',\n",
       "       'Do you use any safety tools during welding? (ঝালাইয়ের সময় নিরাপত্তা)',\n",
       "       'What type of machine are you using (মেশিনের ধরন):',\n",
       "       '\\nPlease specify your machine's current range  (বিদ্যুত্প্রবাহ পরিসর)',\n",
       "       'Did you have any breathing issues before working? ( কাজ করার আগে আপনার কি শ্বাসকষ্টের সমস্যা ছিল?)',\n",
       "       'Do you currently have any breathing issue now? (এখন কি শ্বাসকষ্ট হয়?)',\n",
       "       'Did you have any previous eyesight issue before welding? (আগের দৃষ্টির কোনো সমস্যা ছিল?)',\n",
       "       'Do you currently have eye burning issue during night? (রাতে চোখ জ্বালা পোড়ার সমস্যা হয় ?):',\n",
       "       'Do you have any face burning issue? (মুখ জ্বালা করে?):',\n",
       "       'Do you face any  headache issues after work? (কাজের পরে মাথাব্যথা করে?)',\n",
       "       'Do you face any sleeping disorder issues? (ঘুমের সমস্যা হয়?)',\n",
       "       'How many hours of sleep do you get per night?  (প্রতিদিন ঘুমের গড় সময়)',\n",
       "       'Do you have any smoking habit? (ধূমপানের অভ্যাস)',\n",
       "       'Do we have your consent on taking picture for research purpose?(গবেষণার প্রয়োজনে  ছবি তোলার ব্যাপারে আপনার সম্মতি আছে ?)',\n",
       "       'Signature (স্বাক্ষর)', 'Email Address',\n",
       "       'Do you have any eyesight issue now? (আপনার কি এখন দৃষ্টিশক্তির কোনো সমস্যা আছে?)'],\n",
       "      dtype='object')"
      ]
     },
     "execution_count": 4,
     "metadata": {},
     "output_type": "execute_result"
    }
   ],
   "source": [
    "df.columns"
   ]
  },
  {
   "cell_type": "code",
   "execution_count": 5,
   "id": "21e17c95",
   "metadata": {},
   "outputs": [],
   "source": [
    "eye_burning_issue_data = df[['Name: (নাম)','Age: (বয়স)','Gender (লিঙ্গ)','Please specify your profession (পেশা):',\n",
    "    'Which workshop do you work  for? (কর্মশালার নাম):',\n",
    "    'Please select your work location (কর্মস্থল):',\n",
    "   'How many years have you been working?(কাজের সময়কাল)',\n",
    "   'Have you received  previous training on welding? (ঝালাইয়ের উপর কোন পূর্ববর্তী প্রশিক্ষণ?)',\n",
    "   'What is your average daily work hour (দৈনিক কাজের গড় ঘন্টা):',\n",
    "   'Which type of welding do you do? (ঝালাইয়ের ধরন):',\n",
    "   'What is your duration span for gas welding type? ( গ্যাস \\nওয়েল্ডিং ধরনের জন্য আপনার সময়কাল কত? ):',\n",
    "   'What is your duration span for arc welding type? ( আর্ক ওয়েল্ডিং ধরনের জন্য আপনার সময়কাল কত? )',\n",
    "   'What is your process of welding ?(ক্রমাগত ঝালাই  বা বিক্ষিপ্ত ঝালাই?)',\n",
    "   'Do you use any safety tools during welding? (ঝালাইয়ের সময় নিরাপত্তা)',\n",
    "   'What type of machine are you using (মেশিনের ধরন):',\n",
    "   \"\\nPlease specify your machine's current range  (বিদ্যুত্প্রবাহ পরিসর)\",\n",
    "  'Did you have any previous eyesight issue before welding? (আগের দৃষ্টির কোনো সমস্যা ছিল?)',\n",
    "    'Do you currently have eye burning issue during night? (রাতে চোখ জ্বালা পোড়ার সমস্যা হয় ?):',\n",
    "   'Do you have any smoking habit? (ধূমপানের অভ্যাস)',\n",
    "  'Do you have any eyesight issue now? (আপনার কি এখন দৃষ্টিশক্তির কোনো সমস্যা আছে?)',\n",
    "   ]]"
   ]
  },
  {
   "cell_type": "code",
   "execution_count": 6,
   "id": "abcea593",
   "metadata": {},
   "outputs": [],
   "source": [
    "column_mapping = {\n",
    "    'Name: (নাম)':'Name',\n",
    "    'Age: (বয়স)':'Age',\n",
    "    'Gender (লিঙ্গ)':'Gender',\n",
    "    'Please specify your profession (পেশা):' : 'Profession',\n",
    "    'Which workshop do you work  for? (কর্মশালার নাম):': 'Workshop Name',\n",
    "    'Please select your work location (কর্মস্থল):':'Work Location',\n",
    "    'How many years have you been working?(কাজের সময়কাল)': 'Years of experience',\n",
    "    'Have you received  previous training on welding? (ঝালাইয়ের উপর কোন পূর্ববর্তী প্রশিক্ষণ?)':'Any Previous Training',\n",
    "    'What is your average daily work hour (দৈনিক কাজের গড় ঘন্টা):': 'Average work hour(Daily)',\n",
    "    'Which type of welding do you do? (ঝালাইয়ের ধরন):': 'Type of welding',\n",
    "    'What is your duration span for gas welding type? ( গ্যাস \\nওয়েল্ডিং ধরনের জন্য আপনার সময়কাল কত? ):': 'Duration span for gas welding',\n",
    "    'What is your duration span for arc welding type? ( আর্ক ওয়েল্ডিং ধরনের জন্য আপনার সময়কাল কত? )': 'Duration span for arc welding',\n",
    "    'What is your process of welding ?(ক্রমাগত ঝালাই  বা বিক্ষিপ্ত ঝালাই?)': 'Process of welding',\n",
    "    'Do you use any safety tools during welding? (ঝালাইয়ের সময় নিরাপত্তা)': 'Use of safety tools',\n",
    "    'What type of machine are you using (মেশিনের ধরন):':'Type of machine',\n",
    "    \"\\nPlease specify your machine's current range  (বিদ্যুত্প্রবাহ পরিসর)\":'Machine current range',\n",
    "     'Did you have any previous eyesight issue before welding? (আগের দৃষ্টির কোনো সমস্যা ছিল?)':'Any eye issues before work?',\n",
    "    'Do you currently have eye burning issue during night? (রাতে চোখ জ্বালা পোড়ার সমস্যা হয় ?):': 'Currently having any eye burning issue',\n",
    "    'Do you have any smoking habit? (ধূমপানের অভ্যাস)':'Smoking havit',\n",
    "    'Do you have any eyesight issue now? (আপনার কি এখন দৃষ্টিশক্তির কোনো সমস্যা আছে?)':'Any eye issues now?'\n",
    "    \n",
    "}\n"
   ]
  },
  {
   "cell_type": "code",
   "execution_count": 7,
   "id": "38be02b1",
   "metadata": {},
   "outputs": [
    {
     "data": {
      "text/html": [
       "<div>\n",
       "<style scoped>\n",
       "    .dataframe tbody tr th:only-of-type {\n",
       "        vertical-align: middle;\n",
       "    }\n",
       "\n",
       "    .dataframe tbody tr th {\n",
       "        vertical-align: top;\n",
       "    }\n",
       "\n",
       "    .dataframe thead th {\n",
       "        text-align: right;\n",
       "    }\n",
       "</style>\n",
       "<table border=\"1\" class=\"dataframe\">\n",
       "  <thead>\n",
       "    <tr style=\"text-align: right;\">\n",
       "      <th></th>\n",
       "      <th>Name</th>\n",
       "      <th>Age</th>\n",
       "      <th>Gender</th>\n",
       "      <th>Profession</th>\n",
       "      <th>Workshop Name</th>\n",
       "      <th>Work Location</th>\n",
       "      <th>Years of experience</th>\n",
       "      <th>Any Previous Training</th>\n",
       "      <th>Average work hour(Daily)</th>\n",
       "      <th>Type of welding</th>\n",
       "      <th>Duration span for gas welding</th>\n",
       "      <th>Duration span for arc welding</th>\n",
       "      <th>Process of welding</th>\n",
       "      <th>Use of safety tools</th>\n",
       "      <th>Type of machine</th>\n",
       "      <th>Machine current range</th>\n",
       "      <th>Any eye issues before work?</th>\n",
       "      <th>Currently having any eye burning issue</th>\n",
       "      <th>Smoking havit</th>\n",
       "      <th>Any eye issues now?</th>\n",
       "    </tr>\n",
       "  </thead>\n",
       "  <tbody>\n",
       "    <tr>\n",
       "      <th>0</th>\n",
       "      <td>test</td>\n",
       "      <td>23</td>\n",
       "      <td>Male(পুরুষ)</td>\n",
       "      <td>Full time welder (পূর্ণকালীন ওয়েল্ডার)</td>\n",
       "      <td>test</td>\n",
       "      <td>Meherpur(মেহেরপুর)</td>\n",
       "      <td>6</td>\n",
       "      <td>Yes(হ্যাঁ)</td>\n",
       "      <td>7</td>\n",
       "      <td>Arc</td>\n",
       "      <td>8.0</td>\n",
       "      <td>jk</td>\n",
       "      <td>Continuous</td>\n",
       "      <td>Glass, Hand gloves</td>\n",
       "      <td>Local welding transformer</td>\n",
       "      <td>120-180 A</td>\n",
       "      <td>Yes(হ্যাঁ)</td>\n",
       "      <td>Yes(হ্যাঁ)</td>\n",
       "      <td>Yes(হ্যাঁ)</td>\n",
       "      <td>Yes(হ্যাঁ)</td>\n",
       "    </tr>\n",
       "    <tr>\n",
       "      <th>1</th>\n",
       "      <td>Md.Rakib Hosen</td>\n",
       "      <td>34</td>\n",
       "      <td>Male(পুরুষ)</td>\n",
       "      <td>Multipurpose worker (বহুমুখী কর্মী)</td>\n",
       "      <td>Rickshaw Ghar</td>\n",
       "      <td>Rajshahi(রাজশাহী)</td>\n",
       "      <td>18</td>\n",
       "      <td>No(না)</td>\n",
       "      <td>10</td>\n",
       "      <td>Arc</td>\n",
       "      <td>1.0</td>\n",
       "      <td>18</td>\n",
       "      <td>Tacking</td>\n",
       "      <td>Glass</td>\n",
       "      <td>Local welding transformer</td>\n",
       "      <td>120-180 A</td>\n",
       "      <td>No(না)</td>\n",
       "      <td>No(না)</td>\n",
       "      <td>No(না)</td>\n",
       "      <td>Yes(হ্যাঁ)</td>\n",
       "    </tr>\n",
       "    <tr>\n",
       "      <th>2</th>\n",
       "      <td>Md.Simul Islam</td>\n",
       "      <td>22</td>\n",
       "      <td>Male(পুরুষ)</td>\n",
       "      <td>Full time welder (পূর্ণকালীন ওয়েল্ডার)</td>\n",
       "      <td>Rojoni Engineering Workshop</td>\n",
       "      <td>Rajshahi(রাজশাহী)</td>\n",
       "      <td>10</td>\n",
       "      <td>No(না)</td>\n",
       "      <td>9</td>\n",
       "      <td>Arc</td>\n",
       "      <td>NaN</td>\n",
       "      <td>10</td>\n",
       "      <td>Tacking</td>\n",
       "      <td>Glass</td>\n",
       "      <td>Both</td>\n",
       "      <td>120-180 A</td>\n",
       "      <td>No(না)</td>\n",
       "      <td>Yes(হ্যাঁ)</td>\n",
       "      <td>Yes(হ্যাঁ)</td>\n",
       "      <td>Yes(হ্যাঁ)</td>\n",
       "    </tr>\n",
       "    <tr>\n",
       "      <th>3</th>\n",
       "      <td>Akter Hosen</td>\n",
       "      <td>45</td>\n",
       "      <td>Male(পুরুষ)</td>\n",
       "      <td>Full time welder (পূর্ণকালীন ওয়েল্ডার)</td>\n",
       "      <td>Rajoni Engineering workshop</td>\n",
       "      <td>Rajshahi(রাজশাহী)</td>\n",
       "      <td>30</td>\n",
       "      <td>No(না)</td>\n",
       "      <td>9</td>\n",
       "      <td>Arc</td>\n",
       "      <td>10.0</td>\n",
       "      <td>20</td>\n",
       "      <td>Tacking</td>\n",
       "      <td>Glass, Hand gloves</td>\n",
       "      <td>Both</td>\n",
       "      <td>120-180 A</td>\n",
       "      <td>No(না)</td>\n",
       "      <td>Yes(হ্যাঁ)</td>\n",
       "      <td>No(না)</td>\n",
       "      <td>Yes(হ্যাঁ)</td>\n",
       "    </tr>\n",
       "    <tr>\n",
       "      <th>4</th>\n",
       "      <td>Md.Roni Islam</td>\n",
       "      <td>24</td>\n",
       "      <td>Male(পুরুষ)</td>\n",
       "      <td>Full time welder (পূর্ণকালীন ওয়েল্ডার)</td>\n",
       "      <td>Bisal Engineering workshop</td>\n",
       "      <td>Rajshahi(রাজশাহী)</td>\n",
       "      <td>10</td>\n",
       "      <td>No(না)</td>\n",
       "      <td>9</td>\n",
       "      <td>Arc</td>\n",
       "      <td>NaN</td>\n",
       "      <td>10</td>\n",
       "      <td>Tacking</td>\n",
       "      <td>Glass</td>\n",
       "      <td>Both</td>\n",
       "      <td>120-180 A</td>\n",
       "      <td>No(না)</td>\n",
       "      <td>Yes(হ্যাঁ)</td>\n",
       "      <td>No(না)</td>\n",
       "      <td>Yes(হ্যাঁ)</td>\n",
       "    </tr>\n",
       "    <tr>\n",
       "      <th>...</th>\n",
       "      <td>...</td>\n",
       "      <td>...</td>\n",
       "      <td>...</td>\n",
       "      <td>...</td>\n",
       "      <td>...</td>\n",
       "      <td>...</td>\n",
       "      <td>...</td>\n",
       "      <td>...</td>\n",
       "      <td>...</td>\n",
       "      <td>...</td>\n",
       "      <td>...</td>\n",
       "      <td>...</td>\n",
       "      <td>...</td>\n",
       "      <td>...</td>\n",
       "      <td>...</td>\n",
       "      <td>...</td>\n",
       "      <td>...</td>\n",
       "      <td>...</td>\n",
       "      <td>...</td>\n",
       "      <td>...</td>\n",
       "    </tr>\n",
       "    <tr>\n",
       "      <th>330</th>\n",
       "      <td>Md.Efad</td>\n",
       "      <td>25</td>\n",
       "      <td>Male(পুরুষ)</td>\n",
       "      <td>Full time welder (পূর্ণকালীন ওয়েল্ডার)</td>\n",
       "      <td>Vai vai E/W</td>\n",
       "      <td>Zamalpur(জামালপুর)</td>\n",
       "      <td>10</td>\n",
       "      <td>No(না)</td>\n",
       "      <td>11</td>\n",
       "      <td>Both</td>\n",
       "      <td>5.0</td>\n",
       "      <td>6</td>\n",
       "      <td>Continuous</td>\n",
       "      <td>Glass, Hand gloves</td>\n",
       "      <td>Both</td>\n",
       "      <td>120-180 A</td>\n",
       "      <td>No(না)</td>\n",
       "      <td>No(না)</td>\n",
       "      <td>Yes(হ্যাঁ)</td>\n",
       "      <td>Yes(হ্যাঁ)</td>\n",
       "    </tr>\n",
       "    <tr>\n",
       "      <th>331</th>\n",
       "      <td>Md. Aminul</td>\n",
       "      <td>16</td>\n",
       "      <td>Male(পুরুষ)</td>\n",
       "      <td>Full time welder (পূর্ণকালীন ওয়েল্ডার)</td>\n",
       "      <td>Vai vai E/W</td>\n",
       "      <td>Zamalpur(জামালপুর)</td>\n",
       "      <td>5</td>\n",
       "      <td>No(না)</td>\n",
       "      <td>8</td>\n",
       "      <td>Both</td>\n",
       "      <td>2.0</td>\n",
       "      <td>6</td>\n",
       "      <td>Continuous</td>\n",
       "      <td>Glass</td>\n",
       "      <td>Circuit</td>\n",
       "      <td>&lt;120 A</td>\n",
       "      <td>Yes(হ্যাঁ)</td>\n",
       "      <td>No(না)</td>\n",
       "      <td>No(না)</td>\n",
       "      <td>Yes(হ্যাঁ)</td>\n",
       "    </tr>\n",
       "    <tr>\n",
       "      <th>332</th>\n",
       "      <td>Abdul halim</td>\n",
       "      <td>18</td>\n",
       "      <td>Male(পুরুষ)</td>\n",
       "      <td>Full time welder (পূর্ণকালীন ওয়েল্ডার)</td>\n",
       "      <td>Halim E/W</td>\n",
       "      <td>Zamalpur(জামালপুর)</td>\n",
       "      <td>8</td>\n",
       "      <td>Yes(হ্যাঁ)</td>\n",
       "      <td>10</td>\n",
       "      <td>Both</td>\n",
       "      <td>2.0</td>\n",
       "      <td>8</td>\n",
       "      <td>Continuous</td>\n",
       "      <td>Glass, Hand gloves</td>\n",
       "      <td>Local welding transformer</td>\n",
       "      <td>&lt;120 A</td>\n",
       "      <td>No(না)</td>\n",
       "      <td>Yes(হ্যাঁ)</td>\n",
       "      <td>Yes(হ্যাঁ)</td>\n",
       "      <td>Yes(হ্যাঁ)</td>\n",
       "    </tr>\n",
       "    <tr>\n",
       "      <th>333</th>\n",
       "      <td>Md. Milon Ahemad</td>\n",
       "      <td>17</td>\n",
       "      <td>Male(পুরুষ)</td>\n",
       "      <td>Full time welder (পূর্ণকালীন ওয়েল্ডার)</td>\n",
       "      <td>Shamim E/W</td>\n",
       "      <td>Zamalpur(জামালপুর)</td>\n",
       "      <td>5</td>\n",
       "      <td>No(না)</td>\n",
       "      <td>9</td>\n",
       "      <td>Arc</td>\n",
       "      <td>5.0</td>\n",
       "      <td>4</td>\n",
       "      <td>Tacking</td>\n",
       "      <td>Glass</td>\n",
       "      <td>Local welding transformer</td>\n",
       "      <td>120-180 A</td>\n",
       "      <td>No(না)</td>\n",
       "      <td>Yes(হ্যাঁ)</td>\n",
       "      <td>No(না)</td>\n",
       "      <td>Yes(হ্যাঁ)</td>\n",
       "    </tr>\n",
       "    <tr>\n",
       "      <th>334</th>\n",
       "      <td>Nurul Islam</td>\n",
       "      <td>55</td>\n",
       "      <td>Male(পুরুষ)</td>\n",
       "      <td>Full time welder (পূর্ণকালীন ওয়েল্ডার)</td>\n",
       "      <td>Shamim E/W</td>\n",
       "      <td>Zamalpur(জামালপুর)</td>\n",
       "      <td>35</td>\n",
       "      <td>No(না)</td>\n",
       "      <td>8</td>\n",
       "      <td>Arc</td>\n",
       "      <td>1.0</td>\n",
       "      <td>8</td>\n",
       "      <td>Continuous</td>\n",
       "      <td>Glass, Without Safety</td>\n",
       "      <td>Local welding transformer</td>\n",
       "      <td>&lt;120 A</td>\n",
       "      <td>Yes(হ্যাঁ)</td>\n",
       "      <td>No(না)</td>\n",
       "      <td>Yes(হ্যাঁ)</td>\n",
       "      <td>Yes(হ্যাঁ)</td>\n",
       "    </tr>\n",
       "  </tbody>\n",
       "</table>\n",
       "<p>335 rows × 20 columns</p>\n",
       "</div>"
      ],
      "text/plain": [
       "                 Name  Age       Gender  \\\n",
       "0                test   23  Male(পুরুষ)   \n",
       "1      Md.Rakib Hosen   34  Male(পুরুষ)   \n",
       "2      Md.Simul Islam   22  Male(পুরুষ)   \n",
       "3         Akter Hosen   45  Male(পুরুষ)   \n",
       "4       Md.Roni Islam   24  Male(পুরুষ)   \n",
       "..                ...  ...          ...   \n",
       "330           Md.Efad   25  Male(পুরুষ)   \n",
       "331        Md. Aminul   16  Male(পুরুষ)   \n",
       "332       Abdul halim   18  Male(পুরুষ)   \n",
       "333  Md. Milon Ahemad   17  Male(পুরুষ)   \n",
       "334       Nurul Islam   55  Male(পুরুষ)   \n",
       "\n",
       "                                  Profession                 Workshop Name  \\\n",
       "0    Full time welder (পূর্ণকালীন ওয়েল্ডার)                          test   \n",
       "1        Multipurpose worker (বহুমুখী কর্মী)                 Rickshaw Ghar   \n",
       "2    Full time welder (পূর্ণকালীন ওয়েল্ডার)  Rojoni Engineering Workshop    \n",
       "3    Full time welder (পূর্ণকালীন ওয়েল্ডার)  Rajoni Engineering workshop    \n",
       "4    Full time welder (পূর্ণকালীন ওয়েল্ডার)    Bisal Engineering workshop   \n",
       "..                                       ...                           ...   \n",
       "330  Full time welder (পূর্ণকালীন ওয়েল্ডার)                   Vai vai E/W   \n",
       "331  Full time welder (পূর্ণকালীন ওয়েল্ডার)                   Vai vai E/W   \n",
       "332  Full time welder (পূর্ণকালীন ওয়েল্ডার)                     Halim E/W   \n",
       "333  Full time welder (পূর্ণকালীন ওয়েল্ডার)                    Shamim E/W   \n",
       "334  Full time welder (পূর্ণকালীন ওয়েল্ডার)                    Shamim E/W   \n",
       "\n",
       "          Work Location  Years of experience Any Previous Training  \\\n",
       "0    Meherpur(মেহেরপুর)                    6            Yes(হ্যাঁ)   \n",
       "1     Rajshahi(রাজশাহী)                   18                No(না)   \n",
       "2     Rajshahi(রাজশাহী)                   10                No(না)   \n",
       "3     Rajshahi(রাজশাহী)                   30                No(না)   \n",
       "4     Rajshahi(রাজশাহী)                   10                No(না)   \n",
       "..                  ...                  ...                   ...   \n",
       "330  Zamalpur(জামালপুর)                   10                No(না)   \n",
       "331  Zamalpur(জামালপুর)                    5                No(না)   \n",
       "332  Zamalpur(জামালপুর)                    8            Yes(হ্যাঁ)   \n",
       "333  Zamalpur(জামালপুর)                    5                No(না)   \n",
       "334  Zamalpur(জামালপুর)                   35                No(না)   \n",
       "\n",
       "     Average work hour(Daily) Type of welding  Duration span for gas welding  \\\n",
       "0                           7             Arc                            8.0   \n",
       "1                          10             Arc                            1.0   \n",
       "2                           9             Arc                            NaN   \n",
       "3                           9             Arc                           10.0   \n",
       "4                           9             Arc                            NaN   \n",
       "..                        ...             ...                            ...   \n",
       "330                        11            Both                            5.0   \n",
       "331                         8            Both                            2.0   \n",
       "332                        10            Both                            2.0   \n",
       "333                         9             Arc                            5.0   \n",
       "334                         8             Arc                            1.0   \n",
       "\n",
       "    Duration span for arc welding Process of welding    Use of safety tools  \\\n",
       "0                              jk         Continuous     Glass, Hand gloves   \n",
       "1                              18            Tacking                  Glass   \n",
       "2                              10            Tacking                  Glass   \n",
       "3                              20            Tacking     Glass, Hand gloves   \n",
       "4                              10            Tacking                  Glass   \n",
       "..                            ...                ...                    ...   \n",
       "330                             6         Continuous     Glass, Hand gloves   \n",
       "331                             6         Continuous                  Glass   \n",
       "332                             8         Continuous     Glass, Hand gloves   \n",
       "333                             4            Tacking                  Glass   \n",
       "334                             8         Continuous  Glass, Without Safety   \n",
       "\n",
       "               Type of machine Machine current range  \\\n",
       "0    Local welding transformer             120-180 A   \n",
       "1    Local welding transformer             120-180 A   \n",
       "2                         Both             120-180 A   \n",
       "3                         Both             120-180 A   \n",
       "4                         Both             120-180 A   \n",
       "..                         ...                   ...   \n",
       "330                       Both             120-180 A   \n",
       "331                    Circuit                <120 A   \n",
       "332  Local welding transformer                <120 A   \n",
       "333  Local welding transformer             120-180 A   \n",
       "334  Local welding transformer                <120 A   \n",
       "\n",
       "    Any eye issues before work? Currently having any eye burning issue  \\\n",
       "0                    Yes(হ্যাঁ)                             Yes(হ্যাঁ)   \n",
       "1                        No(না)                                 No(না)   \n",
       "2                        No(না)                             Yes(হ্যাঁ)   \n",
       "3                        No(না)                             Yes(হ্যাঁ)   \n",
       "4                        No(না)                             Yes(হ্যাঁ)   \n",
       "..                          ...                                    ...   \n",
       "330                      No(না)                                 No(না)   \n",
       "331                  Yes(হ্যাঁ)                                 No(না)   \n",
       "332                      No(না)                             Yes(হ্যাঁ)   \n",
       "333                      No(না)                             Yes(হ্যাঁ)   \n",
       "334                  Yes(হ্যাঁ)                                 No(না)   \n",
       "\n",
       "    Smoking havit Any eye issues now?  \n",
       "0      Yes(হ্যাঁ)          Yes(হ্যাঁ)  \n",
       "1          No(না)          Yes(হ্যাঁ)  \n",
       "2      Yes(হ্যাঁ)          Yes(হ্যাঁ)  \n",
       "3          No(না)          Yes(হ্যাঁ)  \n",
       "4          No(না)          Yes(হ্যাঁ)  \n",
       "..            ...                 ...  \n",
       "330    Yes(হ্যাঁ)          Yes(হ্যাঁ)  \n",
       "331        No(না)          Yes(হ্যাঁ)  \n",
       "332    Yes(হ্যাঁ)          Yes(হ্যাঁ)  \n",
       "333        No(না)          Yes(হ্যাঁ)  \n",
       "334    Yes(হ্যাঁ)          Yes(হ্যাঁ)  \n",
       "\n",
       "[335 rows x 20 columns]"
      ]
     },
     "execution_count": 7,
     "metadata": {},
     "output_type": "execute_result"
    }
   ],
   "source": [
    "eye_burning_issue_data=eye_burning_issue_data.rename(columns=column_mapping)\n",
    "\n",
    "eye_burning_issue_data"
   ]
  },
  {
   "cell_type": "code",
   "execution_count": 8,
   "id": "f5a99749",
   "metadata": {},
   "outputs": [
    {
     "data": {
      "text/plain": [
       "Index(['Name', 'Age', 'Gender', 'Profession', 'Workshop Name', 'Work Location',\n",
       "       'Years of experience', 'Any Previous Training',\n",
       "       'Average work hour(Daily)', 'Type of welding',\n",
       "       'Duration span for gas welding', 'Duration span for arc welding',\n",
       "       'Process of welding', 'Use of safety tools', 'Type of machine',\n",
       "       'Machine current range', 'Any eye issues before work?',\n",
       "       'Currently having any eye burning issue', 'Smoking havit',\n",
       "       'Any eye issues now?'],\n",
       "      dtype='object')"
      ]
     },
     "execution_count": 8,
     "metadata": {},
     "output_type": "execute_result"
    }
   ],
   "source": [
    "eye_burning_issue_data.columns"
   ]
  },
  {
   "cell_type": "markdown",
   "id": "22db047b",
   "metadata": {},
   "source": [
    "### Work duration relation with eye burning issue"
   ]
  },
  {
   "cell_type": "code",
   "execution_count": 9,
   "id": "cf19d550",
   "metadata": {},
   "outputs": [
    {
     "name": "stderr",
     "output_type": "stream",
     "text": [
      "C:\\Users\\Mahbub\\anaconda3\\lib\\site-packages\\IPython\\core\\pylabtools.py:151: UserWarning: Glyph 2472 (\\N{BENGALI LETTER NA}) missing from current font.\n",
      "  fig.canvas.print_figure(bytes_io, **kw)\n",
      "C:\\Users\\Mahbub\\anaconda3\\lib\\site-packages\\IPython\\core\\pylabtools.py:151: UserWarning: Matplotlib currently does not support Bengali natively.\n",
      "  fig.canvas.print_figure(bytes_io, **kw)\n",
      "C:\\Users\\Mahbub\\anaconda3\\lib\\site-packages\\IPython\\core\\pylabtools.py:151: UserWarning: Glyph 2494 (\\N{BENGALI VOWEL SIGN AA}) missing from current font.\n",
      "  fig.canvas.print_figure(bytes_io, **kw)\n",
      "C:\\Users\\Mahbub\\anaconda3\\lib\\site-packages\\IPython\\core\\pylabtools.py:151: UserWarning: Glyph 2489 (\\N{BENGALI LETTER HA}) missing from current font.\n",
      "  fig.canvas.print_figure(bytes_io, **kw)\n",
      "C:\\Users\\Mahbub\\anaconda3\\lib\\site-packages\\IPython\\core\\pylabtools.py:151: UserWarning: Glyph 2509 (\\N{BENGALI SIGN VIRAMA}) missing from current font.\n",
      "  fig.canvas.print_figure(bytes_io, **kw)\n",
      "C:\\Users\\Mahbub\\anaconda3\\lib\\site-packages\\IPython\\core\\pylabtools.py:151: UserWarning: Glyph 2479 (\\N{BENGALI LETTER YA}) missing from current font.\n",
      "  fig.canvas.print_figure(bytes_io, **kw)\n",
      "C:\\Users\\Mahbub\\anaconda3\\lib\\site-packages\\IPython\\core\\pylabtools.py:151: UserWarning: Glyph 2433 (\\N{BENGALI SIGN CANDRABINDU}) missing from current font.\n",
      "  fig.canvas.print_figure(bytes_io, **kw)\n"
     ]
    },
    {
     "data": {
      "image/png": "[encoded data removed]",
      "text/plain": [
       "<Figure size 640x480 with 1 Axes>"
      ]
     },
     "metadata": {},
     "output_type": "display_data"
    }
   ],
   "source": [
    "grouped_data = eye_burning_issue_data.groupby('Average work hour(Daily)')['Currently having any eye burning issue'].value_counts().unstack()\n",
    "\n",
    "grouped_data.plot(kind='bar', stacked=True)\n",
    "plt.xlabel('Duration of Work')\n",
    "plt.ylabel('Count')\n",
    "plt.title('Eye Burning Issues by Duration of Work')\n",
    "plt.legend(title='Eye Burning Issues')\n",
    "plt.show()\n"
   ]
  },
  {
   "cell_type": "markdown",
   "id": "a9ebdf06",
   "metadata": {},
   "source": [
    "### Are there any specific types of welding that are more likely to cause eye burning issues?"
   ]
  },
  {
   "cell_type": "code",
   "execution_count": 10,
   "id": "837dd1f5",
   "metadata": {},
   "outputs": [
    {
     "data": {
      "text/html": [
       "<div>\n",
       "<style scoped>\n",
       "    .dataframe tbody tr th:only-of-type {\n",
       "        vertical-align: middle;\n",
       "    }\n",
       "\n",
       "    .dataframe tbody tr th {\n",
       "        vertical-align: top;\n",
       "    }\n",
       "\n",
       "    .dataframe thead th {\n",
       "        text-align: right;\n",
       "    }\n",
       "</style>\n",
       "<table border=\"1\" class=\"dataframe\">\n",
       "  <thead>\n",
       "    <tr style=\"text-align: right;\">\n",
       "      <th>Currently having any eye burning issue</th>\n",
       "      <th>No(না)</th>\n",
       "      <th>Yes(হ্যাঁ)</th>\n",
       "    </tr>\n",
       "    <tr>\n",
       "      <th>Type of welding</th>\n",
       "      <th></th>\n",
       "      <th></th>\n",
       "    </tr>\n",
       "  </thead>\n",
       "  <tbody>\n",
       "    <tr>\n",
       "      <th>Arc</th>\n",
       "      <td>66.0</td>\n",
       "      <td>167.0</td>\n",
       "    </tr>\n",
       "    <tr>\n",
       "      <th>Both</th>\n",
       "      <td>88.0</td>\n",
       "      <td>10.0</td>\n",
       "    </tr>\n",
       "    <tr>\n",
       "      <th>Gas</th>\n",
       "      <td>NaN</td>\n",
       "      <td>4.0</td>\n",
       "    </tr>\n",
       "  </tbody>\n",
       "</table>\n",
       "</div>"
      ],
      "text/plain": [
       "Currently having any eye burning issue  No(না)  Yes(হ্যাঁ)\n",
       "Type of welding                                           \n",
       "Arc                                       66.0       167.0\n",
       "Both                                      88.0        10.0\n",
       "Gas                                        NaN         4.0"
      ]
     },
     "execution_count": 10,
     "metadata": {},
     "output_type": "execute_result"
    }
   ],
   "source": [
    "grouped_data = eye_burning_issue_data.groupby('Type of welding')['Currently having any eye burning issue'].value_counts().unstack()\n",
    "grouped_data"
   ]
  },
  {
   "cell_type": "code",
   "execution_count": 11,
   "id": "3fb1ce03",
   "metadata": {},
   "outputs": [
    {
     "name": "stderr",
     "output_type": "stream",
     "text": [
      "C:\\Users\\Mahbub\\anaconda3\\lib\\site-packages\\IPython\\core\\pylabtools.py:151: UserWarning: Glyph 2472 (\\N{BENGALI LETTER NA}) missing from current font.\n",
      "  fig.canvas.print_figure(bytes_io, **kw)\n",
      "C:\\Users\\Mahbub\\anaconda3\\lib\\site-packages\\IPython\\core\\pylabtools.py:151: UserWarning: Matplotlib currently does not support Bengali natively.\n",
      "  fig.canvas.print_figure(bytes_io, **kw)\n",
      "C:\\Users\\Mahbub\\anaconda3\\lib\\site-packages\\IPython\\core\\pylabtools.py:151: UserWarning: Glyph 2494 (\\N{BENGALI VOWEL SIGN AA}) missing from current font.\n",
      "  fig.canvas.print_figure(bytes_io, **kw)\n",
      "C:\\Users\\Mahbub\\anaconda3\\lib\\site-packages\\IPython\\core\\pylabtools.py:151: UserWarning: Glyph 2489 (\\N{BENGALI LETTER HA}) missing from current font.\n",
      "  fig.canvas.print_figure(bytes_io, **kw)\n",
      "C:\\Users\\Mahbub\\anaconda3\\lib\\site-packages\\IPython\\core\\pylabtools.py:151: UserWarning: Glyph 2509 (\\N{BENGALI SIGN VIRAMA}) missing from current font.\n",
      "  fig.canvas.print_figure(bytes_io, **kw)\n",
      "C:\\Users\\Mahbub\\anaconda3\\lib\\site-packages\\IPython\\core\\pylabtools.py:151: UserWarning: Glyph 2479 (\\N{BENGALI LETTER YA}) missing from current font.\n",
      "  fig.canvas.print_figure(bytes_io, **kw)\n",
      "C:\\Users\\Mahbub\\anaconda3\\lib\\site-packages\\IPython\\core\\pylabtools.py:151: UserWarning: Glyph 2433 (\\N{BENGALI SIGN CANDRABINDU}) missing from current font.\n",
      "  fig.canvas.print_figure(bytes_io, **kw)\n"
     ]
    },
    {
     "data": {
      "image/png": "[encoded data removed]",
      "text/plain": [
       "<Figure size 640x480 with 1 Axes>"
      ]
     },
     "metadata": {},
     "output_type": "display_data"
    }
   ],
   "source": [
    "percentages = grouped_data.div(grouped_data.sum(axis=1), axis=0) * 100\n",
    "\n",
    "percentages.plot(kind='bar', stacked=True,width=0.5)\n",
    "plt.xlabel('Type of Welding')\n",
    "plt.ylabel('Percentage')\n",
    "plt.title('Percentage of Eye Burning Issues by Welding Type')\n",
    "plt.legend(loc='upper right')\n",
    "plt.show()"
   ]
  },
  {
   "cell_type": "markdown",
   "id": "ca3e0102",
   "metadata": {},
   "source": [
    "### Does the use of safety tools have a significant impact on reducing eye burning issues?"
   ]
  },
  {
   "cell_type": "code",
   "execution_count": 12,
   "id": "c927c1a9",
   "metadata": {},
   "outputs": [
    {
     "data": {
      "text/html": [
       "<div>\n",
       "<style scoped>\n",
       "    .dataframe tbody tr th:only-of-type {\n",
       "        vertical-align: middle;\n",
       "    }\n",
       "\n",
       "    .dataframe tbody tr th {\n",
       "        vertical-align: top;\n",
       "    }\n",
       "\n",
       "    .dataframe thead th {\n",
       "        text-align: right;\n",
       "    }\n",
       "</style>\n",
       "<table border=\"1\" class=\"dataframe\">\n",
       "  <thead>\n",
       "    <tr style=\"text-align: right;\">\n",
       "      <th>Currently having any eye burning issue</th>\n",
       "      <th>No(না)</th>\n",
       "      <th>Yes(হ্যাঁ)</th>\n",
       "    </tr>\n",
       "    <tr>\n",
       "      <th>Use of safety tools</th>\n",
       "      <th></th>\n",
       "      <th></th>\n",
       "    </tr>\n",
       "  </thead>\n",
       "  <tbody>\n",
       "    <tr>\n",
       "      <th>Glass</th>\n",
       "      <td>84.0</td>\n",
       "      <td>170.0</td>\n",
       "    </tr>\n",
       "    <tr>\n",
       "      <th>Glass, Hand gloves</th>\n",
       "      <td>1.0</td>\n",
       "      <td>6.0</td>\n",
       "    </tr>\n",
       "    <tr>\n",
       "      <th>Glass, Helmet</th>\n",
       "      <td>38.0</td>\n",
       "      <td>4.0</td>\n",
       "    </tr>\n",
       "    <tr>\n",
       "      <th>Glass, Helmet, Hand gloves</th>\n",
       "      <td>1.0</td>\n",
       "      <td>NaN</td>\n",
       "    </tr>\n",
       "    <tr>\n",
       "      <th>Glass, Helmet, Hand gloves, Apron</th>\n",
       "      <td>1.0</td>\n",
       "      <td>NaN</td>\n",
       "    </tr>\n",
       "    <tr>\n",
       "      <th>Glass, Without Safety</th>\n",
       "      <td>1.0</td>\n",
       "      <td>NaN</td>\n",
       "    </tr>\n",
       "    <tr>\n",
       "      <th>Hand gloves</th>\n",
       "      <td>2.0</td>\n",
       "      <td>1.0</td>\n",
       "    </tr>\n",
       "    <tr>\n",
       "      <th>Helmet</th>\n",
       "      <td>3.0</td>\n",
       "      <td>NaN</td>\n",
       "    </tr>\n",
       "    <tr>\n",
       "      <th>Without Safety</th>\n",
       "      <td>23.0</td>\n",
       "      <td>NaN</td>\n",
       "    </tr>\n",
       "  </tbody>\n",
       "</table>\n",
       "</div>"
      ],
      "text/plain": [
       "Currently having any eye burning issue  No(না)  Yes(হ্যাঁ)\n",
       "Use of safety tools                                       \n",
       "Glass                                     84.0       170.0\n",
       "Glass, Hand gloves                         1.0         6.0\n",
       "Glass, Helmet                             38.0         4.0\n",
       "Glass, Helmet, Hand gloves                 1.0         NaN\n",
       "Glass, Helmet, Hand gloves, Apron          1.0         NaN\n",
       "Glass, Without Safety                      1.0         NaN\n",
       "Hand gloves                                2.0         1.0\n",
       "Helmet                                     3.0         NaN\n",
       "Without Safety                            23.0         NaN"
      ]
     },
     "execution_count": 12,
     "metadata": {},
     "output_type": "execute_result"
    }
   ],
   "source": [
    "grouped_data = eye_burning_issue_data.groupby('Use of safety tools')['Currently having any eye burning issue'].value_counts().unstack()\n",
    "grouped_data"
   ]
  },
  {
   "cell_type": "code",
   "execution_count": 13,
   "id": "7c53fe49",
   "metadata": {},
   "outputs": [
    {
     "name": "stderr",
     "output_type": "stream",
     "text": [
      "C:\\Users\\Mahbub\\anaconda3\\lib\\site-packages\\IPython\\core\\pylabtools.py:151: UserWarning: Glyph 2472 (\\N{BENGALI LETTER NA}) missing from current font.\n",
      "  fig.canvas.print_figure(bytes_io, **kw)\n",
      "C:\\Users\\Mahbub\\anaconda3\\lib\\site-packages\\IPython\\core\\pylabtools.py:151: UserWarning: Matplotlib currently does not support Bengali natively.\n",
      "  fig.canvas.print_figure(bytes_io, **kw)\n",
      "C:\\Users\\Mahbub\\anaconda3\\lib\\site-packages\\IPython\\core\\pylabtools.py:151: UserWarning: Glyph 2494 (\\N{BENGALI VOWEL SIGN AA}) missing from current font.\n",
      "  fig.canvas.print_figure(bytes_io, **kw)\n",
      "C:\\Users\\Mahbub\\anaconda3\\lib\\site-packages\\IPython\\core\\pylabtools.py:151: UserWarning: Glyph 2489 (\\N{BENGALI LETTER HA}) missing from current font.\n",
      "  fig.canvas.print_figure(bytes_io, **kw)\n",
      "C:\\Users\\Mahbub\\anaconda3\\lib\\site-packages\\IPython\\core\\pylabtools.py:151: UserWarning: Glyph 2509 (\\N{BENGALI SIGN VIRAMA}) missing from current font.\n",
      "  fig.canvas.print_figure(bytes_io, **kw)\n",
      "C:\\Users\\Mahbub\\anaconda3\\lib\\site-packages\\IPython\\core\\pylabtools.py:151: UserWarning: Glyph 2479 (\\N{BENGALI LETTER YA}) missing from current font.\n",
      "  fig.canvas.print_figure(bytes_io, **kw)\n",
      "C:\\Users\\Mahbub\\anaconda3\\lib\\site-packages\\IPython\\core\\pylabtools.py:151: UserWarning: Glyph 2433 (\\N{BENGALI SIGN CANDRABINDU}) missing from current font.\n",
      "  fig.canvas.print_figure(bytes_io, **kw)\n"
     ]
    },
    {
     "data": {
      "image/png": "[encoded data removed]",
      "text/plain": [
       "<Figure size 640x480 with 1 Axes>"
      ]
     },
     "metadata": {},
     "output_type": "display_data"
    }
   ],
   "source": [
    "percentages = grouped_data.div(grouped_data.sum(axis=1), axis=0) * 100\n",
    "\n",
    "percentages.plot(kind='bar', stacked=True)\n",
    "plt.xlabel('Use of Safety Tools')\n",
    "plt.ylabel('Percentage')\n",
    "plt.title('Percentage of Eye Burning Issues by Safety Tool Usage')\n",
    "plt.legend(title='Eye Burning Issues')\n",
    "plt.show()"
   ]
  },
  {
   "cell_type": "markdown",
   "id": "fc450260",
   "metadata": {},
   "source": [
    "### Are there any differences in the occurrence of eye burning issues based on the average work hours per day?"
   ]
  },
  {
   "cell_type": "code",
   "execution_count": 14,
   "id": "3d9fd8e7",
   "metadata": {},
   "outputs": [
    {
     "data": {
      "text/plain": [
       "Index(['Name', 'Age', 'Gender', 'Profession', 'Workshop Name', 'Work Location',\n",
       "       'Years of experience', 'Any Previous Training',\n",
       "       'Average work hour(Daily)', 'Type of welding',\n",
       "       'Duration span for gas welding', 'Duration span for arc welding',\n",
       "       'Process of welding', 'Use of safety tools', 'Type of machine',\n",
       "       'Machine current range', 'Any eye issues before work?',\n",
       "       'Currently having any eye burning issue', 'Smoking havit',\n",
       "       'Any eye issues now?'],\n",
       "      dtype='object')"
      ]
     },
     "execution_count": 14,
     "metadata": {},
     "output_type": "execute_result"
    }
   ],
   "source": [
    "eye_burning_issue_data.columns"
   ]
  },
  {
   "cell_type": "code",
   "execution_count": 15,
   "id": "320f6b99",
   "metadata": {},
   "outputs": [
    {
     "data": {
      "text/plain": [
       "9.668508287292818"
      ]
     },
     "execution_count": 15,
     "metadata": {},
     "output_type": "execute_result"
    }
   ],
   "source": [
    "issue_avg_wh = eye_burning_issue_data[eye_burning_issue_data['Currently having any eye burning issue'] == 'Yes(হ্যাঁ)']['Average work hour(Daily)'].mean()\n",
    "issue_avg_wh"
   ]
  },
  {
   "cell_type": "markdown",
   "id": "7f0da2e1",
   "metadata": {},
   "source": [
    "So, People who are currently having eye burning issue have avg working hour of 9.67 hours"
   ]
  },
  {
   "cell_type": "code",
   "execution_count": 16,
   "id": "c8243503",
   "metadata": {},
   "outputs": [
    {
     "data": {
      "text/plain": [
       "6.896103896103896"
      ]
     },
     "execution_count": 16,
     "metadata": {},
     "output_type": "execute_result"
    }
   ],
   "source": [
    "not_issue_avg_wh = eye_burning_issue_data[eye_burning_issue_data['Currently having any eye burning issue'] == 'No(না)']['Average work hour(Daily)'].mean()\n",
    "not_issue_avg_wh"
   ]
  },
  {
   "cell_type": "markdown",
   "id": "91706e59",
   "metadata": {},
   "source": [
    "So, people who are not having any eye burning issue have avg working hour of 6.9 hours."
   ]
  },
  {
   "cell_type": "code",
   "execution_count": 23,
   "id": "e1d35942",
   "metadata": {},
   "outputs": [
    {
     "data": {
      "image/png": "[encoded data removed]",
      "text/plain": [
       "<Figure size 640x480 with 1 Axes>"
      ]
     },
     "metadata": {},
     "output_type": "display_data"
    }
   ],
   "source": [
    "\n",
    "arr = {'category': ['Have Issue', 'Do not Have Issue'],\n",
    "       'value': [issue_avg_wh, not_issue_avg_wh]}\n",
    "\n",
    "plt.bar(arr['category'], arr['value'],color='purple')\n",
    "plt.ylabel('Average working hour')\n",
    "plt.yticks(range(1, 11))\n",
    "plt.title('Eye burning issue relation with working hours')\n",
    "\n",
    "plt.show()\n"
   ]
  },
  {
   "cell_type": "markdown",
   "id": "bca44be1",
   "metadata": {},
   "source": [
    "### Are individuals with previous training less likely to experience eye burning issues?"
   ]
  },
  {
   "cell_type": "code",
   "execution_count": 56,
   "id": "80cf2f3a",
   "metadata": {},
   "outputs": [
    {
     "data": {
      "text/plain": [
       "181"
      ]
     },
     "execution_count": 56,
     "metadata": {},
     "output_type": "execute_result"
    }
   ],
   "source": [
    "eye_burning_issue_data[eye_burning_issue_data['Currently having any eye burning issue']=='Yes(হ্যাঁ)']['Currently having any eye burning issue'].count()"
   ]
  },
  {
   "cell_type": "code",
   "execution_count": 38,
   "id": "ba87fcdd",
   "metadata": {},
   "outputs": [],
   "source": [
    "eye_burning_issues_with_previous_training = eye_burning_issue_data[(eye_burning_issue_data['Any Previous Training'] == 'Yes(হ্যাঁ)') & (eye_burning_issue_data['Currently having any eye burning issue']=='Yes(হ্যাঁ)')]"
   ]
  },
  {
   "cell_type": "code",
   "execution_count": 51,
   "id": "2a449ec1",
   "metadata": {},
   "outputs": [
    {
     "data": {
      "text/plain": [
       "6"
      ]
     },
     "execution_count": 51,
     "metadata": {},
     "output_type": "execute_result"
    }
   ],
   "source": [
    "Num_of_people_who_have_prev_training_but_has_eye_burning_issue = len(eye_burning_issues_with_previous_training)\n",
    "Num_of_people_who_have_prev_training_but_has_eye_burning_issue"
   ]
  },
  {
   "cell_type": "markdown",
   "id": "aa59f86d",
   "metadata": {},
   "source": [
    "6 people has eye burning issues among 181 people who previously got training"
   ]
  },
  {
   "cell_type": "code",
   "execution_count": 58,
   "id": "443b671c",
   "metadata": {},
   "outputs": [],
   "source": [
    "No_eye_burning_issues_with_previous_training = eye_burning_issue_data[(eye_burning_issue_data['Any Previous Training'] == 'No(না)') & (eye_burning_issue_data['Currently having any eye burning issue']=='Yes(হ্যাঁ)')]"
   ]
  },
  {
   "cell_type": "code",
   "execution_count": 59,
   "id": "df2a0ed9",
   "metadata": {},
   "outputs": [
    {
     "data": {
      "text/plain": [
       "164"
      ]
     },
     "execution_count": 59,
     "metadata": {},
     "output_type": "execute_result"
    }
   ],
   "source": [
    "Num_of_people_who_do_not_have_prev_training_but_has_eye_burning_issue =len(No_eye_burning_issues_with_previous_training)\n",
    "Num_of_people_who_do_not_have_prev_training_but_has_eye_burning_issue"
   ]
  },
  {
   "cell_type": "markdown",
   "id": "4936ee12",
   "metadata": {},
   "source": [
    "164 people has eye burning issues among 181 people who didn't get any training"
   ]
  },
  {
   "cell_type": "code",
   "execution_count": 50,
   "id": "b5746c67",
   "metadata": {},
   "outputs": [
    {
     "data": {
      "image/png": "[encoded data removed]",
      "text/plain": [
       "<Figure size 640x480 with 1 Axes>"
      ]
     },
     "metadata": {},
     "output_type": "display_data"
    }
   ],
   "source": [
    "arr = {'category': ['Trained', 'Not Trained'],\n",
    "       'value': [Num_of_people_who_have_prev_training_but_has_eye_burning_issue, Num_of_people_who_do_not_have_prev_training_but_has_eye_burning_issue]}\n",
    "\n",
    "plt.bar(arr['category'], arr['value'],color='purple')\n",
    "plt.ylabel('Number of people')\n",
    "plt.yticks(range(0,201,20))\n",
    "plt.title('Eye burning issue relation with previous training')\n",
    "\n",
    "plt.show()"
   ]
  },
  {
   "cell_type": "markdown",
   "id": "efb0ad9b",
   "metadata": {},
   "source": [
    "### Does the type of machine used for welding affect the likelihood of experiencing eye burning issues?"
   ]
  },
  {
   "cell_type": "code",
   "execution_count": 79,
   "id": "082d5cd8",
   "metadata": {},
   "outputs": [],
   "source": [
    "machine_type = eye_burning_issue_data['Type of machine'].value_counts()"
   ]
  },
  {
   "cell_type": "code",
   "execution_count": 80,
   "id": "157b7f2c",
   "metadata": {},
   "outputs": [
    {
     "data": {
      "text/plain": [
       "Both                         231\n",
       "Local welding transformer     97\n",
       "Circuit                        7\n",
       "Name: Type of machine, dtype: int64"
      ]
     },
     "execution_count": 80,
     "metadata": {},
     "output_type": "execute_result"
    }
   ],
   "source": [
    "machine_type"
   ]
  },
  {
   "cell_type": "markdown",
   "id": "07b52253",
   "metadata": {},
   "source": [
    "### % of people of who faced eye burning issues while working on Local Welding transformer"
   ]
  },
  {
   "cell_type": "code",
   "execution_count": 88,
   "id": "92c4b0aa",
   "metadata": {},
   "outputs": [
    {
     "data": {
      "text/plain": [
       "68"
      ]
     },
     "execution_count": 88,
     "metadata": {},
     "output_type": "execute_result"
    }
   ],
   "source": [
    "num_of_people = len(eye_burning_issue_data[(eye_burning_issue_data['Type of machine'] == 'Local welding transformer') & (eye_burning_issue_data['Currently having any eye burning issue']=='Yes(হ্যাঁ)')])\n",
    "num_of_people"
   ]
  },
  {
   "cell_type": "code",
   "execution_count": 91,
   "id": "e755dd9b",
   "metadata": {},
   "outputs": [
    {
     "data": {
      "text/plain": [
       "97"
      ]
     },
     "execution_count": 91,
     "metadata": {},
     "output_type": "execute_result"
    }
   ],
   "source": [
    "total_num = len(eye_burning_issue_data[eye_burning_issue_data['Type of machine'] == 'Local welding transformer'])\n",
    "total_num"
   ]
  },
  {
   "cell_type": "code",
   "execution_count": 93,
   "id": "5fbec29b",
   "metadata": {},
   "outputs": [
    {
     "data": {
      "text/plain": [
       "70.10309278350515"
      ]
     },
     "execution_count": 93,
     "metadata": {},
     "output_type": "execute_result"
    }
   ],
   "source": [
    "percentage1 = (68/97)*100\n",
    "percentage1"
   ]
  },
  {
   "cell_type": "markdown",
   "id": "20a241eb",
   "metadata": {},
   "source": [
    "70.1% people faced eye burning issue while working on Local Welding transformer."
   ]
  },
  {
   "cell_type": "markdown",
   "id": "47eb9d08",
   "metadata": {},
   "source": [
    "### % of people of who faced eye burning issues while working on Circuit"
   ]
  },
  {
   "cell_type": "code",
   "execution_count": 94,
   "id": "0e2d94e8",
   "metadata": {},
   "outputs": [
    {
     "data": {
      "text/plain": [
       "5"
      ]
     },
     "execution_count": 94,
     "metadata": {},
     "output_type": "execute_result"
    }
   ],
   "source": [
    "num_of_people = len(eye_burning_issue_data[(eye_burning_issue_data['Type of machine'] == 'Circuit') & (eye_burning_issue_data['Currently having any eye burning issue']=='Yes(হ্যাঁ)')])\n",
    "num_of_people"
   ]
  },
  {
   "cell_type": "code",
   "execution_count": 95,
   "id": "7129b892",
   "metadata": {},
   "outputs": [
    {
     "data": {
      "text/plain": [
       "7"
      ]
     },
     "execution_count": 95,
     "metadata": {},
     "output_type": "execute_result"
    }
   ],
   "source": [
    "total_num = len(eye_burning_issue_data[eye_burning_issue_data['Type of machine'] == 'Circuit'])\n",
    "total_num"
   ]
  },
  {
   "cell_type": "code",
   "execution_count": 100,
   "id": "a2ccf19c",
   "metadata": {},
   "outputs": [
    {
     "data": {
      "text/plain": [
       "71.42857142857143"
      ]
     },
     "execution_count": 100,
     "metadata": {},
     "output_type": "execute_result"
    }
   ],
   "source": [
    "percentage2 = (5/7)*100\n",
    "percentage2"
   ]
  },
  {
   "cell_type": "markdown",
   "id": "bb677b0d",
   "metadata": {},
   "source": [
    "71.4% people faced eye burning issue while working on Circuit."
   ]
  },
  {
   "cell_type": "markdown",
   "id": "8a3f27d1",
   "metadata": {},
   "source": [
    "### % of people of who faced eye burning issues while working on both  Local Welding transformer and Circuit"
   ]
  },
  {
   "cell_type": "code",
   "execution_count": 98,
   "id": "46e6bd6a",
   "metadata": {},
   "outputs": [
    {
     "data": {
      "text/plain": [
       "108"
      ]
     },
     "execution_count": 98,
     "metadata": {},
     "output_type": "execute_result"
    }
   ],
   "source": [
    "num_of_people = len(eye_burning_issue_data[(eye_burning_issue_data['Type of machine'] == 'Both') & (eye_burning_issue_data['Currently having any eye burning issue']=='Yes(হ্যাঁ)')])\n",
    "num_of_people"
   ]
  },
  {
   "cell_type": "code",
   "execution_count": 99,
   "id": "7ddd15e6",
   "metadata": {},
   "outputs": [
    {
     "data": {
      "text/plain": [
       "231"
      ]
     },
     "execution_count": 99,
     "metadata": {},
     "output_type": "execute_result"
    }
   ],
   "source": [
    "total_num = len(eye_burning_issue_data[eye_burning_issue_data['Type of machine'] == 'Both'])\n",
    "total_num"
   ]
  },
  {
   "cell_type": "code",
   "execution_count": 102,
   "id": "4f93f2cf",
   "metadata": {},
   "outputs": [
    {
     "data": {
      "text/plain": [
       "46.75324675324675"
      ]
     },
     "execution_count": 102,
     "metadata": {},
     "output_type": "execute_result"
    }
   ],
   "source": [
    "percentage3 = (108/231)*100\n",
    "percentage3 "
   ]
  },
  {
   "cell_type": "markdown",
   "id": "db00abd8",
   "metadata": {},
   "source": [
    "46.7% people faced eye burning issue while working on both  Local Welding transformer and Circuit¶"
   ]
  },
  {
   "cell_type": "markdown",
   "id": "437edbb7",
   "metadata": {},
   "source": [
    "### Number of people who faced eye burning issue while working on different types of machine"
   ]
  },
  {
   "cell_type": "code",
   "execution_count": 111,
   "id": "88af2f2c",
   "metadata": {},
   "outputs": [
    {
     "name": "stderr",
     "output_type": "stream",
     "text": [
      "C:\\Users\\Mahbub\\anaconda3\\lib\\site-packages\\IPython\\core\\pylabtools.py:151: UserWarning: Glyph 2472 (\\N{BENGALI LETTER NA}) missing from current font.\n",
      "  fig.canvas.print_figure(bytes_io, **kw)\n",
      "C:\\Users\\Mahbub\\anaconda3\\lib\\site-packages\\IPython\\core\\pylabtools.py:151: UserWarning: Matplotlib currently does not support Bengali natively.\n",
      "  fig.canvas.print_figure(bytes_io, **kw)\n",
      "C:\\Users\\Mahbub\\anaconda3\\lib\\site-packages\\IPython\\core\\pylabtools.py:151: UserWarning: Glyph 2494 (\\N{BENGALI VOWEL SIGN AA}) missing from current font.\n",
      "  fig.canvas.print_figure(bytes_io, **kw)\n",
      "C:\\Users\\Mahbub\\anaconda3\\lib\\site-packages\\IPython\\core\\pylabtools.py:151: UserWarning: Glyph 2489 (\\N{BENGALI LETTER HA}) missing from current font.\n",
      "  fig.canvas.print_figure(bytes_io, **kw)\n",
      "C:\\Users\\Mahbub\\anaconda3\\lib\\site-packages\\IPython\\core\\pylabtools.py:151: UserWarning: Glyph 2509 (\\N{BENGALI SIGN VIRAMA}) missing from current font.\n",
      "  fig.canvas.print_figure(bytes_io, **kw)\n",
      "C:\\Users\\Mahbub\\anaconda3\\lib\\site-packages\\IPython\\core\\pylabtools.py:151: UserWarning: Glyph 2479 (\\N{BENGALI LETTER YA}) missing from current font.\n",
      "  fig.canvas.print_figure(bytes_io, **kw)\n",
      "C:\\Users\\Mahbub\\anaconda3\\lib\\site-packages\\IPython\\core\\pylabtools.py:151: UserWarning: Glyph 2433 (\\N{BENGALI SIGN CANDRABINDU}) missing from current font.\n",
      "  fig.canvas.print_figure(bytes_io, **kw)\n"
     ]
    },
    {
     "data": {
      "image/png": "[encoded data removed]",
      "text/plain": [
       "<Figure size 640x480 with 1 Axes>"
      ]
     },
     "metadata": {},
     "output_type": "display_data"
    }
   ],
   "source": [
    "df = eye_burning_issue_data[['Type of machine', 'Currently having any eye burning issue']]\n",
    "\n",
    "grouped_df = df.groupby(['Type of machine', 'Currently having any eye burning issue']).size().unstack()\n",
    "\n",
    "grouped_df.plot(kind='bar', stacked=True)\n",
    "\n",
    "plt.xlabel('Type of Machine')\n",
    "plt.ylabel('Number of People')\n",
    "plt.title('Eye Burning Issues by Machine Type')\n",
    "plt.xticks(rotation=55)  \n",
    "plt.yticks(range(1,300,20))\n",
    "plt.legend(title='Eye Burning Issue')\n",
    "plt.show()\n"
   ]
  },
  {
   "cell_type": "code",
   "execution_count": null,
   "id": "3827b174",
   "metadata": {},
   "outputs": [],
   "source": []
  }
 ],
 "metadata": {
  "kernelspec": {
   "display_name": "Python 3 (ipykernel)",
   "language": "python",
   "name": "python3"
  },
  "language_info": {
   "codemirror_mode": {
    "name": "ipython",
    "version": 3
   },
   "file_extension": ".py",
   "mimetype": "text/x-python",
   "name": "python",
   "nbconvert_exporter": "python",
   "pygments_lexer": "ipython3",
   "version": "3.9.13"
  }
 },
 "nbformat": 4,
 "nbformat_minor": 5
}
